{
 "cells": [
  {
   "cell_type": "markdown",
   "metadata": {},
   "source": [
    "# Context:\n",
    "\n",
    "Leveraging customer information is paramount for most businesses. In the case of an\n",
    "insurance company, attributes of customers like the ones mentioned below can be crucial\n",
    "in making business decisions. Hence, knowing to explore and generate value out of such\n",
    "data can be an invaluable skill to have.\n",
    "\n",
    "# Attribute Information:\n",
    "\n",
    "age: age of primary beneficiary\n",
    "\n",
    "sex: insurance contractor gender, female, male\n",
    "\n",
    "bmi: Body mass index, providing an understanding of body, weights that are relatively high or low relative to height, objective index of body weight (kg / m ^ 2) using the ratio of height to weight, ideally 18.5 to 24.9\n",
    "\n",
    "children: Number of children covered by health insurance / Number of dependents\n",
    "\n",
    "smoker: Smoking\n",
    "\n",
    "region: the beneficiary's residential area in the US, northeast, southeast, southwest, northwest.\n",
    "\n",
    "charges: Individual medical costs billed by health insurance."
   ]
  },
  {
   "cell_type": "markdown",
   "metadata": {},
   "source": [
    "## 1. Import libraries"
   ]
  },
  {
   "cell_type": "code",
   "execution_count": 2,
   "metadata": {},
   "outputs": [],
   "source": [
    "import numpy as np\n",
    "import pandas as pd\n",
    "import matplotlib.pyplot as plt\n",
    "%matplotlib inline\n",
    "import seaborn as sns\n",
    "sns.set(color_codes=True)\n",
    "from scipy.stats import ttest_ind #required to perform 2-sample t-test\n",
    "from statsmodels.stats.proportion import proportions_ztest # required to perform test of proportions\n",
    "#required to perform ANOVA test\n",
    "import statsmodels.api         as     sm\n",
    "from   statsmodels.formula.api import ols"
   ]
  },
  {
   "cell_type": "markdown",
   "metadata": {},
   "source": [
    "## 2. Read data"
   ]
  },
  {
   "cell_type": "code",
   "execution_count": 3,
   "metadata": {},
   "outputs": [
    {
     "data": {
      "text/html": [
       "<div>\n",
       "<style scoped>\n",
       "    .dataframe tbody tr th:only-of-type {\n",
       "        vertical-align: middle;\n",
       "    }\n",
       "\n",
       "    .dataframe tbody tr th {\n",
       "        vertical-align: top;\n",
       "    }\n",
       "\n",
       "    .dataframe thead th {\n",
       "        text-align: right;\n",
       "    }\n",
       "</style>\n",
       "<table border=\"1\" class=\"dataframe\">\n",
       "  <thead>\n",
       "    <tr style=\"text-align: right;\">\n",
       "      <th></th>\n",
       "      <th>age</th>\n",
       "      <th>sex</th>\n",
       "      <th>bmi</th>\n",
       "      <th>children</th>\n",
       "      <th>smoker</th>\n",
       "      <th>region</th>\n",
       "      <th>charges</th>\n",
       "    </tr>\n",
       "  </thead>\n",
       "  <tbody>\n",
       "    <tr>\n",
       "      <td>644</td>\n",
       "      <td>43</td>\n",
       "      <td>male</td>\n",
       "      <td>35.310</td>\n",
       "      <td>2</td>\n",
       "      <td>no</td>\n",
       "      <td>southeast</td>\n",
       "      <td>18806.14547</td>\n",
       "    </tr>\n",
       "    <tr>\n",
       "      <td>654</td>\n",
       "      <td>59</td>\n",
       "      <td>female</td>\n",
       "      <td>35.200</td>\n",
       "      <td>0</td>\n",
       "      <td>no</td>\n",
       "      <td>southeast</td>\n",
       "      <td>12244.53100</td>\n",
       "    </tr>\n",
       "    <tr>\n",
       "      <td>1004</td>\n",
       "      <td>47</td>\n",
       "      <td>male</td>\n",
       "      <td>19.190</td>\n",
       "      <td>1</td>\n",
       "      <td>no</td>\n",
       "      <td>northeast</td>\n",
       "      <td>8627.54110</td>\n",
       "    </tr>\n",
       "    <tr>\n",
       "      <td>944</td>\n",
       "      <td>62</td>\n",
       "      <td>male</td>\n",
       "      <td>39.930</td>\n",
       "      <td>0</td>\n",
       "      <td>no</td>\n",
       "      <td>southeast</td>\n",
       "      <td>12982.87470</td>\n",
       "    </tr>\n",
       "    <tr>\n",
       "      <td>1074</td>\n",
       "      <td>60</td>\n",
       "      <td>female</td>\n",
       "      <td>18.335</td>\n",
       "      <td>0</td>\n",
       "      <td>no</td>\n",
       "      <td>northeast</td>\n",
       "      <td>13204.28565</td>\n",
       "    </tr>\n",
       "  </tbody>\n",
       "</table>\n",
       "</div>"
      ],
      "text/plain": [
       "      age     sex     bmi  children smoker     region      charges\n",
       "644    43    male  35.310         2     no  southeast  18806.14547\n",
       "654    59  female  35.200         0     no  southeast  12244.53100\n",
       "1004   47    male  19.190         1     no  northeast   8627.54110\n",
       "944    62    male  39.930         0     no  southeast  12982.87470\n",
       "1074   60  female  18.335         0     no  northeast  13204.28565"
      ]
     },
     "execution_count": 3,
     "metadata": {},
     "output_type": "execute_result"
    }
   ],
   "source": [
    "data = pd.read_csv('insurance.csv')\n",
    "data.sample(5)"
   ]
  },
  {
   "cell_type": "markdown",
   "metadata": {},
   "source": [
    "## 3. Clean data, print shape, identify missing value and print data type"
   ]
  },
  {
   "cell_type": "markdown",
   "metadata": {},
   "source": [
    "   ### i. Clean data and identify missing value"
   ]
  },
  {
   "cell_type": "code",
   "execution_count": 4,
   "metadata": {},
   "outputs": [
    {
     "data": {
      "text/plain": [
       "age         0\n",
       "sex         0\n",
       "bmi         0\n",
       "children    0\n",
       "smoker      0\n",
       "region      0\n",
       "charges     0\n",
       "dtype: int64"
      ]
     },
     "execution_count": 4,
     "metadata": {},
     "output_type": "execute_result"
    }
   ],
   "source": [
    "# First step would be to check whether any column has NA values.\n",
    "data.isna().sum()"
   ]
  },
  {
   "cell_type": "code",
   "execution_count": 5,
   "metadata": {},
   "outputs": [
    {
     "data": {
      "text/plain": [
       "age         0\n",
       "sex         0\n",
       "bmi         0\n",
       "children    0\n",
       "smoker      0\n",
       "region      0\n",
       "charges     0\n",
       "dtype: int64"
      ]
     },
     "execution_count": 5,
     "metadata": {},
     "output_type": "execute_result"
    }
   ],
   "source": [
    "# Second step would be to check whether any column has null values.\n",
    "data.isnull().sum()"
   ]
  },
  {
   "cell_type": "markdown",
   "metadata": {},
   "source": [
    "#### Since there is no null or NA value in the give dataframe, there is no requirement for any type of data cleaning."
   ]
  },
  {
   "cell_type": "markdown",
   "metadata": {},
   "source": [
    "### ii Print shape and data type"
   ]
  },
  {
   "cell_type": "code",
   "execution_count": 6,
   "metadata": {},
   "outputs": [
    {
     "name": "stdout",
     "output_type": "stream",
     "text": [
      "The shape of the given dataset is (1338, 7)\n"
     ]
    }
   ],
   "source": [
    "print(\"The shape of the given dataset is\",data.shape)"
   ]
  },
  {
   "cell_type": "code",
   "execution_count": 7,
   "metadata": {},
   "outputs": [
    {
     "name": "stdout",
     "output_type": "stream",
     "text": [
      "The data type of the given dataset is\n",
      "age           int64\n",
      "sex          object\n",
      "bmi         float64\n",
      "children      int64\n",
      "smoker       object\n",
      "region       object\n",
      "charges     float64\n",
      "dtype: object\n"
     ]
    }
   ],
   "source": [
    "print(\"The data type of the given dataset is\")\n",
    "print(data.dtypes)"
   ]
  },
  {
   "cell_type": "markdown",
   "metadata": {},
   "source": [
    "## 4. Identify outlier (use boxplot), perform feature analysis and data quality check"
   ]
  },
  {
   "cell_type": "markdown",
   "metadata": {},
   "source": [
    "### i. Data quality check"
   ]
  },
  {
   "cell_type": "code",
   "execution_count": 8,
   "metadata": {},
   "outputs": [
    {
     "name": "stdout",
     "output_type": "stream",
     "text": [
      "581    True\n",
      "dtype: bool\n",
      "      age     sex     bmi  children smoker     region      charges\n",
      "0      19  female  27.900         0    yes  southwest  16884.92400\n",
      "1      18    male  33.770         1     no  southeast   1725.55230\n",
      "2      28    male  33.000         3     no  southeast   4449.46200\n",
      "3      33    male  22.705         0     no  northwest  21984.47061\n",
      "4      32    male  28.880         0     no  northwest   3866.85520\n",
      "...   ...     ...     ...       ...    ...        ...          ...\n",
      "1333   50    male  30.970         3     no  northwest  10600.54830\n",
      "1334   18  female  31.920         0     no  northeast   2205.98080\n",
      "1335   18  female  36.850         0     no  southeast   1629.83350\n",
      "1336   21  female  25.800         0     no  southwest   2007.94500\n",
      "1337   61  female  29.070         0    yes  northwest  29141.36030\n",
      "\n",
      "[1337 rows x 7 columns]\n"
     ]
    }
   ],
   "source": [
    "# To find duplicate rows in the dataset.\n",
    "duplicates = pd.DataFrame.duplicated(data)\n",
    "print(duplicates[duplicates == True])\n",
    "data = data.drop_duplicates()\n",
    "print(data)"
   ]
  },
  {
   "cell_type": "markdown",
   "metadata": {},
   "source": [
    "### ii. 5 point summary of numerical attributes"
   ]
  },
  {
   "cell_type": "code",
   "execution_count": 9,
   "metadata": {},
   "outputs": [
    {
     "data": {
      "text/html": [
       "<div>\n",
       "<style scoped>\n",
       "    .dataframe tbody tr th:only-of-type {\n",
       "        vertical-align: middle;\n",
       "    }\n",
       "\n",
       "    .dataframe tbody tr th {\n",
       "        vertical-align: top;\n",
       "    }\n",
       "\n",
       "    .dataframe thead th {\n",
       "        text-align: right;\n",
       "    }\n",
       "</style>\n",
       "<table border=\"1\" class=\"dataframe\">\n",
       "  <thead>\n",
       "    <tr style=\"text-align: right;\">\n",
       "      <th></th>\n",
       "      <th>age</th>\n",
       "      <th>bmi</th>\n",
       "      <th>children</th>\n",
       "      <th>charges</th>\n",
       "    </tr>\n",
       "  </thead>\n",
       "  <tbody>\n",
       "    <tr>\n",
       "      <td>count</td>\n",
       "      <td>1337.000000</td>\n",
       "      <td>1337.000000</td>\n",
       "      <td>1337.000000</td>\n",
       "      <td>1337.000000</td>\n",
       "    </tr>\n",
       "    <tr>\n",
       "      <td>mean</td>\n",
       "      <td>39.222139</td>\n",
       "      <td>30.663452</td>\n",
       "      <td>1.095737</td>\n",
       "      <td>13279.121487</td>\n",
       "    </tr>\n",
       "    <tr>\n",
       "      <td>std</td>\n",
       "      <td>14.044333</td>\n",
       "      <td>6.100468</td>\n",
       "      <td>1.205571</td>\n",
       "      <td>12110.359656</td>\n",
       "    </tr>\n",
       "    <tr>\n",
       "      <td>min</td>\n",
       "      <td>18.000000</td>\n",
       "      <td>15.960000</td>\n",
       "      <td>0.000000</td>\n",
       "      <td>1121.873900</td>\n",
       "    </tr>\n",
       "    <tr>\n",
       "      <td>25%</td>\n",
       "      <td>27.000000</td>\n",
       "      <td>26.290000</td>\n",
       "      <td>0.000000</td>\n",
       "      <td>4746.344000</td>\n",
       "    </tr>\n",
       "    <tr>\n",
       "      <td>50%</td>\n",
       "      <td>39.000000</td>\n",
       "      <td>30.400000</td>\n",
       "      <td>1.000000</td>\n",
       "      <td>9386.161300</td>\n",
       "    </tr>\n",
       "    <tr>\n",
       "      <td>75%</td>\n",
       "      <td>51.000000</td>\n",
       "      <td>34.700000</td>\n",
       "      <td>2.000000</td>\n",
       "      <td>16657.717450</td>\n",
       "    </tr>\n",
       "    <tr>\n",
       "      <td>max</td>\n",
       "      <td>64.000000</td>\n",
       "      <td>53.130000</td>\n",
       "      <td>5.000000</td>\n",
       "      <td>63770.428010</td>\n",
       "    </tr>\n",
       "  </tbody>\n",
       "</table>\n",
       "</div>"
      ],
      "text/plain": [
       "               age          bmi     children       charges\n",
       "count  1337.000000  1337.000000  1337.000000   1337.000000\n",
       "mean     39.222139    30.663452     1.095737  13279.121487\n",
       "std      14.044333     6.100468     1.205571  12110.359656\n",
       "min      18.000000    15.960000     0.000000   1121.873900\n",
       "25%      27.000000    26.290000     0.000000   4746.344000\n",
       "50%      39.000000    30.400000     1.000000   9386.161300\n",
       "75%      51.000000    34.700000     2.000000  16657.717450\n",
       "max      64.000000    53.130000     5.000000  63770.428010"
      ]
     },
     "execution_count": 9,
     "metadata": {},
     "output_type": "execute_result"
    }
   ],
   "source": [
    "data.describe()"
   ]
  },
  {
   "cell_type": "markdown",
   "metadata": {},
   "source": [
    "### iii. Identify outlier (use boxplot)"
   ]
  },
  {
   "cell_type": "code",
   "execution_count": 47,
   "metadata": {},
   "outputs": [
    {
     "name": "stdout",
     "output_type": "stream",
     "text": [
      "<class 'pandas.core.frame.DataFrame'>\n",
      "Int64Index: 1337 entries, 0 to 1337\n",
      "Data columns (total 12 columns):\n",
      "age          1337 non-null int64\n",
      "bmi          1337 non-null float64\n",
      "children     1337 non-null int64\n",
      "charges      1337 non-null float64\n",
      "northeast    1337 non-null uint8\n",
      "northwest    1337 non-null uint8\n",
      "southeast    1337 non-null uint8\n",
      "southwest    1337 non-null uint8\n",
      "female       1337 non-null uint8\n",
      "male         1337 non-null uint8\n",
      "no           1337 non-null uint8\n",
      "yes          1337 non-null uint8\n",
      "dtypes: float64(2), int64(2), uint8(8)\n",
      "memory usage: 102.7 KB\n"
     ]
    }
   ],
   "source": [
    "# First step would be convert all non-numerical (string) columns into numerical columns\n",
    "region_new = pd.get_dummies(data['region'])\n",
    "sex_new = pd.get_dummies(data['sex'])\n",
    "smoker_new = pd.get_dummies(data['smoker'])\n",
    "data_new = pd.concat([data,region_new,sex_new,smoker_new],axis=1)\n",
    "data_new = data_new.drop(columns=['sex','smoker','region'])\n",
    "data_new.info()"
   ]
  },
  {
   "cell_type": "code",
   "execution_count": 11,
   "metadata": {},
   "outputs": [
    {
     "name": "stdout",
     "output_type": "stream",
     "text": [
      "<class 'pandas.core.frame.DataFrame'>\n",
      "Int64Index: 1337 entries, 0 to 1337\n",
      "Data columns (total 12 columns):\n",
      "age          1337 non-null float64\n",
      "bmi          1337 non-null float64\n",
      "children     1337 non-null float64\n",
      "charges      1337 non-null float64\n",
      "northeast    1337 non-null float64\n",
      "northwest    1337 non-null float64\n",
      "southeast    1337 non-null float64\n",
      "southwest    1337 non-null float64\n",
      "female       1337 non-null float64\n",
      "male         1337 non-null float64\n",
      "no           1337 non-null float64\n",
      "yes          1337 non-null float64\n",
      "dtypes: float64(12)\n",
      "memory usage: 135.8 KB\n"
     ]
    },
    {
     "data": {
      "text/html": [
       "<div>\n",
       "<style scoped>\n",
       "    .dataframe tbody tr th:only-of-type {\n",
       "        vertical-align: middle;\n",
       "    }\n",
       "\n",
       "    .dataframe tbody tr th {\n",
       "        vertical-align: top;\n",
       "    }\n",
       "\n",
       "    .dataframe thead th {\n",
       "        text-align: right;\n",
       "    }\n",
       "</style>\n",
       "<table border=\"1\" class=\"dataframe\">\n",
       "  <thead>\n",
       "    <tr style=\"text-align: right;\">\n",
       "      <th></th>\n",
       "      <th>age</th>\n",
       "      <th>bmi</th>\n",
       "      <th>children</th>\n",
       "      <th>charges</th>\n",
       "      <th>northeast</th>\n",
       "      <th>northwest</th>\n",
       "      <th>southeast</th>\n",
       "      <th>southwest</th>\n",
       "      <th>female</th>\n",
       "      <th>male</th>\n",
       "      <th>no</th>\n",
       "      <th>yes</th>\n",
       "    </tr>\n",
       "  </thead>\n",
       "  <tbody>\n",
       "    <tr>\n",
       "      <td>0</td>\n",
       "      <td>19.0</td>\n",
       "      <td>27.900</td>\n",
       "      <td>0.0</td>\n",
       "      <td>16884.92400</td>\n",
       "      <td>0.0</td>\n",
       "      <td>0.0</td>\n",
       "      <td>0.0</td>\n",
       "      <td>1.0</td>\n",
       "      <td>1.0</td>\n",
       "      <td>0.0</td>\n",
       "      <td>0.0</td>\n",
       "      <td>1.0</td>\n",
       "    </tr>\n",
       "    <tr>\n",
       "      <td>1</td>\n",
       "      <td>18.0</td>\n",
       "      <td>33.770</td>\n",
       "      <td>1.0</td>\n",
       "      <td>1725.55230</td>\n",
       "      <td>0.0</td>\n",
       "      <td>0.0</td>\n",
       "      <td>1.0</td>\n",
       "      <td>0.0</td>\n",
       "      <td>0.0</td>\n",
       "      <td>1.0</td>\n",
       "      <td>1.0</td>\n",
       "      <td>0.0</td>\n",
       "    </tr>\n",
       "    <tr>\n",
       "      <td>2</td>\n",
       "      <td>28.0</td>\n",
       "      <td>33.000</td>\n",
       "      <td>3.0</td>\n",
       "      <td>4449.46200</td>\n",
       "      <td>0.0</td>\n",
       "      <td>0.0</td>\n",
       "      <td>1.0</td>\n",
       "      <td>0.0</td>\n",
       "      <td>0.0</td>\n",
       "      <td>1.0</td>\n",
       "      <td>1.0</td>\n",
       "      <td>0.0</td>\n",
       "    </tr>\n",
       "    <tr>\n",
       "      <td>3</td>\n",
       "      <td>33.0</td>\n",
       "      <td>22.705</td>\n",
       "      <td>0.0</td>\n",
       "      <td>21984.47061</td>\n",
       "      <td>0.0</td>\n",
       "      <td>1.0</td>\n",
       "      <td>0.0</td>\n",
       "      <td>0.0</td>\n",
       "      <td>0.0</td>\n",
       "      <td>1.0</td>\n",
       "      <td>1.0</td>\n",
       "      <td>0.0</td>\n",
       "    </tr>\n",
       "    <tr>\n",
       "      <td>4</td>\n",
       "      <td>32.0</td>\n",
       "      <td>28.880</td>\n",
       "      <td>0.0</td>\n",
       "      <td>3866.85520</td>\n",
       "      <td>0.0</td>\n",
       "      <td>1.0</td>\n",
       "      <td>0.0</td>\n",
       "      <td>0.0</td>\n",
       "      <td>0.0</td>\n",
       "      <td>1.0</td>\n",
       "      <td>1.0</td>\n",
       "      <td>0.0</td>\n",
       "    </tr>\n",
       "    <tr>\n",
       "      <td>...</td>\n",
       "      <td>...</td>\n",
       "      <td>...</td>\n",
       "      <td>...</td>\n",
       "      <td>...</td>\n",
       "      <td>...</td>\n",
       "      <td>...</td>\n",
       "      <td>...</td>\n",
       "      <td>...</td>\n",
       "      <td>...</td>\n",
       "      <td>...</td>\n",
       "      <td>...</td>\n",
       "      <td>...</td>\n",
       "    </tr>\n",
       "    <tr>\n",
       "      <td>1333</td>\n",
       "      <td>50.0</td>\n",
       "      <td>30.970</td>\n",
       "      <td>3.0</td>\n",
       "      <td>10600.54830</td>\n",
       "      <td>0.0</td>\n",
       "      <td>1.0</td>\n",
       "      <td>0.0</td>\n",
       "      <td>0.0</td>\n",
       "      <td>0.0</td>\n",
       "      <td>1.0</td>\n",
       "      <td>1.0</td>\n",
       "      <td>0.0</td>\n",
       "    </tr>\n",
       "    <tr>\n",
       "      <td>1334</td>\n",
       "      <td>18.0</td>\n",
       "      <td>31.920</td>\n",
       "      <td>0.0</td>\n",
       "      <td>2205.98080</td>\n",
       "      <td>1.0</td>\n",
       "      <td>0.0</td>\n",
       "      <td>0.0</td>\n",
       "      <td>0.0</td>\n",
       "      <td>1.0</td>\n",
       "      <td>0.0</td>\n",
       "      <td>1.0</td>\n",
       "      <td>0.0</td>\n",
       "    </tr>\n",
       "    <tr>\n",
       "      <td>1335</td>\n",
       "      <td>18.0</td>\n",
       "      <td>36.850</td>\n",
       "      <td>0.0</td>\n",
       "      <td>1629.83350</td>\n",
       "      <td>0.0</td>\n",
       "      <td>0.0</td>\n",
       "      <td>1.0</td>\n",
       "      <td>0.0</td>\n",
       "      <td>1.0</td>\n",
       "      <td>0.0</td>\n",
       "      <td>1.0</td>\n",
       "      <td>0.0</td>\n",
       "    </tr>\n",
       "    <tr>\n",
       "      <td>1336</td>\n",
       "      <td>21.0</td>\n",
       "      <td>25.800</td>\n",
       "      <td>0.0</td>\n",
       "      <td>2007.94500</td>\n",
       "      <td>0.0</td>\n",
       "      <td>0.0</td>\n",
       "      <td>0.0</td>\n",
       "      <td>1.0</td>\n",
       "      <td>1.0</td>\n",
       "      <td>0.0</td>\n",
       "      <td>1.0</td>\n",
       "      <td>0.0</td>\n",
       "    </tr>\n",
       "    <tr>\n",
       "      <td>1337</td>\n",
       "      <td>61.0</td>\n",
       "      <td>29.070</td>\n",
       "      <td>0.0</td>\n",
       "      <td>29141.36030</td>\n",
       "      <td>0.0</td>\n",
       "      <td>1.0</td>\n",
       "      <td>0.0</td>\n",
       "      <td>0.0</td>\n",
       "      <td>1.0</td>\n",
       "      <td>0.0</td>\n",
       "      <td>0.0</td>\n",
       "      <td>1.0</td>\n",
       "    </tr>\n",
       "  </tbody>\n",
       "</table>\n",
       "<p>1337 rows × 12 columns</p>\n",
       "</div>"
      ],
      "text/plain": [
       "       age     bmi  children      charges  northeast  northwest  southeast  \\\n",
       "0     19.0  27.900       0.0  16884.92400        0.0        0.0        0.0   \n",
       "1     18.0  33.770       1.0   1725.55230        0.0        0.0        1.0   \n",
       "2     28.0  33.000       3.0   4449.46200        0.0        0.0        1.0   \n",
       "3     33.0  22.705       0.0  21984.47061        0.0        1.0        0.0   \n",
       "4     32.0  28.880       0.0   3866.85520        0.0        1.0        0.0   \n",
       "...    ...     ...       ...          ...        ...        ...        ...   \n",
       "1333  50.0  30.970       3.0  10600.54830        0.0        1.0        0.0   \n",
       "1334  18.0  31.920       0.0   2205.98080        1.0        0.0        0.0   \n",
       "1335  18.0  36.850       0.0   1629.83350        0.0        0.0        1.0   \n",
       "1336  21.0  25.800       0.0   2007.94500        0.0        0.0        0.0   \n",
       "1337  61.0  29.070       0.0  29141.36030        0.0        1.0        0.0   \n",
       "\n",
       "      southwest  female  male   no  yes  \n",
       "0           1.0     1.0   0.0  0.0  1.0  \n",
       "1           0.0     0.0   1.0  1.0  0.0  \n",
       "2           0.0     0.0   1.0  1.0  0.0  \n",
       "3           0.0     0.0   1.0  1.0  0.0  \n",
       "4           0.0     0.0   1.0  1.0  0.0  \n",
       "...         ...     ...   ...  ...  ...  \n",
       "1333        0.0     0.0   1.0  1.0  0.0  \n",
       "1334        0.0     1.0   0.0  1.0  0.0  \n",
       "1335        0.0     1.0   0.0  1.0  0.0  \n",
       "1336        1.0     1.0   0.0  1.0  0.0  \n",
       "1337        0.0     1.0   0.0  0.0  1.0  \n",
       "\n",
       "[1337 rows x 12 columns]"
      ]
     },
     "execution_count": 11,
     "metadata": {},
     "output_type": "execute_result"
    }
   ],
   "source": [
    "# Summarize data, convert features\n",
    "data_new['age'] = data_new['age'].astype(float)\n",
    "data_new['children'] = data_new['children'].astype(float)\n",
    "data_new['northeast'] = data_new['northeast'].astype(float)\n",
    "data_new['northwest'] = data_new['northwest'].astype(float)\n",
    "data_new['southeast'] = data_new['southeast'].astype(float)\n",
    "data_new['southwest'] = data_new['southwest'].astype(float)\n",
    "data_new['female'] = data_new['female'].astype(float)\n",
    "data_new['male'] = data_new['male'].astype(float)\n",
    "data_new['no'] = data_new['no'].astype(float)\n",
    "data_new['yes'] = data_new['yes'].astype(float)\n",
    "data_new.info()\n",
    "data_new"
   ]
  },
  {
   "cell_type": "code",
   "execution_count": 12,
   "metadata": {},
   "outputs": [
    {
     "data": {
      "text/plain": [
       "<matplotlib.axes._subplots.AxesSubplot at 0x23fe11517c8>"
      ]
     },
     "execution_count": 12,
     "metadata": {},
     "output_type": "execute_result"
    },
    {
     "data": {
      "image/png": "[encoded data removed]",
      "text/plain": [
       "<Figure size 432x288 with 1 Axes>"
      ]
     },
     "metadata": {
      "needs_background": "light"
     },
     "output_type": "display_data"
    }
   ],
   "source": [
    "# Last step would be to plot the boxplot to observe the outliers.\n",
    "sns.boxplot(x=data_new['age'])"
   ]
  },
  {
   "cell_type": "code",
   "execution_count": 13,
   "metadata": {},
   "outputs": [
    {
     "data": {
      "text/plain": [
       "<matplotlib.axes._subplots.AxesSubplot at 0x23fe1c21d08>"
      ]
     },
     "execution_count": 13,
     "metadata": {},
     "output_type": "execute_result"
    },
    {
     "data": {
      "image/png": "[encoded data removed]",
      "text/plain": [
       "<Figure size 432x288 with 1 Axes>"
      ]
     },
     "metadata": {
      "needs_background": "light"
     },
     "output_type": "display_data"
    }
   ],
   "source": [
    "sns.boxplot(x=data_new['bmi'])"
   ]
  },
  {
   "cell_type": "code",
   "execution_count": 14,
   "metadata": {},
   "outputs": [
    {
     "data": {
      "text/plain": [
       "<matplotlib.axes._subplots.AxesSubplot at 0x23fe1c6f308>"
      ]
     },
     "execution_count": 14,
     "metadata": {},
     "output_type": "execute_result"
    },
    {
     "data": {
      "image/png": "[encoded data removed]",
      "text/plain": [
       "<Figure size 432x288 with 1 Axes>"
      ]
     },
     "metadata": {
      "needs_background": "light"
     },
     "output_type": "display_data"
    }
   ],
   "source": [
    "sns.boxplot(x=data_new['charges'])"
   ]
  },
  {
   "cell_type": "code",
   "execution_count": 15,
   "metadata": {},
   "outputs": [
    {
     "name": "stdout",
     "output_type": "stream",
     "text": [
      "age             24.00000\n",
      "bmi              8.41000\n",
      "children         2.00000\n",
      "charges      11911.37345\n",
      "northeast        0.00000\n",
      "northwest        0.00000\n",
      "southeast        1.00000\n",
      "southwest        0.00000\n",
      "female           1.00000\n",
      "male             1.00000\n",
      "no               0.00000\n",
      "yes              0.00000\n",
      "dtype: float64\n"
     ]
    }
   ],
   "source": [
    "Q1 = data_new.quantile(0.25)\n",
    "Q3 = data_new.quantile(0.75)\n",
    "IQR = Q3 - Q1\n",
    "print(IQR)"
   ]
  },
  {
   "cell_type": "code",
   "execution_count": 16,
   "metadata": {},
   "outputs": [
    {
     "data": {
      "text/plain": [
       "(267, 12)"
      ]
     },
     "execution_count": 16,
     "metadata": {},
     "output_type": "execute_result"
    }
   ],
   "source": [
    "# Filter out the outliers by keeping only valid values\n",
    "data_new = data_new[~((data_new < (Q1-1.5 * IQR)) |(data_new > (Q3 + 1.5 * IQR))).any(axis=1)]\n",
    "data_new.shape"
   ]
  },
  {
   "cell_type": "markdown",
   "metadata": {},
   "source": [
    "#### After removing outliers from the data set, only 267 records are left."
   ]
  },
  {
   "cell_type": "markdown",
   "metadata": {},
   "source": [
    "### iv. Perform feature analysis (using correlation matrix with heatmap)"
   ]
  },
  {
   "cell_type": "code",
   "execution_count": 17,
   "metadata": {},
   "outputs": [],
   "source": [
    "#get correlations of each features in dataset\n",
    "corrmat = data_new.corr()"
   ]
  },
  {
   "cell_type": "code",
   "execution_count": 18,
   "metadata": {},
   "outputs": [],
   "source": [
    "# removing the rows and columns which are the reason for NaN values\n",
    "data_corr = data_new.drop(columns=['northeast','northwest','southeast','southwest','no','yes'])\n",
    "corrmat = data_corr.corr()"
   ]
  },
  {
   "cell_type": "code",
   "execution_count": 19,
   "metadata": {},
   "outputs": [
    {
     "data": {
      "text/plain": [
       "<matplotlib.axes._subplots.AxesSubplot at 0x23fe1d50548>"
      ]
     },
     "execution_count": 19,
     "metadata": {},
     "output_type": "execute_result"
    },
    {
     "data": {
      "image/png": "[encoded data removed]",
      "text/plain": [
       "<Figure size 1440x1440 with 2 Axes>"
      ]
     },
     "metadata": {
      "needs_background": "light"
     },
     "output_type": "display_data"
    }
   ],
   "source": [
    "# plotting the heat map\n",
    "top_corr_features = corrmat.index\n",
    "plt.figure(figsize=(20,20))\n",
    "sns.heatmap(data_corr[top_corr_features].corr(),annot=True,cmap=\"RdYlGn\")"
   ]
  },
  {
   "cell_type": "markdown",
   "metadata": {},
   "source": [
    "#### Here correlation of a feature with other features of the dataset can be seen."
   ]
  },
  {
   "cell_type": "code",
   "execution_count": 20,
   "metadata": {},
   "outputs": [
    {
     "data": {
      "text/plain": [
       "{'age': {1: 18.0,\n",
       "  2: 28.0,\n",
       "  5: 31.0,\n",
       "  6: 46.0,\n",
       "  13: 56.0,\n",
       "  22: 18.0,\n",
       "  25: 59.0,\n",
       "  41: 31.0,\n",
       "  42: 41.0,\n",
       "  43: 37.0,\n",
       "  48: 60.0,\n",
       "  61: 25.0,\n",
       "  68: 40.0,\n",
       "  73: 58.0,\n",
       "  76: 29.0,\n",
       "  77: 21.0,\n",
       "  90: 21.0,\n",
       "  95: 28.0,\n",
       "  97: 55.0,\n",
       "  108: 29.0,\n",
       "  118: 49.0,\n",
       "  135: 22.0,\n",
       "  138: 54.0,\n",
       "  145: 29.0,\n",
       "  147: 51.0,\n",
       "  151: 48.0,\n",
       "  159: 50.0,\n",
       "  170: 63.0,\n",
       "  181: 18.0,\n",
       "  184: 44.0,\n",
       "  186: 26.0,\n",
       "  190: 61.0,\n",
       "  192: 25.0,\n",
       "  194: 18.0,\n",
       "  197: 45.0,\n",
       "  201: 48.0,\n",
       "  206: 59.0,\n",
       "  213: 34.0,\n",
       "  217: 27.0,\n",
       "  218: 26.0,\n",
       "  219: 24.0,\n",
       "  225: 55.0,\n",
       "  226: 28.0,\n",
       "  227: 58.0,\n",
       "  231: 59.0,\n",
       "  236: 18.0,\n",
       "  237: 31.0,\n",
       "  239: 44.0,\n",
       "  246: 60.0,\n",
       "  247: 24.0,\n",
       "  257: 38.0,\n",
       "  264: 53.0,\n",
       "  270: 18.0,\n",
       "  278: 59.0,\n",
       "  279: 51.0,\n",
       "  285: 46.0,\n",
       "  289: 52.0,\n",
       "  293: 22.0,\n",
       "  302: 56.0,\n",
       "  303: 28.0,\n",
       "  307: 30.0,\n",
       "  313: 49.0,\n",
       "  326: 27.0,\n",
       "  336: 60.0,\n",
       "  339: 46.0,\n",
       "  344: 49.0,\n",
       "  345: 34.0,\n",
       "  346: 33.0,\n",
       "  348: 36.0,\n",
       "  354: 18.0,\n",
       "  356: 46.0,\n",
       "  358: 23.0,\n",
       "  359: 18.0,\n",
       "  364: 21.0,\n",
       "  374: 20.0,\n",
       "  379: 62.0,\n",
       "  382: 55.0,\n",
       "  383: 35.0,\n",
       "  386: 58.0,\n",
       "  397: 21.0,\n",
       "  399: 18.0,\n",
       "  406: 33.0,\n",
       "  408: 38.0,\n",
       "  409: 32.0,\n",
       "  415: 43.0,\n",
       "  416: 52.0,\n",
       "  418: 64.0,\n",
       "  425: 45.0,\n",
       "  435: 60.0,\n",
       "  438: 52.0,\n",
       "  442: 18.0,\n",
       "  443: 59.0,\n",
       "  454: 32.0,\n",
       "  456: 55.0,\n",
       "  459: 40.0,\n",
       "  460: 49.0,\n",
       "  469: 18.0,\n",
       "  470: 27.0,\n",
       "  478: 21.0,\n",
       "  479: 23.0,\n",
       "  481: 49.0,\n",
       "  482: 18.0,\n",
       "  491: 61.0,\n",
       "  498: 44.0,\n",
       "  504: 38.0,\n",
       "  511: 27.0,\n",
       "  516: 20.0,\n",
       "  521: 32.0,\n",
       "  523: 38.0,\n",
       "  525: 18.0,\n",
       "  532: 59.0,\n",
       "  533: 37.0,\n",
       "  534: 64.0,\n",
       "  538: 46.0,\n",
       "  539: 53.0,\n",
       "  541: 20.0,\n",
       "  542: 63.0,\n",
       "  551: 32.0,\n",
       "  557: 34.0,\n",
       "  563: 50.0,\n",
       "  564: 18.0,\n",
       "  571: 18.0,\n",
       "  572: 30.0,\n",
       "  576: 22.0,\n",
       "  582: 39.0,\n",
       "  583: 32.0,\n",
       "  585: 33.0,\n",
       "  589: 38.0,\n",
       "  592: 20.0,\n",
       "  594: 41.0,\n",
       "  596: 42.0,\n",
       "  600: 18.0,\n",
       "  603: 64.0,\n",
       "  605: 51.0,\n",
       "  610: 47.0,\n",
       "  614: 20.0,\n",
       "  627: 33.0,\n",
       "  632: 29.0,\n",
       "  639: 56.0,\n",
       "  644: 43.0,\n",
       "  650: 49.0,\n",
       "  651: 53.0,\n",
       "  652: 48.0,\n",
       "  653: 45.0,\n",
       "  654: 59.0,\n",
       "  660: 37.0,\n",
       "  661: 57.0,\n",
       "  663: 18.0,\n",
       "  669: 40.0,\n",
       "  670: 30.0,\n",
       "  672: 36.0,\n",
       "  673: 41.0,\n",
       "  676: 55.0,\n",
       "  687: 40.0,\n",
       "  699: 23.0,\n",
       "  700: 21.0,\n",
       "  702: 53.0,\n",
       "  710: 18.0,\n",
       "  711: 50.0,\n",
       "  729: 41.0,\n",
       "  743: 31.0,\n",
       "  753: 58.0,\n",
       "  775: 51.0,\n",
       "  778: 35.0,\n",
       "  781: 18.0,\n",
       "  782: 51.0,\n",
       "  784: 31.0,\n",
       "  789: 62.0,\n",
       "  790: 39.0,\n",
       "  796: 30.0,\n",
       "  800: 42.0,\n",
       "  801: 64.0,\n",
       "  804: 23.0,\n",
       "  808: 18.0,\n",
       "  812: 54.0,\n",
       "  814: 36.0,\n",
       "  815: 20.0,\n",
       "  822: 18.0,\n",
       "  823: 44.0,\n",
       "  835: 42.0,\n",
       "  858: 25.0,\n",
       "  866: 18.0,\n",
       "  871: 26.0,\n",
       "  872: 42.0,\n",
       "  877: 33.0,\n",
       "  891: 36.0,\n",
       "  898: 18.0,\n",
       "  903: 49.0,\n",
       "  907: 44.0,\n",
       "  915: 24.0,\n",
       "  919: 35.0,\n",
       "  928: 62.0,\n",
       "  929: 41.0,\n",
       "  930: 26.0,\n",
       "  934: 32.0,\n",
       "  938: 18.0,\n",
       "  939: 53.0,\n",
       "  940: 18.0,\n",
       "  941: 50.0,\n",
       "  944: 62.0,\n",
       "  955: 31.0,\n",
       "  962: 63.0,\n",
       "  969: 39.0,\n",
       "  970: 50.0,\n",
       "  974: 26.0,\n",
       "  976: 48.0,\n",
       "  977: 26.0,\n",
       "  979: 36.0,\n",
       "  993: 38.0,\n",
       "  997: 63.0,\n",
       "  1023: 18.0,\n",
       "  1024: 47.0,\n",
       "  1057: 45.0,\n",
       "  1058: 24.0,\n",
       "  1060: 24.0,\n",
       "  1061: 57.0,\n",
       "  1066: 48.0,\n",
       "  1069: 54.0,\n",
       "  1075: 32.0,\n",
       "  1079: 63.0,\n",
       "  1080: 18.0,\n",
       "  1097: 22.0,\n",
       "  1099: 25.0,\n",
       "  1102: 29.0,\n",
       "  1103: 58.0,\n",
       "  1105: 54.0,\n",
       "  1109: 45.0,\n",
       "  1115: 55.0,\n",
       "  1121: 46.0,\n",
       "  1127: 35.0,\n",
       "  1130: 39.0,\n",
       "  1138: 33.0,\n",
       "  1140: 50.0,\n",
       "  1142: 52.0,\n",
       "  1143: 39.0,\n",
       "  1161: 34.0,\n",
       "  1162: 30.0,\n",
       "  1166: 57.0,\n",
       "  1172: 56.0,\n",
       "  1197: 41.0,\n",
       "  1211: 39.0,\n",
       "  1216: 40.0,\n",
       "  1217: 29.0,\n",
       "  1221: 40.0,\n",
       "  1222: 50.0,\n",
       "  1225: 33.0,\n",
       "  1227: 42.0,\n",
       "  1228: 56.0,\n",
       "  1234: 45.0,\n",
       "  1239: 25.0,\n",
       "  1243: 28.0,\n",
       "  1244: 18.0,\n",
       "  1248: 18.0,\n",
       "  1254: 34.0,\n",
       "  1262: 41.0,\n",
       "  1272: 43.0,\n",
       "  1273: 35.0,\n",
       "  1280: 48.0,\n",
       "  1283: 18.0,\n",
       "  1289: 44.0,\n",
       "  1292: 21.0,\n",
       "  1297: 28.0,\n",
       "  1305: 24.0,\n",
       "  1322: 62.0,\n",
       "  1327: 51.0,\n",
       "  1330: 57.0,\n",
       "  1335: 18.0},\n",
       " 'bmi': {1: 33.77,\n",
       "  2: 33.0,\n",
       "  5: 25.74,\n",
       "  6: 33.44,\n",
       "  13: 39.82,\n",
       "  22: 34.1,\n",
       "  25: 27.72,\n",
       "  41: 36.63,\n",
       "  42: 21.78,\n",
       "  43: 30.8,\n",
       "  48: 24.53,\n",
       "  61: 33.66,\n",
       "  68: 36.19,\n",
       "  73: 32.01,\n",
       "  76: 29.59,\n",
       "  77: 35.53,\n",
       "  90: 39.49,\n",
       "  95: 37.62,\n",
       "  97: 38.28,\n",
       "  108: 27.94,\n",
       "  118: 27.17,\n",
       "  135: 28.05,\n",
       "  138: 31.9,\n",
       "  145: 38.83,\n",
       "  147: 37.73,\n",
       "  151: 29.7,\n",
       "  159: 27.83,\n",
       "  170: 41.47,\n",
       "  181: 38.28,\n",
       "  184: 30.69,\n",
       "  186: 29.92,\n",
       "  190: 31.57,\n",
       "  192: 25.74,\n",
       "  194: 34.43,\n",
       "  197: 28.6,\n",
       "  201: 32.23,\n",
       "  206: 26.4,\n",
       "  213: 26.73,\n",
       "  217: 23.1,\n",
       "  218: 29.92,\n",
       "  219: 23.21,\n",
       "  225: 33.88,\n",
       "  226: 38.06,\n",
       "  227: 41.91,\n",
       "  231: 27.83,\n",
       "  236: 26.73,\n",
       "  237: 38.39,\n",
       "  239: 38.06,\n",
       "  246: 38.06,\n",
       "  247: 35.86,\n",
       "  257: 40.15,\n",
       "  264: 38.06,\n",
       "  270: 29.37,\n",
       "  278: 31.79,\n",
       "  279: 21.56,\n",
       "  285: 26.62,\n",
       "  289: 26.4,\n",
       "  293: 28.82,\n",
       "  302: 37.51,\n",
       "  303: 33.0,\n",
       "  307: 33.33,\n",
       "  313: 35.86,\n",
       "  326: 23.21,\n",
       "  336: 25.74,\n",
       "  339: 27.72,\n",
       "  344: 41.47,\n",
       "  345: 29.26,\n",
       "  346: 35.75,\n",
       "  348: 29.92,\n",
       "  354: 38.28,\n",
       "  356: 43.89,\n",
       "  358: 41.91,\n",
       "  359: 20.79,\n",
       "  364: 21.89,\n",
       "  374: 33.33,\n",
       "  379: 31.46,\n",
       "  382: 33.0,\n",
       "  383: 43.34,\n",
       "  386: 39.05,\n",
       "  397: 31.02,\n",
       "  399: 38.17,\n",
       "  406: 24.31,\n",
       "  408: 21.12,\n",
       "  409: 30.03,\n",
       "  415: 35.64,\n",
       "  416: 34.1,\n",
       "  418: 39.16,\n",
       "  425: 24.31,\n",
       "  435: 33.11,\n",
       "  438: 46.75,\n",
       "  442: 43.01,\n",
       "  443: 36.52,\n",
       "  454: 46.53,\n",
       "  456: 30.14,\n",
       "  459: 33.0,\n",
       "  460: 36.63,\n",
       "  469: 24.09,\n",
       "  470: 32.67,\n",
       "  478: 36.85,\n",
       "  479: 32.56,\n",
       "  481: 37.51,\n",
       "  482: 31.35,\n",
       "  491: 25.08,\n",
       "  498: 23.98,\n",
       "  504: 28.93,\n",
       "  511: 33.66,\n",
       "  516: 35.31,\n",
       "  521: 44.22,\n",
       "  523: 37.73,\n",
       "  525: 33.88,\n",
       "  532: 29.7,\n",
       "  533: 36.19,\n",
       "  534: 40.48,\n",
       "  538: 28.05,\n",
       "  539: 31.35,\n",
       "  541: 31.79,\n",
       "  542: 36.3,\n",
       "  551: 28.93,\n",
       "  557: 34.21,\n",
       "  563: 44.77,\n",
       "  564: 32.12,\n",
       "  571: 37.29,\n",
       "  572: 43.12,\n",
       "  576: 26.84,\n",
       "  582: 45.43,\n",
       "  583: 23.65,\n",
       "  585: 28.27,\n",
       "  589: 30.69,\n",
       "  592: 31.13,\n",
       "  594: 40.26,\n",
       "  596: 29.48,\n",
       "  600: 39.16,\n",
       "  603: 39.05,\n",
       "  605: 34.1,\n",
       "  610: 29.37,\n",
       "  614: 33.0,\n",
       "  627: 42.46,\n",
       "  632: 35.53,\n",
       "  639: 33.66,\n",
       "  644: 35.31,\n",
       "  650: 42.68,\n",
       "  651: 39.6,\n",
       "  652: 31.13,\n",
       "  653: 36.3,\n",
       "  654: 35.2,\n",
       "  660: 46.53,\n",
       "  661: 23.98,\n",
       "  663: 33.66,\n",
       "  669: 29.81,\n",
       "  670: 31.57,\n",
       "  672: 29.7,\n",
       "  673: 31.02,\n",
       "  676: 40.81,\n",
       "  687: 41.69,\n",
       "  699: 39.27,\n",
       "  700: 34.87,\n",
       "  702: 41.47,\n",
       "  710: 35.2,\n",
       "  711: 23.54,\n",
       "  729: 36.08,\n",
       "  743: 26.62,\n",
       "  753: 22.77,\n",
       "  775: 33.33,\n",
       "  778: 34.32,\n",
       "  781: 41.14,\n",
       "  782: 35.97,\n",
       "  784: 29.26,\n",
       "  789: 29.92,\n",
       "  790: 41.8,\n",
       "  796: 44.22,\n",
       "  800: 26.18,\n",
       "  801: 35.97,\n",
       "  804: 26.51,\n",
       "  808: 30.14,\n",
       "  812: 21.01,\n",
       "  814: 34.43,\n",
       "  815: 31.46,\n",
       "  822: 31.13,\n",
       "  823: 29.81,\n",
       "  835: 35.97,\n",
       "  858: 32.23,\n",
       "  866: 37.29,\n",
       "  871: 29.48,\n",
       "  872: 24.86,\n",
       "  877: 33.44,\n",
       "  891: 29.04,\n",
       "  898: 40.26,\n",
       "  903: 36.85,\n",
       "  907: 32.34,\n",
       "  915: 33.99,\n",
       "  919: 34.21,\n",
       "  928: 39.16,\n",
       "  929: 34.21,\n",
       "  930: 46.53,\n",
       "  934: 37.18,\n",
       "  938: 26.18,\n",
       "  939: 29.48,\n",
       "  940: 23.21,\n",
       "  941: 46.09,\n",
       "  944: 39.93,\n",
       "  955: 39.49,\n",
       "  962: 35.2,\n",
       "  969: 34.32,\n",
       "  970: 28.16,\n",
       "  974: 35.42,\n",
       "  976: 40.15,\n",
       "  977: 29.15,\n",
       "  979: 29.92,\n",
       "  993: 28.27,\n",
       "  997: 36.85,\n",
       "  1023: 23.32,\n",
       "  1024: 45.32,\n",
       "  1057: 31.79,\n",
       "  1058: 39.49,\n",
       "  1060: 32.01,\n",
       "  1061: 27.94,\n",
       "  1066: 37.29,\n",
       "  1069: 31.9,\n",
       "  1075: 29.59,\n",
       "  1079: 33.66,\n",
       "  1080: 21.78,\n",
       "  1097: 33.77,\n",
       "  1099: 33.99,\n",
       "  1102: 38.94,\n",
       "  1103: 36.08,\n",
       "  1105: 31.24,\n",
       "  1109: 20.35,\n",
       "  1115: 32.67,\n",
       "  1121: 38.17,\n",
       "  1127: 35.86,\n",
       "  1130: 23.87,\n",
       "  1138: 30.25,\n",
       "  1140: 37.07,\n",
       "  1142: 24.86,\n",
       "  1143: 32.34,\n",
       "  1161: 42.13,\n",
       "  1162: 38.83,\n",
       "  1166: 40.37,\n",
       "  1172: 41.91,\n",
       "  1197: 33.55,\n",
       "  1211: 34.1,\n",
       "  1216: 25.08,\n",
       "  1217: 37.29,\n",
       "  1221: 24.97,\n",
       "  1222: 25.3,\n",
       "  1225: 39.82,\n",
       "  1227: 37.18,\n",
       "  1228: 34.43,\n",
       "  1234: 27.83,\n",
       "  1239: 42.13,\n",
       "  1243: 33.11,\n",
       "  1244: 33.33,\n",
       "  1248: 39.82,\n",
       "  1254: 27.72,\n",
       "  1262: 28.05,\n",
       "  1272: 25.52,\n",
       "  1273: 27.61,\n",
       "  1280: 33.33,\n",
       "  1283: 30.03,\n",
       "  1289: 34.32,\n",
       "  1292: 23.21,\n",
       "  1297: 26.51,\n",
       "  1305: 27.72,\n",
       "  1322: 38.83,\n",
       "  1327: 30.03,\n",
       "  1330: 25.74,\n",
       "  1335: 36.85},\n",
       " 'children': {1: 1.0,\n",
       "  2: 3.0,\n",
       "  5: 0.0,\n",
       "  6: 1.0,\n",
       "  13: 0.0,\n",
       "  22: 0.0,\n",
       "  25: 3.0,\n",
       "  41: 2.0,\n",
       "  42: 1.0,\n",
       "  43: 2.0,\n",
       "  48: 0.0,\n",
       "  61: 4.0,\n",
       "  68: 0.0,\n",
       "  73: 1.0,\n",
       "  76: 1.0,\n",
       "  77: 0.0,\n",
       "  90: 0.0,\n",
       "  95: 1.0,\n",
       "  97: 0.0,\n",
       "  108: 0.0,\n",
       "  118: 0.0,\n",
       "  135: 0.0,\n",
       "  138: 3.0,\n",
       "  145: 3.0,\n",
       "  147: 1.0,\n",
       "  151: 0.0,\n",
       "  159: 3.0,\n",
       "  170: 0.0,\n",
       "  181: 0.0,\n",
       "  184: 2.0,\n",
       "  186: 2.0,\n",
       "  190: 0.0,\n",
       "  192: 0.0,\n",
       "  194: 0.0,\n",
       "  197: 2.0,\n",
       "  201: 1.0,\n",
       "  206: 0.0,\n",
       "  213: 1.0,\n",
       "  217: 0.0,\n",
       "  218: 1.0,\n",
       "  219: 0.0,\n",
       "  225: 3.0,\n",
       "  226: 0.0,\n",
       "  227: 0.0,\n",
       "  231: 3.0,\n",
       "  236: 0.0,\n",
       "  237: 2.0,\n",
       "  239: 1.0,\n",
       "  246: 0.0,\n",
       "  247: 0.0,\n",
       "  257: 0.0,\n",
       "  264: 3.0,\n",
       "  270: 1.0,\n",
       "  278: 2.0,\n",
       "  279: 1.0,\n",
       "  285: 1.0,\n",
       "  289: 3.0,\n",
       "  293: 0.0,\n",
       "  302: 2.0,\n",
       "  303: 2.0,\n",
       "  307: 1.0,\n",
       "  313: 0.0,\n",
       "  326: 1.0,\n",
       "  336: 0.0,\n",
       "  339: 1.0,\n",
       "  344: 4.0,\n",
       "  345: 3.0,\n",
       "  346: 2.0,\n",
       "  348: 1.0,\n",
       "  354: 0.0,\n",
       "  356: 3.0,\n",
       "  358: 0.0,\n",
       "  359: 0.0,\n",
       "  364: 2.0,\n",
       "  374: 0.0,\n",
       "  379: 1.0,\n",
       "  382: 0.0,\n",
       "  383: 2.0,\n",
       "  386: 0.0,\n",
       "  397: 0.0,\n",
       "  399: 0.0,\n",
       "  406: 0.0,\n",
       "  408: 3.0,\n",
       "  409: 1.0,\n",
       "  415: 1.0,\n",
       "  416: 0.0,\n",
       "  418: 1.0,\n",
       "  425: 5.0,\n",
       "  435: 3.0,\n",
       "  438: 5.0,\n",
       "  442: 0.0,\n",
       "  443: 1.0,\n",
       "  454: 2.0,\n",
       "  456: 2.0,\n",
       "  459: 3.0,\n",
       "  460: 3.0,\n",
       "  469: 1.0,\n",
       "  470: 0.0,\n",
       "  478: 0.0,\n",
       "  479: 0.0,\n",
       "  481: 2.0,\n",
       "  482: 0.0,\n",
       "  491: 0.0,\n",
       "  498: 2.0,\n",
       "  504: 1.0,\n",
       "  511: 0.0,\n",
       "  516: 1.0,\n",
       "  521: 0.0,\n",
       "  523: 0.0,\n",
       "  525: 0.0,\n",
       "  532: 2.0,\n",
       "  533: 0.0,\n",
       "  534: 0.0,\n",
       "  538: 1.0,\n",
       "  539: 0.0,\n",
       "  541: 2.0,\n",
       "  542: 0.0,\n",
       "  551: 0.0,\n",
       "  557: 0.0,\n",
       "  563: 1.0,\n",
       "  564: 2.0,\n",
       "  571: 1.0,\n",
       "  572: 2.0,\n",
       "  576: 0.0,\n",
       "  582: 2.0,\n",
       "  583: 1.0,\n",
       "  585: 1.0,\n",
       "  589: 1.0,\n",
       "  592: 2.0,\n",
       "  594: 0.0,\n",
       "  596: 2.0,\n",
       "  600: 0.0,\n",
       "  603: 3.0,\n",
       "  605: 0.0,\n",
       "  610: 1.0,\n",
       "  614: 0.0,\n",
       "  627: 1.0,\n",
       "  632: 0.0,\n",
       "  639: 4.0,\n",
       "  644: 2.0,\n",
       "  650: 2.0,\n",
       "  651: 1.0,\n",
       "  652: 0.0,\n",
       "  653: 2.0,\n",
       "  654: 0.0,\n",
       "  660: 3.0,\n",
       "  661: 1.0,\n",
       "  663: 0.0,\n",
       "  669: 1.0,\n",
       "  670: 3.0,\n",
       "  672: 0.0,\n",
       "  673: 0.0,\n",
       "  676: 3.0,\n",
       "  687: 0.0,\n",
       "  699: 2.0,\n",
       "  700: 0.0,\n",
       "  702: 0.0,\n",
       "  710: 1.0,\n",
       "  711: 2.0,\n",
       "  729: 1.0,\n",
       "  743: 0.0,\n",
       "  753: 0.0,\n",
       "  775: 3.0,\n",
       "  778: 3.0,\n",
       "  781: 0.0,\n",
       "  782: 1.0,\n",
       "  784: 1.0,\n",
       "  789: 0.0,\n",
       "  790: 0.0,\n",
       "  796: 2.0,\n",
       "  800: 1.0,\n",
       "  801: 0.0,\n",
       "  804: 0.0,\n",
       "  808: 0.0,\n",
       "  812: 2.0,\n",
       "  814: 2.0,\n",
       "  815: 0.0,\n",
       "  822: 0.0,\n",
       "  823: 2.0,\n",
       "  835: 2.0,\n",
       "  858: 1.0,\n",
       "  866: 0.0,\n",
       "  871: 1.0,\n",
       "  872: 0.0,\n",
       "  877: 5.0,\n",
       "  891: 4.0,\n",
       "  898: 0.0,\n",
       "  903: 0.0,\n",
       "  907: 1.0,\n",
       "  915: 0.0,\n",
       "  919: 1.0,\n",
       "  928: 0.0,\n",
       "  929: 1.0,\n",
       "  930: 1.0,\n",
       "  934: 2.0,\n",
       "  938: 2.0,\n",
       "  939: 0.0,\n",
       "  940: 0.0,\n",
       "  941: 1.0,\n",
       "  944: 0.0,\n",
       "  955: 1.0,\n",
       "  962: 1.0,\n",
       "  969: 5.0,\n",
       "  970: 3.0,\n",
       "  974: 0.0,\n",
       "  976: 0.0,\n",
       "  977: 1.0,\n",
       "  979: 0.0,\n",
       "  993: 1.0,\n",
       "  997: 0.0,\n",
       "  1023: 1.0,\n",
       "  1024: 1.0,\n",
       "  1057: 0.0,\n",
       "  1058: 0.0,\n",
       "  1060: 0.0,\n",
       "  1061: 1.0,\n",
       "  1066: 2.0,\n",
       "  1069: 1.0,\n",
       "  1075: 1.0,\n",
       "  1079: 3.0,\n",
       "  1080: 2.0,\n",
       "  1097: 0.0,\n",
       "  1099: 1.0,\n",
       "  1102: 1.0,\n",
       "  1103: 0.0,\n",
       "  1105: 0.0,\n",
       "  1109: 3.0,\n",
       "  1115: 1.0,\n",
       "  1121: 2.0,\n",
       "  1127: 2.0,\n",
       "  1130: 5.0,\n",
       "  1138: 0.0,\n",
       "  1140: 1.0,\n",
       "  1142: 0.0,\n",
       "  1143: 2.0,\n",
       "  1161: 2.0,\n",
       "  1162: 1.0,\n",
       "  1166: 0.0,\n",
       "  1172: 0.0,\n",
       "  1197: 0.0,\n",
       "  1211: 2.0,\n",
       "  1216: 0.0,\n",
       "  1217: 2.0,\n",
       "  1221: 2.0,\n",
       "  1222: 0.0,\n",
       "  1225: 1.0,\n",
       "  1227: 2.0,\n",
       "  1228: 0.0,\n",
       "  1234: 2.0,\n",
       "  1239: 1.0,\n",
       "  1243: 0.0,\n",
       "  1244: 0.0,\n",
       "  1248: 0.0,\n",
       "  1254: 0.0,\n",
       "  1262: 1.0,\n",
       "  1272: 5.0,\n",
       "  1273: 1.0,\n",
       "  1280: 0.0,\n",
       "  1283: 1.0,\n",
       "  1289: 1.0,\n",
       "  1292: 0.0,\n",
       "  1297: 2.0,\n",
       "  1305: 0.0,\n",
       "  1322: 0.0,\n",
       "  1327: 1.0,\n",
       "  1330: 2.0,\n",
       "  1335: 0.0},\n",
       " 'charges': {1: 1725.5523,\n",
       "  2: 4449.462,\n",
       "  5: 3756.6216,\n",
       "  6: 8240.5896,\n",
       "  13: 11090.7178,\n",
       "  22: 1137.011,\n",
       "  25: 14001.1338,\n",
       "  41: 4949.7587,\n",
       "  42: 6272.4772,\n",
       "  43: 6313.759,\n",
       "  48: 12629.8967,\n",
       "  61: 4504.6624,\n",
       "  68: 5920.1041,\n",
       "  73: 11946.6259,\n",
       "  76: 3947.4131,\n",
       "  77: 1532.4697,\n",
       "  90: 2026.9741,\n",
       "  95: 3766.8838,\n",
       "  97: 10226.2842,\n",
       "  108: 2867.1196,\n",
       "  118: 8601.3293,\n",
       "  135: 2155.6815,\n",
       "  138: 27322.733860000004,\n",
       "  145: 5138.2567,\n",
       "  147: 9877.6077,\n",
       "  151: 7789.635,\n",
       "  159: 19749.383380000003,\n",
       "  170: 13405.3903,\n",
       "  181: 1631.8212,\n",
       "  184: 7731.4271,\n",
       "  186: 3981.9768,\n",
       "  190: 12557.6053,\n",
       "  192: 2137.6536,\n",
       "  194: 1137.4697,\n",
       "  197: 8516.829,\n",
       "  201: 8871.1517,\n",
       "  206: 11743.298999999999,\n",
       "  213: 5002.7827,\n",
       "  217: 2483.736,\n",
       "  218: 3392.9768,\n",
       "  219: 25081.76784,\n",
       "  225: 11987.1682,\n",
       "  226: 2689.4954,\n",
       "  227: 24227.33724,\n",
       "  231: 14001.2867,\n",
       "  236: 1615.7667,\n",
       "  237: 4463.2051,\n",
       "  239: 7152.6714,\n",
       "  246: 12648.7034,\n",
       "  247: 1986.9334,\n",
       "  257: 5400.9805,\n",
       "  264: 20462.99766,\n",
       "  270: 1719.4363,\n",
       "  278: 12928.7911,\n",
       "  279: 9855.1314,\n",
       "  285: 7742.1098,\n",
       "  289: 25992.82104,\n",
       "  293: 2156.7518,\n",
       "  302: 12265.5069,\n",
       "  303: 4349.462,\n",
       "  307: 4151.0287,\n",
       "  313: 8124.4084,\n",
       "  326: 3561.8889,\n",
       "  336: 12142.5786,\n",
       "  339: 8232.6388,\n",
       "  344: 10977.2063,\n",
       "  345: 6184.2994,\n",
       "  346: 4889.9995,\n",
       "  348: 5478.0368,\n",
       "  354: 14133.03775,\n",
       "  356: 8944.1151,\n",
       "  358: 1837.2819,\n",
       "  359: 1607.5101,\n",
       "  364: 3180.5101,\n",
       "  374: 1391.5287,\n",
       "  379: 27000.98473,\n",
       "  382: 20781.48892,\n",
       "  383: 5846.9176,\n",
       "  386: 11856.4115,\n",
       "  397: 16586.49771,\n",
       "  399: 1631.6683,\n",
       "  406: 4185.0979,\n",
       "  408: 6652.5288,\n",
       "  409: 4074.4537,\n",
       "  415: 7345.7266,\n",
       "  416: 9140.951,\n",
       "  418: 14418.2804,\n",
       "  425: 9788.8659,\n",
       "  435: 13919.8229,\n",
       "  438: 12592.5345,\n",
       "  442: 1149.3959,\n",
       "  443: 28287.897660000002,\n",
       "  454: 4686.3887,\n",
       "  456: 11881.9696,\n",
       "  459: 7682.67,\n",
       "  460: 10381.4787,\n",
       "  469: 2201.0971,\n",
       "  470: 2497.0383,\n",
       "  478: 1534.3045,\n",
       "  479: 1824.2854,\n",
       "  481: 9304.7019,\n",
       "  482: 1622.1885,\n",
       "  491: 24513.09126,\n",
       "  498: 8211.1002,\n",
       "  504: 5974.3847,\n",
       "  511: 2498.4144,\n",
       "  516: 27724.28875,\n",
       "  521: 3994.1778,\n",
       "  523: 5397.6167,\n",
       "  525: 11482.63485,\n",
       "  532: 12925.886,\n",
       "  533: 19214.705530000003,\n",
       "  534: 13831.1152,\n",
       "  538: 8233.0975,\n",
       "  539: 27346.04207,\n",
       "  541: 3056.3881,\n",
       "  542: 13887.204,\n",
       "  551: 3972.9247,\n",
       "  557: 3935.1799,\n",
       "  563: 9058.7303,\n",
       "  564: 2801.2588,\n",
       "  571: 2219.4451,\n",
       "  572: 4753.6368,\n",
       "  576: 1664.9996,\n",
       "  582: 6356.2707,\n",
       "  583: 17626.23951,\n",
       "  585: 4779.6023,\n",
       "  589: 5976.8311,\n",
       "  592: 2566.4707,\n",
       "  594: 5709.1644,\n",
       "  596: 7640.3092,\n",
       "  600: 1633.0444,\n",
       "  603: 16085.1275,\n",
       "  605: 9283.562,\n",
       "  610: 8547.6913,\n",
       "  614: 1880.07,\n",
       "  627: 11326.71487,\n",
       "  632: 3366.6697,\n",
       "  639: 12949.1554,\n",
       "  644: 18806.14547,\n",
       "  650: 9800.8882,\n",
       "  651: 10579.711000000001,\n",
       "  652: 8280.6227,\n",
       "  653: 8527.532,\n",
       "  654: 12244.531,\n",
       "  660: 6435.6237,\n",
       "  661: 22192.43711,\n",
       "  663: 1136.3994,\n",
       "  669: 6500.2359,\n",
       "  670: 4837.5823,\n",
       "  672: 4399.731,\n",
       "  673: 6185.3208,\n",
       "  676: 12485.8009,\n",
       "  687: 5438.7491,\n",
       "  699: 3500.6123,\n",
       "  700: 2020.5523,\n",
       "  702: 9504.3103,\n",
       "  710: 1727.54,\n",
       "  711: 10107.2206,\n",
       "  729: 6781.3542,\n",
       "  743: 3757.8448,\n",
       "  753: 11833.7823,\n",
       "  775: 10560.4917,\n",
       "  778: 5934.3798,\n",
       "  781: 1146.7966,\n",
       "  782: 9386.1613,\n",
       "  784: 4350.5144,\n",
       "  789: 13457.9608,\n",
       "  790: 5662.225,\n",
       "  796: 4266.1658,\n",
       "  800: 7046.7222,\n",
       "  801: 14313.8463,\n",
       "  804: 1815.8759,\n",
       "  808: 1131.5066,\n",
       "  812: 11013.7119,\n",
       "  814: 5584.3057,\n",
       "  815: 1877.9294,\n",
       "  822: 1621.8827,\n",
       "  823: 8219.2039,\n",
       "  835: 7160.3303,\n",
       "  858: 18218.16139,\n",
       "  866: 1141.4451,\n",
       "  871: 3392.3652,\n",
       "  872: 5966.8874,\n",
       "  877: 6653.7886,\n",
       "  891: 7243.8136,\n",
       "  898: 1634.5734,\n",
       "  903: 8125.7845,\n",
       "  907: 7633.7206,\n",
       "  915: 2473.3341,\n",
       "  919: 5245.2269,\n",
       "  928: 13470.8044,\n",
       "  929: 6289.7549,\n",
       "  930: 2927.0647,\n",
       "  934: 4673.3922,\n",
       "  938: 2304.0022,\n",
       "  939: 9487.6442,\n",
       "  940: 1121.8739,\n",
       "  941: 9549.5651,\n",
       "  944: 12982.8747,\n",
       "  955: 3875.7341,\n",
       "  962: 14474.675,\n",
       "  969: 8596.8278,\n",
       "  970: 10702.6424,\n",
       "  974: 2322.6218,\n",
       "  976: 7804.1605,\n",
       "  977: 2902.9065,\n",
       "  979: 4889.0368,\n",
       "  993: 5484.4673,\n",
       "  997: 13887.9685,\n",
       "  1023: 1711.0268,\n",
       "  1024: 8569.8618,\n",
       "  1057: 17929.303369999998,\n",
       "  1058: 2480.9791,\n",
       "  1060: 1981.5819,\n",
       "  1061: 11554.2236,\n",
       "  1066: 8978.1851,\n",
       "  1069: 10928.848999999998,\n",
       "  1075: 4562.8421,\n",
       "  1079: 15161.5344,\n",
       "  1080: 11884.04858,\n",
       "  1097: 1674.6323,\n",
       "  1099: 3227.1211,\n",
       "  1102: 3471.4096,\n",
       "  1103: 11363.2832,\n",
       "  1105: 10338.9316,\n",
       "  1109: 8605.3615,\n",
       "  1115: 10807.4863,\n",
       "  1121: 8347.1643,\n",
       "  1127: 5836.5204,\n",
       "  1130: 8582.3023,\n",
       "  1138: 3704.3545,\n",
       "  1140: 9048.0273,\n",
       "  1142: 27117.99378,\n",
       "  1143: 6338.0756,\n",
       "  1161: 5124.1887,\n",
       "  1162: 18963.171919999997,\n",
       "  1166: 10982.5013,\n",
       "  1172: 11093.6229,\n",
       "  1197: 5699.8375,\n",
       "  1211: 23563.016180000002,\n",
       "  1216: 5415.6612,\n",
       "  1217: 4058.1161,\n",
       "  1221: 6593.5083,\n",
       "  1222: 8442.667,\n",
       "  1225: 4795.6568,\n",
       "  1227: 7162.0122,\n",
       "  1228: 10594.2257,\n",
       "  1234: 8515.7587,\n",
       "  1239: 3238.4357,\n",
       "  1243: 3171.6149,\n",
       "  1244: 1135.9407,\n",
       "  1248: 1633.9618,\n",
       "  1254: 4415.1588,\n",
       "  1262: 6770.1925,\n",
       "  1272: 14478.33015,\n",
       "  1273: 4747.0529,\n",
       "  1280: 8283.6807,\n",
       "  1283: 1720.3537,\n",
       "  1289: 7147.4728,\n",
       "  1292: 1515.3449,\n",
       "  1297: 4340.4409,\n",
       "  1305: 2464.6188,\n",
       "  1322: 12981.3457,\n",
       "  1327: 9377.9047,\n",
       "  1330: 12629.1656,\n",
       "  1335: 1629.8335},\n",
       " 'female': {1: 0.0,\n",
       "  2: 0.0,\n",
       "  5: 1.0,\n",
       "  6: 1.0,\n",
       "  13: 1.0,\n",
       "  22: 0.0,\n",
       "  25: 1.0,\n",
       "  41: 1.0,\n",
       "  42: 0.0,\n",
       "  43: 1.0,\n",
       "  48: 1.0,\n",
       "  61: 0.0,\n",
       "  68: 1.0,\n",
       "  73: 0.0,\n",
       "  76: 1.0,\n",
       "  77: 0.0,\n",
       "  90: 1.0,\n",
       "  95: 1.0,\n",
       "  97: 0.0,\n",
       "  108: 0.0,\n",
       "  118: 1.0,\n",
       "  135: 1.0,\n",
       "  138: 1.0,\n",
       "  145: 1.0,\n",
       "  147: 1.0,\n",
       "  151: 0.0,\n",
       "  159: 1.0,\n",
       "  170: 0.0,\n",
       "  181: 1.0,\n",
       "  184: 0.0,\n",
       "  186: 1.0,\n",
       "  190: 0.0,\n",
       "  192: 0.0,\n",
       "  194: 0.0,\n",
       "  197: 1.0,\n",
       "  201: 1.0,\n",
       "  206: 0.0,\n",
       "  213: 1.0,\n",
       "  217: 0.0,\n",
       "  218: 1.0,\n",
       "  219: 1.0,\n",
       "  225: 0.0,\n",
       "  226: 0.0,\n",
       "  227: 1.0,\n",
       "  231: 1.0,\n",
       "  236: 1.0,\n",
       "  237: 0.0,\n",
       "  239: 0.0,\n",
       "  246: 1.0,\n",
       "  247: 0.0,\n",
       "  257: 1.0,\n",
       "  264: 1.0,\n",
       "  270: 0.0,\n",
       "  278: 0.0,\n",
       "  279: 1.0,\n",
       "  285: 0.0,\n",
       "  289: 0.0,\n",
       "  293: 1.0,\n",
       "  302: 1.0,\n",
       "  303: 1.0,\n",
       "  307: 1.0,\n",
       "  313: 0.0,\n",
       "  326: 1.0,\n",
       "  336: 0.0,\n",
       "  339: 1.0,\n",
       "  344: 1.0,\n",
       "  345: 1.0,\n",
       "  346: 0.0,\n",
       "  348: 1.0,\n",
       "  354: 1.0,\n",
       "  356: 0.0,\n",
       "  358: 0.0,\n",
       "  359: 1.0,\n",
       "  364: 1.0,\n",
       "  374: 0.0,\n",
       "  379: 0.0,\n",
       "  382: 0.0,\n",
       "  383: 1.0,\n",
       "  386: 1.0,\n",
       "  397: 0.0,\n",
       "  399: 1.0,\n",
       "  406: 1.0,\n",
       "  408: 0.0,\n",
       "  409: 0.0,\n",
       "  415: 1.0,\n",
       "  416: 0.0,\n",
       "  418: 0.0,\n",
       "  425: 0.0,\n",
       "  435: 0.0,\n",
       "  438: 1.0,\n",
       "  442: 0.0,\n",
       "  443: 1.0,\n",
       "  454: 0.0,\n",
       "  456: 1.0,\n",
       "  459: 1.0,\n",
       "  460: 1.0,\n",
       "  469: 1.0,\n",
       "  470: 0.0,\n",
       "  478: 0.0,\n",
       "  479: 0.0,\n",
       "  481: 0.0,\n",
       "  482: 1.0,\n",
       "  491: 1.0,\n",
       "  498: 1.0,\n",
       "  504: 1.0,\n",
       "  511: 0.0,\n",
       "  516: 0.0,\n",
       "  521: 1.0,\n",
       "  523: 1.0,\n",
       "  525: 1.0,\n",
       "  532: 0.0,\n",
       "  533: 0.0,\n",
       "  534: 0.0,\n",
       "  538: 1.0,\n",
       "  539: 0.0,\n",
       "  541: 1.0,\n",
       "  542: 1.0,\n",
       "  551: 1.0,\n",
       "  557: 0.0,\n",
       "  563: 0.0,\n",
       "  564: 1.0,\n",
       "  571: 1.0,\n",
       "  572: 1.0,\n",
       "  576: 0.0,\n",
       "  582: 0.0,\n",
       "  583: 1.0,\n",
       "  585: 1.0,\n",
       "  589: 1.0,\n",
       "  592: 0.0,\n",
       "  594: 0.0,\n",
       "  596: 1.0,\n",
       "  600: 1.0,\n",
       "  603: 1.0,\n",
       "  605: 1.0,\n",
       "  610: 1.0,\n",
       "  614: 1.0,\n",
       "  627: 0.0,\n",
       "  632: 1.0,\n",
       "  639: 0.0,\n",
       "  644: 0.0,\n",
       "  650: 1.0,\n",
       "  651: 1.0,\n",
       "  652: 1.0,\n",
       "  653: 1.0,\n",
       "  654: 1.0,\n",
       "  660: 0.0,\n",
       "  661: 1.0,\n",
       "  663: 0.0,\n",
       "  669: 1.0,\n",
       "  670: 0.0,\n",
       "  672: 0.0,\n",
       "  673: 1.0,\n",
       "  676: 1.0,\n",
       "  687: 0.0,\n",
       "  699: 1.0,\n",
       "  700: 1.0,\n",
       "  702: 0.0,\n",
       "  710: 0.0,\n",
       "  711: 1.0,\n",
       "  729: 1.0,\n",
       "  743: 1.0,\n",
       "  753: 1.0,\n",
       "  775: 0.0,\n",
       "  778: 0.0,\n",
       "  781: 0.0,\n",
       "  782: 0.0,\n",
       "  784: 1.0,\n",
       "  789: 1.0,\n",
       "  790: 1.0,\n",
       "  796: 0.0,\n",
       "  800: 1.0,\n",
       "  801: 1.0,\n",
       "  804: 0.0,\n",
       "  808: 0.0,\n",
       "  812: 0.0,\n",
       "  814: 0.0,\n",
       "  815: 1.0,\n",
       "  822: 1.0,\n",
       "  823: 1.0,\n",
       "  835: 0.0,\n",
       "  858: 1.0,\n",
       "  866: 0.0,\n",
       "  871: 1.0,\n",
       "  872: 0.0,\n",
       "  877: 0.0,\n",
       "  891: 1.0,\n",
       "  898: 1.0,\n",
       "  903: 0.0,\n",
       "  907: 1.0,\n",
       "  915: 1.0,\n",
       "  919: 1.0,\n",
       "  928: 1.0,\n",
       "  929: 0.0,\n",
       "  930: 0.0,\n",
       "  934: 0.0,\n",
       "  938: 0.0,\n",
       "  939: 0.0,\n",
       "  940: 0.0,\n",
       "  941: 1.0,\n",
       "  944: 0.0,\n",
       "  955: 0.0,\n",
       "  962: 1.0,\n",
       "  969: 1.0,\n",
       "  970: 1.0,\n",
       "  974: 0.0,\n",
       "  976: 0.0,\n",
       "  977: 0.0,\n",
       "  979: 1.0,\n",
       "  993: 0.0,\n",
       "  997: 1.0,\n",
       "  1023: 0.0,\n",
       "  1024: 1.0,\n",
       "  1057: 1.0,\n",
       "  1058: 1.0,\n",
       "  1060: 0.0,\n",
       "  1061: 0.0,\n",
       "  1066: 0.0,\n",
       "  1069: 1.0,\n",
       "  1075: 1.0,\n",
       "  1079: 0.0,\n",
       "  1080: 0.0,\n",
       "  1097: 0.0,\n",
       "  1099: 1.0,\n",
       "  1102: 0.0,\n",
       "  1103: 0.0,\n",
       "  1105: 1.0,\n",
       "  1109: 0.0,\n",
       "  1115: 0.0,\n",
       "  1121: 0.0,\n",
       "  1127: 1.0,\n",
       "  1130: 1.0,\n",
       "  1138: 0.0,\n",
       "  1140: 0.0,\n",
       "  1142: 1.0,\n",
       "  1143: 0.0,\n",
       "  1161: 0.0,\n",
       "  1162: 0.0,\n",
       "  1166: 0.0,\n",
       "  1172: 1.0,\n",
       "  1197: 0.0,\n",
       "  1211: 0.0,\n",
       "  1216: 0.0,\n",
       "  1217: 0.0,\n",
       "  1221: 0.0,\n",
       "  1222: 0.0,\n",
       "  1225: 1.0,\n",
       "  1227: 0.0,\n",
       "  1228: 0.0,\n",
       "  1234: 1.0,\n",
       "  1239: 1.0,\n",
       "  1243: 1.0,\n",
       "  1244: 0.0,\n",
       "  1248: 1.0,\n",
       "  1254: 1.0,\n",
       "  1262: 1.0,\n",
       "  1272: 0.0,\n",
       "  1273: 0.0,\n",
       "  1280: 1.0,\n",
       "  1283: 0.0,\n",
       "  1289: 0.0,\n",
       "  1292: 0.0,\n",
       "  1297: 1.0,\n",
       "  1305: 1.0,\n",
       "  1322: 0.0,\n",
       "  1327: 0.0,\n",
       "  1330: 1.0,\n",
       "  1335: 1.0},\n",
       " 'male': {1: 1.0,\n",
       "  2: 1.0,\n",
       "  5: 0.0,\n",
       "  6: 0.0,\n",
       "  13: 0.0,\n",
       "  22: 1.0,\n",
       "  25: 0.0,\n",
       "  41: 0.0,\n",
       "  42: 1.0,\n",
       "  43: 0.0,\n",
       "  48: 0.0,\n",
       "  61: 1.0,\n",
       "  68: 0.0,\n",
       "  73: 1.0,\n",
       "  76: 0.0,\n",
       "  77: 1.0,\n",
       "  90: 0.0,\n",
       "  95: 0.0,\n",
       "  97: 1.0,\n",
       "  108: 1.0,\n",
       "  118: 0.0,\n",
       "  135: 0.0,\n",
       "  138: 0.0,\n",
       "  145: 0.0,\n",
       "  147: 0.0,\n",
       "  151: 1.0,\n",
       "  159: 0.0,\n",
       "  170: 1.0,\n",
       "  181: 0.0,\n",
       "  184: 1.0,\n",
       "  186: 0.0,\n",
       "  190: 1.0,\n",
       "  192: 1.0,\n",
       "  194: 1.0,\n",
       "  197: 0.0,\n",
       "  201: 0.0,\n",
       "  206: 1.0,\n",
       "  213: 0.0,\n",
       "  217: 1.0,\n",
       "  218: 0.0,\n",
       "  219: 0.0,\n",
       "  225: 1.0,\n",
       "  226: 1.0,\n",
       "  227: 0.0,\n",
       "  231: 0.0,\n",
       "  236: 0.0,\n",
       "  237: 1.0,\n",
       "  239: 1.0,\n",
       "  246: 0.0,\n",
       "  247: 1.0,\n",
       "  257: 0.0,\n",
       "  264: 0.0,\n",
       "  270: 1.0,\n",
       "  278: 1.0,\n",
       "  279: 0.0,\n",
       "  285: 1.0,\n",
       "  289: 1.0,\n",
       "  293: 0.0,\n",
       "  302: 0.0,\n",
       "  303: 0.0,\n",
       "  307: 0.0,\n",
       "  313: 1.0,\n",
       "  326: 0.0,\n",
       "  336: 1.0,\n",
       "  339: 0.0,\n",
       "  344: 0.0,\n",
       "  345: 0.0,\n",
       "  346: 1.0,\n",
       "  348: 0.0,\n",
       "  354: 0.0,\n",
       "  356: 1.0,\n",
       "  358: 1.0,\n",
       "  359: 0.0,\n",
       "  364: 0.0,\n",
       "  374: 1.0,\n",
       "  379: 1.0,\n",
       "  382: 1.0,\n",
       "  383: 0.0,\n",
       "  386: 0.0,\n",
       "  397: 1.0,\n",
       "  399: 0.0,\n",
       "  406: 0.0,\n",
       "  408: 1.0,\n",
       "  409: 1.0,\n",
       "  415: 0.0,\n",
       "  416: 1.0,\n",
       "  418: 1.0,\n",
       "  425: 1.0,\n",
       "  435: 1.0,\n",
       "  438: 0.0,\n",
       "  442: 1.0,\n",
       "  443: 0.0,\n",
       "  454: 1.0,\n",
       "  456: 0.0,\n",
       "  459: 0.0,\n",
       "  460: 0.0,\n",
       "  469: 0.0,\n",
       "  470: 1.0,\n",
       "  478: 1.0,\n",
       "  479: 1.0,\n",
       "  481: 1.0,\n",
       "  482: 0.0,\n",
       "  491: 0.0,\n",
       "  498: 0.0,\n",
       "  504: 0.0,\n",
       "  511: 1.0,\n",
       "  516: 1.0,\n",
       "  521: 0.0,\n",
       "  523: 0.0,\n",
       "  525: 0.0,\n",
       "  532: 1.0,\n",
       "  533: 1.0,\n",
       "  534: 1.0,\n",
       "  538: 0.0,\n",
       "  539: 1.0,\n",
       "  541: 0.0,\n",
       "  542: 0.0,\n",
       "  551: 0.0,\n",
       "  557: 1.0,\n",
       "  563: 1.0,\n",
       "  564: 0.0,\n",
       "  571: 0.0,\n",
       "  572: 0.0,\n",
       "  576: 1.0,\n",
       "  582: 1.0,\n",
       "  583: 0.0,\n",
       "  585: 0.0,\n",
       "  589: 0.0,\n",
       "  592: 1.0,\n",
       "  594: 1.0,\n",
       "  596: 0.0,\n",
       "  600: 0.0,\n",
       "  603: 0.0,\n",
       "  605: 0.0,\n",
       "  610: 0.0,\n",
       "  614: 0.0,\n",
       "  627: 1.0,\n",
       "  632: 0.0,\n",
       "  639: 1.0,\n",
       "  644: 1.0,\n",
       "  650: 0.0,\n",
       "  651: 0.0,\n",
       "  652: 0.0,\n",
       "  653: 0.0,\n",
       "  654: 0.0,\n",
       "  660: 1.0,\n",
       "  661: 0.0,\n",
       "  663: 1.0,\n",
       "  669: 0.0,\n",
       "  670: 1.0,\n",
       "  672: 1.0,\n",
       "  673: 0.0,\n",
       "  676: 0.0,\n",
       "  687: 1.0,\n",
       "  699: 0.0,\n",
       "  700: 0.0,\n",
       "  702: 1.0,\n",
       "  710: 1.0,\n",
       "  711: 0.0,\n",
       "  729: 0.0,\n",
       "  743: 0.0,\n",
       "  753: 0.0,\n",
       "  775: 1.0,\n",
       "  778: 1.0,\n",
       "  781: 1.0,\n",
       "  782: 1.0,\n",
       "  784: 0.0,\n",
       "  789: 0.0,\n",
       "  790: 0.0,\n",
       "  796: 1.0,\n",
       "  800: 0.0,\n",
       "  801: 0.0,\n",
       "  804: 1.0,\n",
       "  808: 1.0,\n",
       "  812: 1.0,\n",
       "  814: 1.0,\n",
       "  815: 0.0,\n",
       "  822: 0.0,\n",
       "  823: 0.0,\n",
       "  835: 1.0,\n",
       "  858: 0.0,\n",
       "  866: 1.0,\n",
       "  871: 0.0,\n",
       "  872: 1.0,\n",
       "  877: 1.0,\n",
       "  891: 0.0,\n",
       "  898: 0.0,\n",
       "  903: 1.0,\n",
       "  907: 0.0,\n",
       "  915: 0.0,\n",
       "  919: 0.0,\n",
       "  928: 0.0,\n",
       "  929: 1.0,\n",
       "  930: 1.0,\n",
       "  934: 1.0,\n",
       "  938: 1.0,\n",
       "  939: 1.0,\n",
       "  940: 1.0,\n",
       "  941: 0.0,\n",
       "  944: 1.0,\n",
       "  955: 1.0,\n",
       "  962: 0.0,\n",
       "  969: 0.0,\n",
       "  970: 0.0,\n",
       "  974: 1.0,\n",
       "  976: 1.0,\n",
       "  977: 1.0,\n",
       "  979: 0.0,\n",
       "  993: 1.0,\n",
       "  997: 0.0,\n",
       "  1023: 1.0,\n",
       "  1024: 0.0,\n",
       "  1057: 0.0,\n",
       "  1058: 0.0,\n",
       "  1060: 1.0,\n",
       "  1061: 1.0,\n",
       "  1066: 1.0,\n",
       "  1069: 0.0,\n",
       "  1075: 0.0,\n",
       "  1079: 1.0,\n",
       "  1080: 1.0,\n",
       "  1097: 1.0,\n",
       "  1099: 0.0,\n",
       "  1102: 1.0,\n",
       "  1103: 1.0,\n",
       "  1105: 0.0,\n",
       "  1109: 1.0,\n",
       "  1115: 1.0,\n",
       "  1121: 1.0,\n",
       "  1127: 0.0,\n",
       "  1130: 0.0,\n",
       "  1138: 1.0,\n",
       "  1140: 1.0,\n",
       "  1142: 0.0,\n",
       "  1143: 1.0,\n",
       "  1161: 1.0,\n",
       "  1162: 1.0,\n",
       "  1166: 1.0,\n",
       "  1172: 0.0,\n",
       "  1197: 1.0,\n",
       "  1211: 1.0,\n",
       "  1216: 1.0,\n",
       "  1217: 1.0,\n",
       "  1221: 1.0,\n",
       "  1222: 1.0,\n",
       "  1225: 0.0,\n",
       "  1227: 1.0,\n",
       "  1228: 1.0,\n",
       "  1234: 0.0,\n",
       "  1239: 0.0,\n",
       "  1243: 0.0,\n",
       "  1244: 1.0,\n",
       "  1248: 0.0,\n",
       "  1254: 0.0,\n",
       "  1262: 0.0,\n",
       "  1272: 1.0,\n",
       "  1273: 1.0,\n",
       "  1280: 0.0,\n",
       "  1283: 1.0,\n",
       "  1289: 1.0,\n",
       "  1292: 1.0,\n",
       "  1297: 0.0,\n",
       "  1305: 0.0,\n",
       "  1322: 1.0,\n",
       "  1327: 1.0,\n",
       "  1330: 0.0,\n",
       "  1335: 0.0}}"
      ]
     },
     "execution_count": 20,
     "metadata": {},
     "output_type": "execute_result"
    }
   ],
   "source": [
    "# Create data dictionary\n",
    "data_corr.to_dict('dict')"
   ]
  },
  {
   "cell_type": "code",
   "execution_count": 21,
   "metadata": {},
   "outputs": [
    {
     "data": {
      "text/plain": [
       "<matplotlib.image.AxesImage at 0x23fe1e383c8>"
      ]
     },
     "execution_count": 21,
     "metadata": {},
     "output_type": "execute_result"
    },
    {
     "data": {
      "text/plain": [
       "<Figure size 1440x1440 with 0 Axes>"
      ]
     },
     "metadata": {},
     "output_type": "display_data"
    },
    {
     "data": {
      "image/png": "[encoded data removed]",
      "text/plain": [
       "<Figure size 288x288 with 1 Axes>"
      ]
     },
     "metadata": {
      "needs_background": "light"
     },
     "output_type": "display_data"
    }
   ],
   "source": [
    "# Use data visualization to plot correlation matrix.\n",
    "plt.figure(figsize=(20,20))\n",
    "plt.matshow(data_corr.corr())"
   ]
  },
  {
   "cell_type": "code",
   "execution_count": 22,
   "metadata": {},
   "outputs": [
    {
     "data": {
      "text/plain": [
       "<matplotlib.axes._subplots.AxesSubplot at 0x23fe1e66548>"
      ]
     },
     "execution_count": 22,
     "metadata": {},
     "output_type": "execute_result"
    },
    {
     "data": {
      "image/png": "[encoded data removed]",
      "text/plain": [
       "<Figure size 432x288 with 1 Axes>"
      ]
     },
     "metadata": {
      "needs_background": "light"
     },
     "output_type": "display_data"
    }
   ],
   "source": [
    "# Plot the distribution of 'bmi, 'age' & 'charges'\n",
    "sns.distplot(data_corr['bmi'])"
   ]
  },
  {
   "cell_type": "code",
   "execution_count": 23,
   "metadata": {},
   "outputs": [
    {
     "data": {
      "text/plain": [
       "<matplotlib.axes._subplots.AxesSubplot at 0x23fe1f07f88>"
      ]
     },
     "execution_count": 23,
     "metadata": {},
     "output_type": "execute_result"
    },
    {
     "data": {
      "image/png": "[encoded data removed]",
      "text/plain": [
       "<Figure size 432x288 with 1 Axes>"
      ]
     },
     "metadata": {
      "needs_background": "light"
     },
     "output_type": "display_data"
    }
   ],
   "source": [
    "sns.distplot(data_corr['age'])"
   ]
  },
  {
   "cell_type": "code",
   "execution_count": 24,
   "metadata": {},
   "outputs": [
    {
     "data": {
      "text/plain": [
       "<matplotlib.axes._subplots.AxesSubplot at 0x23fe1f816c8>"
      ]
     },
     "execution_count": 24,
     "metadata": {},
     "output_type": "execute_result"
    },
    {
     "data": {
      "image/png": "[encoded data removed]",
      "text/plain": [
       "<Figure size 432x288 with 1 Axes>"
      ]
     },
     "metadata": {
      "needs_background": "light"
     },
     "output_type": "display_data"
    }
   ],
   "source": [
    "sns.distplot(data_corr['charges'])"
   ]
  },
  {
   "cell_type": "code",
   "execution_count": 25,
   "metadata": {},
   "outputs": [
    {
     "data": {
      "text/plain": [
       "age        0.093009\n",
       "bmi        0.051641\n",
       "charges    1.357325\n",
       "dtype: float64"
      ]
     },
     "execution_count": 25,
     "metadata": {},
     "output_type": "execute_result"
    }
   ],
   "source": [
    "# Measure of skewness of ‘bmi’, ‘age’ and ‘charges’ columns\n",
    "data_corr[['age','bmi','charges']].skew()"
   ]
  },
  {
   "cell_type": "code",
   "execution_count": 49,
   "metadata": {},
   "outputs": [
    {
     "data": {
      "text/plain": [
       "<matplotlib.axes._subplots.AxesSubplot at 0x23fe4a53d08>"
      ]
     },
     "execution_count": 49,
     "metadata": {},
     "output_type": "execute_result"
    },
    {
     "data": {
      "image/png": "[encoded data removed]",
      "text/plain": [
       "<Figure size 432x288 with 1 Axes>"
      ]
     },
     "metadata": {
      "needs_background": "light"
     },
     "output_type": "display_data"
    }
   ],
   "source": [
    "# Distribution of categorical columns\n",
    "sns.distplot(data_new['male'])"
   ]
  },
  {
   "cell_type": "code",
   "execution_count": 27,
   "metadata": {},
   "outputs": [
    {
     "data": {
      "text/plain": [
       "<matplotlib.axes._subplots.AxesSubplot at 0x23fe2050a48>"
      ]
     },
     "execution_count": 27,
     "metadata": {},
     "output_type": "execute_result"
    },
    {
     "data": {
      "image/png": "[encoded data removed]",
      "text/plain": [
       "<Figure size 432x288 with 1 Axes>"
      ]
     },
     "metadata": {
      "needs_background": "light"
     },
     "output_type": "display_data"
    }
   ],
   "source": [
    "sns.distplot(data_new['female'])"
   ]
  },
  {
   "cell_type": "code",
   "execution_count": 28,
   "metadata": {},
   "outputs": [
    {
     "data": {
      "text/plain": [
       "<matplotlib.axes._subplots.AxesSubplot at 0x23fe20f8888>"
      ]
     },
     "execution_count": 28,
     "metadata": {},
     "output_type": "execute_result"
    },
    {
     "data": {
      "image/png": "[encoded data removed]",
      "text/plain": [
       "<Figure size 432x288 with 1 Axes>"
      ]
     },
     "metadata": {
      "needs_background": "light"
     },
     "output_type": "display_data"
    }
   ],
   "source": [
    "sns.distplot(data_new['children'])"
   ]
  },
  {
   "cell_type": "code",
   "execution_count": 29,
   "metadata": {},
   "outputs": [
    {
     "name": "stderr",
     "output_type": "stream",
     "text": [
      "C:\\Users\\utkarsh_khamgaonkar\\Documents\\Personal\\Research\\anaconda3\\lib\\site-packages\\statsmodels\\nonparametric\\kde.py:487: RuntimeWarning: invalid value encountered in true_divide\n",
      "  binned = fast_linbin(X, a, b, gridsize) / (delta * nobs)\n",
      "C:\\Users\\utkarsh_khamgaonkar\\Documents\\Personal\\Research\\anaconda3\\lib\\site-packages\\statsmodels\\nonparametric\\kdetools.py:34: RuntimeWarning: invalid value encountered in double_scalars\n",
      "  FAC1 = 2*(np.pi*bw/RANGE)**2\n"
     ]
    },
    {
     "data": {
      "text/plain": [
       "<matplotlib.axes._subplots.AxesSubplot at 0x23fe2198b48>"
      ]
     },
     "execution_count": 29,
     "metadata": {},
     "output_type": "execute_result"
    },
    {
     "data": {
      "image/png": "[encoded data removed]",
      "text/plain": [
       "<Figure size 432x288 with 1 Axes>"
      ]
     },
     "metadata": {
      "needs_background": "light"
     },
     "output_type": "display_data"
    }
   ],
   "source": [
    "sns.distplot(data_new['no'])"
   ]
  },
  {
   "cell_type": "code",
   "execution_count": 30,
   "metadata": {},
   "outputs": [
    {
     "data": {
      "text/plain": [
       "<matplotlib.axes._subplots.AxesSubplot at 0x23fe2231588>"
      ]
     },
     "execution_count": 30,
     "metadata": {},
     "output_type": "execute_result"
    },
    {
     "data": {
      "image/png": "[encoded data removed]",
      "text/plain": [
       "<Figure size 432x288 with 1 Axes>"
      ]
     },
     "metadata": {
      "needs_background": "light"
     },
     "output_type": "display_data"
    }
   ],
   "source": [
    "sns.distplot(data_new['yes'])"
   ]
  },
  {
   "cell_type": "code",
   "execution_count": 31,
   "metadata": {},
   "outputs": [
    {
     "data": {
      "text/plain": [
       "<matplotlib.axes._subplots.AxesSubplot at 0x23fe2280808>"
      ]
     },
     "execution_count": 31,
     "metadata": {},
     "output_type": "execute_result"
    },
    {
     "data": {
      "image/png": "[encoded data removed]",
      "text/plain": [
       "<Figure size 432x288 with 1 Axes>"
      ]
     },
     "metadata": {
      "needs_background": "light"
     },
     "output_type": "display_data"
    }
   ],
   "source": [
    "sns.distplot(data_new['northeast'])"
   ]
  },
  {
   "cell_type": "code",
   "execution_count": 32,
   "metadata": {},
   "outputs": [
    {
     "data": {
      "text/plain": [
       "<matplotlib.axes._subplots.AxesSubplot at 0x23fe2371bc8>"
      ]
     },
     "execution_count": 32,
     "metadata": {},
     "output_type": "execute_result"
    },
    {
     "data": {
      "image/png": "[encoded data removed]",
      "text/plain": [
       "<Figure size 432x288 with 1 Axes>"
      ]
     },
     "metadata": {
      "needs_background": "light"
     },
     "output_type": "display_data"
    }
   ],
   "source": [
    "sns.distplot(data_new['northwest'])"
   ]
  },
  {
   "cell_type": "code",
   "execution_count": 33,
   "metadata": {},
   "outputs": [
    {
     "data": {
      "text/plain": [
       "<matplotlib.axes._subplots.AxesSubplot at 0x23fe2395408>"
      ]
     },
     "execution_count": 33,
     "metadata": {},
     "output_type": "execute_result"
    },
    {
     "data": {
      "image/png": "[encoded data removed]",
      "text/plain": [
       "<Figure size 432x288 with 1 Axes>"
      ]
     },
     "metadata": {
      "needs_background": "light"
     },
     "output_type": "display_data"
    }
   ],
   "source": [
    "sns.distplot(data_new['southeast'])"
   ]
  },
  {
   "cell_type": "code",
   "execution_count": 34,
   "metadata": {},
   "outputs": [
    {
     "data": {
      "text/plain": [
       "<matplotlib.axes._subplots.AxesSubplot at 0x23fe23f1488>"
      ]
     },
     "execution_count": 34,
     "metadata": {},
     "output_type": "execute_result"
    },
    {
     "data": {
      "image/png": "[encoded data removed]",
      "text/plain": [
       "<Figure size 432x288 with 1 Axes>"
      ]
     },
     "metadata": {
      "needs_background": "light"
     },
     "output_type": "display_data"
    }
   ],
   "source": [
    "sns.distplot(data_new['southwest'])"
   ]
  },
  {
   "cell_type": "code",
   "execution_count": 35,
   "metadata": {},
   "outputs": [
    {
     "data": {
      "text/plain": [
       "<seaborn.axisgrid.PairGrid at 0x23fe2455c88>"
      ]
     },
     "execution_count": 35,
     "metadata": {},
     "output_type": "execute_result"
    },
    {
     "data": {
      "image/png": "[encoded data removed]",
      "text/plain": [
       "<Figure size 720x720 with 20 Axes>"
      ]
     },
     "metadata": {
      "needs_background": "light"
     },
     "output_type": "display_data"
    }
   ],
   "source": [
    "# Pair plot that includes all the columns of the data frame\n",
    "sns.pairplot(data)"
   ]
  },
  {
   "cell_type": "markdown",
   "metadata": {},
   "source": [
    "#### From above pairplot, we can conclude that there is a positive correlation between age and charges, i.e. charges increase when age increases."
   ]
  },
  {
   "cell_type": "markdown",
   "metadata": {},
   "source": [
    "## Do charges of people who smoke differ significantly from the people who don't?\n",
    "\n",
    "#### Null Hypthesis (Ho) = The charges are equal, i.e. the mean charges of two groups (smokers and non-smokers) are equal.\n",
    "\n",
    "#### Alternate Hypothesis (Ha) = The charges are not equal, i.e. the mean charges of two groups (smokers and non-smokers) are  not equal."
   ]
  },
  {
   "cell_type": "markdown",
   "metadata": {},
   "source": [
    "#### Significance level\n",
    "$\\alpha$ = 0.05"
   ]
  },
  {
   "cell_type": "code",
   "execution_count": 36,
   "metadata": {},
   "outputs": [],
   "source": [
    "# charges of smokers\n",
    "smokers_charges = data[data['smoker'] == 'yes'].charges\n",
    "# charges of non-smokers\n",
    "non_smokers_charges = data[data['smoker'] == 'no'].charges"
   ]
  },
  {
   "cell_type": "code",
   "execution_count": 37,
   "metadata": {},
   "outputs": [],
   "source": [
    "# calculate p-value to compare mean charges of smokers vs non-smokers\n",
    "t_statistic, p_value = ttest_ind(smokers_charges, non_smokers_charges)"
   ]
  },
  {
   "cell_type": "code",
   "execution_count": 38,
   "metadata": {},
   "outputs": [
    {
     "name": "stdout",
     "output_type": "stream",
     "text": [
      "With a p-value of 1.4067220949376498e-282 the difference is significant. Hence, we reject the null hypothesis.\n"
     ]
    }
   ],
   "source": [
    "# compare the calculated p-value with the assumed p-value of 0.05 and draw conclusion on hypothesis\n",
    "# if p_value < 0.05 => alternate hypothesis, i.e. smokers and non-smokers do not have same mean charges at 5% significance level\n",
    "if p_value < 0.05:\n",
    "    print(f'With a p-value of {p_value} the difference is significant. Hence, we reject the null hypothesis.')\n",
    "else:\n",
    "    print(f'With a p-value of {p_value} the difference is not significant. Hence, we fail to reject the null hypothesis.')"
   ]
  },
  {
   "cell_type": "markdown",
   "metadata": {},
   "source": [
    "## Does bmi of males differ significantly from that of females?\n",
    "\n",
    "#### Null Hypothesis (Ho) = The mean bmi of males and females are equal.\n",
    "\n",
    "#### Alternate Hypothesis (Ha) = The mean bmi of males and females are not equal."
   ]
  },
  {
   "cell_type": "markdown",
   "metadata": {},
   "source": [
    "#### Significance level\n",
    "$\\alpha$ = 0.05"
   ]
  },
  {
   "cell_type": "code",
   "execution_count": 39,
   "metadata": {},
   "outputs": [],
   "source": [
    "# bmi of males\n",
    "male_bmi = data[data['sex'] == 'male'].bmi\n",
    "# bmi of females\n",
    "female_bmi = data[data['sex'] == 'female'].bmi"
   ]
  },
  {
   "cell_type": "code",
   "execution_count": 40,
   "metadata": {},
   "outputs": [],
   "source": [
    "# calculate p-value to compare mean bmi of males vs females\n",
    "t_statistic, p_value = ttest_ind(male_bmi, female_bmi)"
   ]
  },
  {
   "cell_type": "code",
   "execution_count": 41,
   "metadata": {},
   "outputs": [
    {
     "name": "stdout",
     "output_type": "stream",
     "text": [
      "With a p-value of 0.08991704324931137 the difference is not significant. Hence, we fail to reject the null hypothesis.\n"
     ]
    }
   ],
   "source": [
    "# compare the calculated p-value with the assumed p-value of 0.05 and draw conclusion on hypothesis\n",
    "# if p_value < 0.05 => alternate hypothesis, i.e. males and females do not have same mean bmi at 5% significance level\n",
    "if p_value < 0.05:\n",
    "    print(f'With a p-value of {p_value} the difference is significant. Hence, we reject the null hypothesis.')\n",
    "else:\n",
    "    print(f'With a p-value of {p_value} the difference is not significant. Hence, we fail to reject the null hypothesis.')"
   ]
  },
  {
   "cell_type": "markdown",
   "metadata": {},
   "source": [
    "## Is the proportion of smokers significantly different in different genders?\n",
    "\n",
    "#### Null Hypothesis (Ho) = The proportions are equal.\n",
    "\n",
    "#### Alternate Hypothesis (Ha) = The two proportions are not equal."
   ]
  },
  {
   "cell_type": "markdown",
   "metadata": {},
   "source": [
    "#### Significance level\n",
    "$\\alpha$ = 0.05"
   ]
  },
  {
   "cell_type": "code",
   "execution_count": 42,
   "metadata": {},
   "outputs": [],
   "source": [
    "# number of female smokers\n",
    "female_smokers = data[data['sex'] == 'female'].smoker.value_counts()[1]  \n",
    "# number of male smokers\n",
    "male_smokers = data[data['sex'] == 'male'].smoker.value_counts()[1] \n",
    "# number of females in the data\n",
    "n_females = data.sex.value_counts()[1] \n",
    "#number of males in the data\n",
    "n_males = data.sex.value_counts()[0] "
   ]
  },
  {
   "cell_type": "code",
   "execution_count": 43,
   "metadata": {},
   "outputs": [
    {
     "name": "stdout",
     "output_type": "stream",
     "text": [
      " Proportion of smokers in females, males = 0.17%, 0.24% respectively\n"
     ]
    }
   ],
   "source": [
    "print(f' Proportion of smokers in females, males = {round(female_smokers/n_females,2)}%, {round(male_smokers/n_males,2)}% respectively')"
   ]
  },
  {
   "cell_type": "code",
   "execution_count": 44,
   "metadata": {},
   "outputs": [
    {
     "name": "stdout",
     "output_type": "stream",
     "text": [
      "With a p-value of 0.0051 the difference is significant. Hence, we reject the null hypothesis.\n"
     ]
    }
   ],
   "source": [
    "stat, pval = proportions_ztest([female_smokers, male_smokers] , [n_females, n_males])\n",
    "\n",
    "if pval < 0.05:\n",
    "    print(f'With a p-value of {round(pval,4)} the difference is significant. Hence, we reject the null hypothesis.')\n",
    "else:\n",
    "    print(f'With a p-value of {round(pval,4)} the difference is not significant. Hence, we fail to reject the null hypothesis.')"
   ]
  },
  {
   "cell_type": "markdown",
   "metadata": {},
   "source": [
    "## Is the distribution of bmi across women with no children, one child and two children, the same?\n",
    "\n",
    "#### Null Hypothesis (Ho) : The mean bmi of women with no children, one child and two children are equal, i.e. $\\mu1$ = $\\mu2$ = $\\mu3$\n",
    "\n",
    "#### Alternate Hypothesis (Ha) : The mean bmi of women with no children, one child and two children are not equal, i.e. atleast one $\\mu$ differs."
   ]
  },
  {
   "cell_type": "markdown",
   "metadata": {},
   "source": [
    "#### Significance level\n",
    "$\\alpha$ = 0.05"
   ]
  },
  {
   "cell_type": "code",
   "execution_count": 45,
   "metadata": {},
   "outputs": [],
   "source": [
    "# Preparing data\n",
    "mean_bmi_women_df = pd.DataFrame()\n",
    "\n",
    "mean_bmi_women_nochildren = data[(data['sex'] == 'female') & (data['children'] == 0)].bmi\n",
    "mean_bmi_women_onechild = data[(data['sex'] == 'female') & (data['children'] == 1)].bmi\n",
    "mean_bmi_women_twochildren = data[(data['sex'] == 'female') & (data['children'] == 2)].bmi\n",
    "\n",
    "df1 = pd.DataFrame({'Number_of_children': 0, 'Mean_BMI': mean_bmi_women_nochildren})\n",
    "df2 = pd.DataFrame({'Number_of_children': 1, 'Mean_BMI': mean_bmi_women_onechild})\n",
    "df3 = pd.DataFrame({'Number_of_children': 2, 'Mean_BMI': mean_bmi_women_twochildren})\n",
    "\n",
    "mean_bmi_women_df = mean_bmi_women_df.append(df1)\n",
    "mean_bmi_women_df = mean_bmi_women_df.append(df2)\n",
    "mean_bmi_women_df = mean_bmi_women_df.append(df3)"
   ]
  },
  {
   "cell_type": "code",
   "execution_count": 46,
   "metadata": {
    "scrolled": true
   },
   "outputs": [
    {
     "name": "stdout",
     "output_type": "stream",
     "text": [
      "                          sum_sq     df         F   PR(>F)\n",
      "Number_of_children      2.512982    1.0  0.068411  0.79376\n",
      "Residual            20717.738725  564.0       NaN      NaN\n"
     ]
    }
   ],
   "source": [
    "# Calculate p-value using ANOVA table \n",
    "mod = ols('Mean_BMI ~ Number_of_children', data = mean_bmi_women_df).fit()\n",
    "aov_table = sm.stats.anova_lm(mod, typ=2)\n",
    "print(aov_table)"
   ]
  },
  {
   "cell_type": "markdown",
   "metadata": {},
   "source": [
    "### Hypothesis testing based on calculated p value\n",
    "\n",
    "In this example, p value is 0.79376 and it is more than our chosen level of signifance at 5%\n",
    "\n",
    "So we fail to reject the null hypothesis at 5% level of significance.\n",
    "\n",
    "#### So there is insufficient evidence to reject the null hypothesis. In other words, the mean bmi of women with no children, one child and two children are equal."
   ]
  }
 ],
 "metadata": {
  "kernelspec": {
   "display_name": "Python 3",
   "language": "python",
   "name": "python3"
  },
  "language_info": {
   "codemirror_mode": {
    "name": "ipython",
    "version": 3
   },
   "file_extension": ".py",
   "mimetype": "text/x-python",
   "name": "python",
   "nbconvert_exporter": "python",
   "pygments_lexer": "ipython3",
   "version": "3.7.4"
  }
 },
 "nbformat": 4,
 "nbformat_minor": 2
}
