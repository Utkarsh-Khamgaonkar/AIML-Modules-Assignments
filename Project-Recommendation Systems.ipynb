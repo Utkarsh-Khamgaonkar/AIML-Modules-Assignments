{
 "cells": [
  {
   "cell_type": "markdown",
   "metadata": {},
   "source": [
    "# Product Recommendation Systems"
   ]
  },
  {
   "cell_type": "markdown",
   "metadata": {},
   "source": [
    "## Domain : \n",
    "E-Commerce"
   ]
  },
  {
   "cell_type": "markdown",
   "metadata": {},
   "source": [
    "## Context :\n",
    "Everyday a million products are being recommended to users based on popularity and other metrics on e-commerce websites. The most popular e-commerce website boosts average order value by 50%, increases revenues by 300%, and improves conversion. In addition to being a powerful tool for increasing revenues, product recommendations are so essential that customers now expect to see similar features on all other eCommerce sites."
   ]
  },
  {
   "cell_type": "markdown",
   "metadata": {},
   "source": [
    "## Data :\n",
    "\n",
    "### Source\n",
    "Amazon Reviews data (http://jmcauley.ucsd.edu/data/amazon/) The repository has several datasets. For this case study, we are using the Electronics dataset.\n",
    "\n",
    "### Description\n",
    "Data columns- userId, productId, ratings and timestamp."
   ]
  },
  {
   "cell_type": "code",
   "execution_count": 1,
   "metadata": {},
   "outputs": [
    {
     "name": "stderr",
     "output_type": "stream",
     "text": [
      "C:\\Users\\utkarsh_khamgaonkar\\Documents\\Personal\\Research\\anaconda3\\lib\\site-packages\\sklearn\\externals\\joblib\\__init__.py:15: DeprecationWarning: sklearn.externals.joblib is deprecated in 0.21 and will be removed in 0.23. Please import this functionality directly from joblib, which can be installed with: pip install joblib. If this warning is raised when loading pickled models, you may need to re-serialize those models with scikit-learn 0.21+.\n",
      "  warnings.warn(msg, category=DeprecationWarning)\n"
     ]
    }
   ],
   "source": [
    "# Import necessary libraries\n",
    "import numpy as np\n",
    "import pandas as pd\n",
    "import math\n",
    "import json\n",
    "import time\n",
    "import matplotlib.pyplot as plt\n",
    "%matplotlib inline\n",
    "import seaborn as sns\n",
    "from sklearn.metrics.pairwise import cosine_similarity\n",
    "from sklearn.model_selection import train_test_split\n",
    "from sklearn.neighbors import NearestNeighbors\n",
    "from sklearn.externals import joblib\n",
    "import scipy.sparse\n",
    "from scipy.sparse import csr_matrix\n",
    "from scipy.sparse.linalg import svds\n",
    "import warnings; \n",
    "warnings.filterwarnings('ignore')"
   ]
  },
  {
   "cell_type": "code",
   "execution_count": 2,
   "metadata": {},
   "outputs": [
    {
     "data": {
      "text/html": [
       "<div>\n",
       "<style scoped>\n",
       "    .dataframe tbody tr th:only-of-type {\n",
       "        vertical-align: middle;\n",
       "    }\n",
       "\n",
       "    .dataframe tbody tr th {\n",
       "        vertical-align: top;\n",
       "    }\n",
       "\n",
       "    .dataframe thead th {\n",
       "        text-align: right;\n",
       "    }\n",
       "</style>\n",
       "<table border=\"1\" class=\"dataframe\">\n",
       "  <thead>\n",
       "    <tr style=\"text-align: right;\">\n",
       "      <th></th>\n",
       "      <th>userId</th>\n",
       "      <th>productId</th>\n",
       "      <th>rating</th>\n",
       "      <th>timeStamp</th>\n",
       "    </tr>\n",
       "  </thead>\n",
       "  <tbody>\n",
       "    <tr>\n",
       "      <td>0</td>\n",
       "      <td>AKM1MP6P0OYPR</td>\n",
       "      <td>0132793040</td>\n",
       "      <td>5.0</td>\n",
       "      <td>1365811200</td>\n",
       "    </tr>\n",
       "    <tr>\n",
       "      <td>1</td>\n",
       "      <td>A2CX7LUOHB2NDG</td>\n",
       "      <td>0321732944</td>\n",
       "      <td>5.0</td>\n",
       "      <td>1341100800</td>\n",
       "    </tr>\n",
       "    <tr>\n",
       "      <td>2</td>\n",
       "      <td>A2NWSAGRHCP8N5</td>\n",
       "      <td>0439886341</td>\n",
       "      <td>1.0</td>\n",
       "      <td>1367193600</td>\n",
       "    </tr>\n",
       "    <tr>\n",
       "      <td>3</td>\n",
       "      <td>A2WNBOD3WNDNKT</td>\n",
       "      <td>0439886341</td>\n",
       "      <td>3.0</td>\n",
       "      <td>1374451200</td>\n",
       "    </tr>\n",
       "    <tr>\n",
       "      <td>4</td>\n",
       "      <td>A1GI0U4ZRJA8WN</td>\n",
       "      <td>0439886341</td>\n",
       "      <td>1.0</td>\n",
       "      <td>1334707200</td>\n",
       "    </tr>\n",
       "  </tbody>\n",
       "</table>\n",
       "</div>"
      ],
      "text/plain": [
       "           userId   productId  rating   timeStamp\n",
       "0   AKM1MP6P0OYPR  0132793040     5.0  1365811200\n",
       "1  A2CX7LUOHB2NDG  0321732944     5.0  1341100800\n",
       "2  A2NWSAGRHCP8N5  0439886341     1.0  1367193600\n",
       "3  A2WNBOD3WNDNKT  0439886341     3.0  1374451200\n",
       "4  A1GI0U4ZRJA8WN  0439886341     1.0  1334707200"
      ]
     },
     "execution_count": 2,
     "metadata": {},
     "output_type": "execute_result"
    }
   ],
   "source": [
    "# Read the data set\n",
    "electronics_data = pd.read_csv('ratings_Electronics.csv',names=['userId', 'productId','rating','timeStamp'])\n",
    "electronics_data.head()"
   ]
  },
  {
   "cell_type": "markdown",
   "metadata": {},
   "source": [
    "### Exploratory Data Analysis"
   ]
  },
  {
   "cell_type": "code",
   "execution_count": 3,
   "metadata": {},
   "outputs": [
    {
     "data": {
      "text/plain": [
       "(7824482, 4)"
      ]
     },
     "execution_count": 3,
     "metadata": {},
     "output_type": "execute_result"
    }
   ],
   "source": [
    "electronics_data.shape"
   ]
  },
  {
   "cell_type": "code",
   "execution_count": 4,
   "metadata": {},
   "outputs": [],
   "source": [
    "#Taking subset of the dataset and removing timeStamp column\n",
    "electronics_data=electronics_data.iloc[:1048576,0:3]"
   ]
  },
  {
   "cell_type": "code",
   "execution_count": 5,
   "metadata": {},
   "outputs": [
    {
     "data": {
      "text/plain": [
       "userId        object\n",
       "productId     object\n",
       "rating       float64\n",
       "dtype: object"
      ]
     },
     "execution_count": 5,
     "metadata": {},
     "output_type": "execute_result"
    }
   ],
   "source": [
    "#Check the datatypes\n",
    "electronics_data.dtypes"
   ]
  },
  {
   "cell_type": "code",
   "execution_count": 6,
   "metadata": {},
   "outputs": [
    {
     "name": "stdout",
     "output_type": "stream",
     "text": [
      "<class 'pandas.core.frame.DataFrame'>\n",
      "RangeIndex: 1048576 entries, 0 to 1048575\n",
      "Data columns (total 3 columns):\n",
      "userId       1048576 non-null object\n",
      "productId    1048576 non-null object\n",
      "rating       1048576 non-null float64\n",
      "dtypes: float64(1), object(2)\n",
      "memory usage: 24.0+ MB\n"
     ]
    }
   ],
   "source": [
    "electronics_data.info()"
   ]
  },
  {
   "cell_type": "code",
   "execution_count": 7,
   "metadata": {},
   "outputs": [
    {
     "name": "stdout",
     "output_type": "stream",
     "text": [
      "Number of missing values across columns: \n",
      " userId       0\n",
      "productId    0\n",
      "rating       0\n",
      "dtype: int64\n"
     ]
    }
   ],
   "source": [
    "# Check for missing values in the subset\n",
    "print('Number of missing values across columns: \\n',electronics_data.isnull().sum())"
   ]
  },
  {
   "cell_type": "code",
   "execution_count": 8,
   "metadata": {},
   "outputs": [],
   "source": [
    "# Hence, there are no missing values in the subset of given data."
   ]
  },
  {
   "cell_type": "code",
   "execution_count": 9,
   "metadata": {},
   "outputs": [
    {
     "data": {
      "text/plain": [
       "count    1.048576e+06\n",
       "mean     3.973380e+00\n",
       "std      1.399329e+00\n",
       "min      1.000000e+00\n",
       "25%      3.000000e+00\n",
       "50%      5.000000e+00\n",
       "75%      5.000000e+00\n",
       "max      5.000000e+00\n",
       "Name: rating, dtype: float64"
      ]
     },
     "execution_count": 9,
     "metadata": {},
     "output_type": "execute_result"
    }
   ],
   "source": [
    "# Five point summary \n",
    "electronics_data.describe()['rating'].T"
   ]
  },
  {
   "cell_type": "code",
   "execution_count": 10,
   "metadata": {},
   "outputs": [
    {
     "name": "stdout",
     "output_type": "stream",
     "text": [
      "Minimum rating is: 1\n",
      "Maximum rating is: 5\n"
     ]
    }
   ],
   "source": [
    "#Find the minimum and maximum ratings\n",
    "print('Minimum rating is: %d' %(electronics_data.rating.min()))\n",
    "print('Maximum rating is: %d' %(electronics_data.rating.max()))"
   ]
  },
  {
   "cell_type": "code",
   "execution_count": 11,
   "metadata": {},
   "outputs": [
    {
     "data": {
      "image/png": "[encoded data removed]",
      "text/plain": [
       "<Figure size 720x360 with 1 Axes>"
      ]
     },
     "metadata": {},
     "output_type": "display_data"
    }
   ],
   "source": [
    "# Check the distribution of the rating\n",
    "with sns.axes_style('white'):\n",
    "    g = sns.factorplot(\"rating\", data=electronics_data, aspect=2.0,kind='count')\n",
    "    g.set_ylabels(\"Total number of ratings\")"
   ]
  },
  {
   "cell_type": "code",
   "execution_count": 12,
   "metadata": {},
   "outputs": [],
   "source": [
    "# Majority of people has given the rating of 5, followed by 4 and 1."
   ]
  },
  {
   "cell_type": "code",
   "execution_count": 13,
   "metadata": {},
   "outputs": [
    {
     "name": "stdout",
     "output_type": "stream",
     "text": [
      "Total data \n",
      "--------------------------------------------------\n",
      "Total no of ratings : 1048576\n",
      "Total No of Users   : 786330\n",
      "Total No of products  : 61894\n"
     ]
    }
   ],
   "source": [
    "# Unique Users and products\n",
    "print(\"Total data \")\n",
    "print(\"-\"*50)\n",
    "print(\"Total no of ratings :\",electronics_data.shape[0])\n",
    "print(\"Total No of Users   :\", len(np.unique(electronics_data.userId)))\n",
    "print(\"Total No of products  :\", len(np.unique(electronics_data.productId)))"
   ]
  },
  {
   "cell_type": "markdown",
   "metadata": {},
   "source": [
    "#### Analyzing the rating"
   ]
  },
  {
   "cell_type": "code",
   "execution_count": 14,
   "metadata": {},
   "outputs": [
    {
     "data": {
      "text/plain": [
       "userId\n",
       "A5JLAU2ARJ0BO     412\n",
       "A231WM2Z2JL0U3    249\n",
       "A25HBO5V8S8SEA    164\n",
       "A6FIAB28IS79      146\n",
       "AT6CZDCP4TRGA     128\n",
       "Name: rating, dtype: int64"
      ]
     },
     "execution_count": 14,
     "metadata": {},
     "output_type": "execute_result"
    }
   ],
   "source": [
    "#Analysis of rating given by the user \n",
    "electronics_data['rating'] = electronics_data['rating'].apply(np.int64)\n",
    "no_of_rated_products_per_user = electronics_data.groupby(by='userId')['rating'].count().sort_values(ascending=False)\n",
    "no_of_rated_products_per_user.head()"
   ]
  },
  {
   "cell_type": "code",
   "execution_count": 15,
   "metadata": {},
   "outputs": [
    {
     "data": {
      "text/plain": [
       "count    786330.000000\n",
       "mean          1.333506\n",
       "std           1.385612\n",
       "min           1.000000\n",
       "25%           1.000000\n",
       "50%           1.000000\n",
       "75%           1.000000\n",
       "max         412.000000\n",
       "Name: rating, dtype: float64"
      ]
     },
     "execution_count": 15,
     "metadata": {},
     "output_type": "execute_result"
    }
   ],
   "source": [
    "no_of_rated_products_per_user.describe()"
   ]
  },
  {
   "cell_type": "code",
   "execution_count": 16,
   "metadata": {},
   "outputs": [],
   "source": [
    "quantiles = no_of_rated_products_per_user.quantile(np.arange(0,1.01,0.01), interpolation='higher')"
   ]
  },
  {
   "cell_type": "code",
   "execution_count": 17,
   "metadata": {},
   "outputs": [
    {
     "data": {
      "image/png": "[encoded data removed]",
      "text/plain": [
       "<Figure size 720x720 with 1 Axes>"
      ]
     },
     "metadata": {
      "needs_background": "light"
     },
     "output_type": "display_data"
    }
   ],
   "source": [
    "plt.figure(figsize=(10,10))\n",
    "plt.title(\"Quantiles and their Values\")\n",
    "quantiles.plot()\n",
    "# quantiles with 0.5 difference\n",
    "plt.scatter(x=quantiles.index[::5], y=quantiles.values[::5], c='orange', label=\"quantiles with 0.05 intervals\")\n",
    "# quantiles with 0.25 difference\n",
    "plt.scatter(x=quantiles.index[::25], y=quantiles.values[::25], c='m', label = \"quantiles with 0.25 intervals\")\n",
    "plt.ylabel('No of ratings by user')\n",
    "plt.xlabel('Value at the quantile')\n",
    "plt.legend(loc='best')\n",
    "plt.show()"
   ]
  },
  {
   "cell_type": "code",
   "execution_count": 18,
   "metadata": {},
   "outputs": [
    {
     "name": "stdout",
     "output_type": "stream",
     "text": [
      "No of rated product more than 50 per user : 38\n",
      "\n"
     ]
    }
   ],
   "source": [
    "print('No of rated product more than 50 per user : {}\\n'.format(sum(no_of_rated_products_per_user >= 50)) )"
   ]
  },
  {
   "cell_type": "markdown",
   "metadata": {},
   "source": [
    "## Popularity Based Recommendation\n",
    "\n",
    "Popularity based recommendation system works with the trend. It basically uses the items which are in trend right now. For example, if any product which is usually bought by every new user then there are chances that it may suggest that item to the user who just signed up.\n",
    "\n",
    "The problems with popularity based recommendation system is that the personalization is not available with this method i.e. even though you know the behaviour of the user you cannot recommend items accordingly."
   ]
  },
  {
   "cell_type": "code",
   "execution_count": 19,
   "metadata": {},
   "outputs": [],
   "source": [
    "#Getting the new dataframe which contains users who has given 50 or more ratings\n",
    "users_50ormore_ratings=electronics_data.groupby(\"productId\").filter(lambda x:x['rating'].count() >=50)"
   ]
  },
  {
   "cell_type": "code",
   "execution_count": 20,
   "metadata": {},
   "outputs": [
    {
     "data": {
      "text/plain": [
       "<matplotlib.axes._subplots.AxesSubplot at 0x2a72e84ab08>"
      ]
     },
     "execution_count": 20,
     "metadata": {},
     "output_type": "execute_result"
    },
    {
     "data": {
      "image/png": "[encoded data removed]",
      "text/plain": [
       "<Figure size 432x288 with 1 Axes>"
      ]
     },
     "metadata": {
      "needs_background": "light"
     },
     "output_type": "display_data"
    }
   ],
   "source": [
    "no_of_ratings_per_product = users_50ormore_ratings.groupby(by='productId')['rating'].count().sort_values(ascending=False)\n",
    "no_of_ratings_per_product.head(30).plot(kind = \"bar\")"
   ]
  },
  {
   "cell_type": "markdown",
   "metadata": {},
   "source": [
    "#### Observation :\n",
    "<ol>\n",
    "<li>The above graph gives us the most popular products (arranged in descending order) sold by the business.</li>\n",
    "<li>For eaxmple, product, ID # B0002L5R78 has over 9000 reviews, the next most popular product, ID # B0001FTVEK has over 5000 reviews etc.</li>\n",
    "</ol>"
   ]
  },
  {
   "cell_type": "code",
   "execution_count": 21,
   "metadata": {},
   "outputs": [
    {
     "data": {
      "text/plain": [
       "productId\n",
       "0972683275    4.470980\n",
       "1400501466    3.560000\n",
       "1400501520    4.243902\n",
       "1400501776    3.884892\n",
       "1400532620    3.684211\n",
       "Name: rating, dtype: float64"
      ]
     },
     "execution_count": 21,
     "metadata": {},
     "output_type": "execute_result"
    }
   ],
   "source": [
    "#Average rating of the product \n",
    "users_50ormore_ratings.groupby('productId')['rating'].mean().head()"
   ]
  },
  {
   "cell_type": "code",
   "execution_count": 22,
   "metadata": {},
   "outputs": [
    {
     "data": {
      "text/plain": [
       "productId\n",
       "B0000DYV9H    4.947368\n",
       "B000053HC5    4.945783\n",
       "B00009R96C    4.885714\n",
       "B00005LE76    4.879310\n",
       "B000I1X3W8    4.869565\n",
       "Name: rating, dtype: float64"
      ]
     },
     "execution_count": 22,
     "metadata": {},
     "output_type": "execute_result"
    }
   ],
   "source": [
    "users_50ormore_ratings.groupby('productId')['rating'].mean().sort_values(ascending=False).head()"
   ]
  },
  {
   "cell_type": "code",
   "execution_count": 23,
   "metadata": {},
   "outputs": [
    {
     "data": {
      "text/plain": [
       "productId\n",
       "B0002L5R78    9487\n",
       "B0001FTVEK    5345\n",
       "B000I68BD4    4903\n",
       "B000BQ7GW8    4275\n",
       "B00007E7JU    3523\n",
       "Name: rating, dtype: int64"
      ]
     },
     "execution_count": 23,
     "metadata": {},
     "output_type": "execute_result"
    }
   ],
   "source": [
    "#Total no of rating for product\n",
    "users_50ormore_ratings.groupby('productId')['rating'].count().sort_values(ascending=False).head()"
   ]
  },
  {
   "cell_type": "code",
   "execution_count": 24,
   "metadata": {},
   "outputs": [],
   "source": [
    "ratings_mean_count = pd.DataFrame(users_50ormore_ratings.groupby('productId')['rating'].mean())"
   ]
  },
  {
   "cell_type": "code",
   "execution_count": 25,
   "metadata": {},
   "outputs": [],
   "source": [
    "ratings_mean_count['rating_counts'] = pd.DataFrame(users_50ormore_ratings.groupby('productId')['rating'].count())"
   ]
  },
  {
   "cell_type": "code",
   "execution_count": 26,
   "metadata": {},
   "outputs": [
    {
     "data": {
      "text/html": [
       "<div>\n",
       "<style scoped>\n",
       "    .dataframe tbody tr th:only-of-type {\n",
       "        vertical-align: middle;\n",
       "    }\n",
       "\n",
       "    .dataframe tbody tr th {\n",
       "        vertical-align: top;\n",
       "    }\n",
       "\n",
       "    .dataframe thead th {\n",
       "        text-align: right;\n",
       "    }\n",
       "</style>\n",
       "<table border=\"1\" class=\"dataframe\">\n",
       "  <thead>\n",
       "    <tr style=\"text-align: right;\">\n",
       "      <th></th>\n",
       "      <th>rating</th>\n",
       "      <th>rating_counts</th>\n",
       "    </tr>\n",
       "    <tr>\n",
       "      <th>productId</th>\n",
       "      <th></th>\n",
       "      <th></th>\n",
       "    </tr>\n",
       "  </thead>\n",
       "  <tbody>\n",
       "    <tr>\n",
       "      <td>B0002L5R78</td>\n",
       "      <td>4.448614</td>\n",
       "      <td>9487</td>\n",
       "    </tr>\n",
       "    <tr>\n",
       "      <td>B0001FTVEK</td>\n",
       "      <td>4.007109</td>\n",
       "      <td>5345</td>\n",
       "    </tr>\n",
       "    <tr>\n",
       "      <td>B000I68BD4</td>\n",
       "      <td>3.501530</td>\n",
       "      <td>4903</td>\n",
       "    </tr>\n",
       "    <tr>\n",
       "      <td>B000BQ7GW8</td>\n",
       "      <td>4.553216</td>\n",
       "      <td>4275</td>\n",
       "    </tr>\n",
       "    <tr>\n",
       "      <td>B00007E7JU</td>\n",
       "      <td>4.565995</td>\n",
       "      <td>3523</td>\n",
       "    </tr>\n",
       "  </tbody>\n",
       "</table>\n",
       "</div>"
      ],
      "text/plain": [
       "              rating  rating_counts\n",
       "productId                          \n",
       "B0002L5R78  4.448614           9487\n",
       "B0001FTVEK  4.007109           5345\n",
       "B000I68BD4  3.501530           4903\n",
       "B000BQ7GW8  4.553216           4275\n",
       "B00007E7JU  4.565995           3523"
      ]
     },
     "execution_count": 26,
     "metadata": {},
     "output_type": "execute_result"
    }
   ],
   "source": [
    "ratings_mean_count.sort_values(by='rating_counts',ascending=False).head()"
   ]
  },
  {
   "cell_type": "code",
   "execution_count": 27,
   "metadata": {},
   "outputs": [
    {
     "data": {
      "text/plain": [
       "<matplotlib.axes._subplots.AxesSubplot at 0x2a72e3bd708>"
      ]
     },
     "execution_count": 27,
     "metadata": {},
     "output_type": "execute_result"
    },
    {
     "data": {
      "image/png": "[encoded data removed]",
      "text/plain": [
       "<Figure size 576x432 with 1 Axes>"
      ]
     },
     "metadata": {
      "needs_background": "light"
     },
     "output_type": "display_data"
    }
   ],
   "source": [
    "plt.figure(figsize=(8,6))\n",
    "plt.rcParams['patch.force_edgecolor'] = True\n",
    "ratings_mean_count['rating_counts'].hist(bins=50)"
   ]
  },
  {
   "cell_type": "code",
   "execution_count": 28,
   "metadata": {},
   "outputs": [
    {
     "data": {
      "text/plain": [
       "<matplotlib.axes._subplots.AxesSubplot at 0x2a72e53abc8>"
      ]
     },
     "execution_count": 28,
     "metadata": {},
     "output_type": "execute_result"
    },
    {
     "data": {
      "image/png": "[encoded data removed]",
      "text/plain": [
       "<Figure size 576x432 with 1 Axes>"
      ]
     },
     "metadata": {
      "needs_background": "light"
     },
     "output_type": "display_data"
    }
   ],
   "source": [
    "plt.figure(figsize=(8,6))\n",
    "plt.rcParams['patch.force_edgecolor'] = True\n",
    "ratings_mean_count['rating'].hist(bins=50)"
   ]
  },
  {
   "cell_type": "code",
   "execution_count": 29,
   "metadata": {},
   "outputs": [
    {
     "data": {
      "text/plain": [
       "<seaborn.axisgrid.JointGrid at 0x2a72e83d548>"
      ]
     },
     "execution_count": 29,
     "metadata": {},
     "output_type": "execute_result"
    },
    {
     "data": {
      "text/plain": [
       "<Figure size 576x432 with 0 Axes>"
      ]
     },
     "metadata": {},
     "output_type": "display_data"
    },
    {
     "data": {
      "image/png": "[encoded data removed]",
      "text/plain": [
       "<Figure size 432x432 with 3 Axes>"
      ]
     },
     "metadata": {
      "needs_background": "light"
     },
     "output_type": "display_data"
    }
   ],
   "source": [
    "plt.figure(figsize=(8,6))\n",
    "plt.rcParams['patch.force_edgecolor'] = True\n",
    "sns.jointplot(x='rating', y='rating_counts', data=ratings_mean_count, alpha=0.4)"
   ]
  },
  {
   "cell_type": "code",
   "execution_count": 30,
   "metadata": {},
   "outputs": [
    {
     "data": {
      "text/plain": [
       "<matplotlib.axes._subplots.AxesSubplot at 0x2a72ea2ff08>"
      ]
     },
     "execution_count": 30,
     "metadata": {},
     "output_type": "execute_result"
    },
    {
     "data": {
      "image/png": "[encoded data removed]",
      "text/plain": [
       "<Figure size 432x288 with 1 Axes>"
      ]
     },
     "metadata": {
      "needs_background": "light"
     },
     "output_type": "display_data"
    }
   ],
   "source": [
    "popular_products = pd.DataFrame(users_50ormore_ratings.groupby('productId')['rating'].count())\n",
    "most_popular = popular_products.sort_values('rating', ascending=False)\n",
    "most_popular.head().plot(kind = \"bar\")"
   ]
  },
  {
   "cell_type": "markdown",
   "metadata": {},
   "source": [
    "#### Conclusion :\n",
    "<ul>\n",
    "    <li>These are the top 5 recommendadtions for an electronic product based on their popularity.</li>\n",
    "</ul>"
   ]
  },
  {
   "cell_type": "markdown",
   "metadata": {},
   "source": [
    "## Collaborative filtering\n",
    "\n",
    "Collaborative filtering is commonly used for recommender systems. These techniques aim to fill in the missing entries of a user-item association matrix. We are going to use collaborative filtering (CF) approach. CF is based on the idea that the best recommendations come from people who have similar tastes. In other words, it uses historical item ratings of like-minded people to predict how someone would rate an item.Collaborative filtering has two sub-categories that are generally called memory based and model-based approaches."
   ]
  },
  {
   "cell_type": "code",
   "execution_count": 31,
   "metadata": {},
   "outputs": [],
   "source": [
    "# Import necessary libraries.\n",
    "from surprise import KNNWithMeans\n",
    "from surprise import Dataset\n",
    "from surprise import accuracy\n",
    "from surprise import Reader\n",
    "from surprise.model_selection import train_test_split"
   ]
  },
  {
   "cell_type": "code",
   "execution_count": 32,
   "metadata": {},
   "outputs": [],
   "source": [
    "#Reading the dataset\n",
    "reader = Reader()\n",
    "data = Dataset.load_from_df(users_50ormore_ratings,reader)"
   ]
  },
  {
   "cell_type": "code",
   "execution_count": 33,
   "metadata": {},
   "outputs": [],
   "source": [
    "#Splitting the dataset\n",
    "trainset, testset = train_test_split(data, test_size=0.3,random_state=10)"
   ]
  },
  {
   "cell_type": "code",
   "execution_count": 34,
   "metadata": {},
   "outputs": [
    {
     "name": "stdout",
     "output_type": "stream",
     "text": [
      "Estimating biases using als...\n",
      "Computing the pearson_baseline similarity matrix...\n",
      "Done computing similarity matrix.\n"
     ]
    },
    {
     "data": {
      "text/plain": [
       "<surprise.prediction_algorithms.knns.KNNWithMeans at 0x2a72e3df308>"
      ]
     },
     "execution_count": 34,
     "metadata": {},
     "output_type": "execute_result"
    }
   ],
   "source": [
    "# Item-Item Collaborative Filtering\n",
    "algo = KNNWithMeans(k=5, sim_options={'name': 'pearson_baseline', 'user_based': False})\n",
    "algo.fit(trainset)"
   ]
  },
  {
   "cell_type": "code",
   "execution_count": 35,
   "metadata": {},
   "outputs": [],
   "source": [
    "# run the trained model against the testset\n",
    "test_pred = algo.test(testset)"
   ]
  },
  {
   "cell_type": "code",
   "execution_count": 36,
   "metadata": {},
   "outputs": [
    {
     "data": {
      "text/plain": [
       "[Prediction(uid='A2CTXDLXKOHCEH', iid='B00003CWDH', r_ui=5.0, est=4.050870065449826, details={'was_impossible': True, 'reason': 'User and/or item is unkown.'}),\n",
       " Prediction(uid='ABGCDODB3OLPE', iid='B0002D6QJO', r_ui=3.0, est=4.050870065449826, details={'was_impossible': True, 'reason': 'User and/or item is unkown.'}),\n",
       " Prediction(uid='AIL0HKZRRCE3L', iid='B00097CUIE', r_ui=5.0, est=4.050870065449826, details={'was_impossible': True, 'reason': 'User and/or item is unkown.'}),\n",
       " Prediction(uid='AQ2SRQCX77658', iid='B000FVDD30', r_ui=5.0, est=4.46122953351869, details={'actual_k': 1, 'was_impossible': False}),\n",
       " Prediction(uid='AQR9NP6PBTSPT', iid='B00007LTBA', r_ui=1.0, est=4.050870065449826, details={'was_impossible': True, 'reason': 'User and/or item is unkown.'}),\n",
       " Prediction(uid='AXOY9UHP9HJNX', iid='B0002L5R78', r_ui=5.0, est=4.050870065449826, details={'was_impossible': True, 'reason': 'User and/or item is unkown.'}),\n",
       " Prediction(uid='AKLRRKLW8NYRO', iid='B0002344GG', r_ui=1.0, est=2.753623188405797, details={'actual_k': 0, 'was_impossible': False}),\n",
       " Prediction(uid='A5ZY4LIO5D2Q9', iid='B0001PFQAI', r_ui=5.0, est=4.050870065449826, details={'was_impossible': True, 'reason': 'User and/or item is unkown.'}),\n",
       " Prediction(uid='A21R77ZGM42XWT', iid='B000FG30U6', r_ui=5.0, est=4.050870065449826, details={'was_impossible': True, 'reason': 'User and/or item is unkown.'}),\n",
       " Prediction(uid='A28VR0W0F3N4H', iid='B00008Y0VN', r_ui=5.0, est=4.050870065449826, details={'was_impossible': True, 'reason': 'User and/or item is unkown.'}),\n",
       " Prediction(uid='A3RXLVGQ9PL4U4', iid='B00005MOZG', r_ui=3.0, est=4.050870065449826, details={'was_impossible': True, 'reason': 'User and/or item is unkown.'}),\n",
       " Prediction(uid='ACU4AFQ62MYO0', iid='B000B9RI14', r_ui=5.0, est=4.050870065449826, details={'was_impossible': True, 'reason': 'User and/or item is unkown.'}),\n",
       " Prediction(uid='A2ORX8ILUN30IO', iid='B000FGNM6I', r_ui=5.0, est=4.3602484472049685, details={'actual_k': 0, 'was_impossible': False}),\n",
       " Prediction(uid='A27F59TC96UK74', iid='B0000A2QBP', r_ui=5.0, est=4.050870065449826, details={'was_impossible': True, 'reason': 'User and/or item is unkown.'}),\n",
       " Prediction(uid='A3D5ZPTDU0QMA1', iid='B00067LYFW', r_ui=3.0, est=4.050870065449826, details={'was_impossible': True, 'reason': 'User and/or item is unkown.'}),\n",
       " Prediction(uid='A27TE8AU8TBS7F', iid='B0002Y5WZC', r_ui=5.0, est=4.050870065449826, details={'was_impossible': True, 'reason': 'User and/or item is unkown.'}),\n",
       " Prediction(uid='A1ZH0PNIPO6UCL', iid='B0002KVQBA', r_ui=4.0, est=4.575304022450888, details={'actual_k': 0, 'was_impossible': False}),\n",
       " Prediction(uid='AQSJCU3Q42J0U', iid='B000095SB4', r_ui=5.0, est=4.050870065449826, details={'was_impossible': True, 'reason': 'User and/or item is unkown.'}),\n",
       " Prediction(uid='AVZ9LDYPWFPQA', iid='B00065ANYC', r_ui=2.0, est=4.050870065449826, details={'was_impossible': True, 'reason': 'User and/or item is unkown.'}),\n",
       " Prediction(uid='A3JMDRBJVVQ6C6', iid='B000F34FVM', r_ui=5.0, est=4.787982820491085, details={'actual_k': 1, 'was_impossible': False}),\n",
       " Prediction(uid='A304XAQ7BVU0UU', iid='B000EVM5DK', r_ui=1.0, est=4.050870065449826, details={'was_impossible': True, 'reason': 'User and/or item is unkown.'}),\n",
       " Prediction(uid='A386SQC8Z8ZIKE', iid='B0007LJHVA', r_ui=4.0, est=4.050870065449826, details={'was_impossible': True, 'reason': 'User and/or item is unkown.'}),\n",
       " Prediction(uid='A3R2KKSGZIM2YR', iid='B0001F21IS', r_ui=4.0, est=4.050870065449826, details={'was_impossible': True, 'reason': 'User and/or item is unkown.'}),\n",
       " Prediction(uid='A2E9Q0KPSWCUP9', iid='B00081A2KY', r_ui=5.0, est=4.050870065449826, details={'was_impossible': True, 'reason': 'User and/or item is unkown.'}),\n",
       " Prediction(uid='A2BX8DDQGCCG2J', iid='B0009ZBRS0', r_ui=5.0, est=3.8059701492537314, details={'actual_k': 0, 'was_impossible': False}),\n",
       " Prediction(uid='A1XKMNRNQF1TV6', iid='B000652M6Y', r_ui=4.0, est=4.050870065449826, details={'was_impossible': True, 'reason': 'User and/or item is unkown.'}),\n",
       " Prediction(uid='A1OI7EIRASSBSQ', iid='B000A5TAT2', r_ui=4.0, est=4.4373522458628845, details={'actual_k': 0, 'was_impossible': False}),\n",
       " Prediction(uid='A3LZBMY6JHURSX', iid='B0009BBBM6', r_ui=4.0, est=3.0, details={'actual_k': 0, 'was_impossible': False}),\n",
       " Prediction(uid='A2CYH8K4CFULCH', iid='B00004Z0BN', r_ui=3.0, est=4.050870065449826, details={'was_impossible': True, 'reason': 'User and/or item is unkown.'}),\n",
       " Prediction(uid='A185JU9JMWSVDW', iid='B0001F22PA', r_ui=1.0, est=4.050870065449826, details={'was_impossible': True, 'reason': 'User and/or item is unkown.'}),\n",
       " Prediction(uid='AI43VKPN5NF7D', iid='B000HCUTU2', r_ui=4.0, est=4.032786885245901, details={'actual_k': 0, 'was_impossible': False}),\n",
       " Prediction(uid='A270AD68TW0WAH', iid='B000067O5G', r_ui=5.0, est=4.050870065449826, details={'was_impossible': True, 'reason': 'User and/or item is unkown.'}),\n",
       " Prediction(uid='A3QZJYCE7W8BNR', iid='B000A3XRSO', r_ui=3.0, est=4.050870065449826, details={'was_impossible': True, 'reason': 'User and/or item is unkown.'}),\n",
       " Prediction(uid='A5EE1TA7882GU', iid='B0001LS3EI', r_ui=4.0, est=4.050870065449826, details={'was_impossible': True, 'reason': 'User and/or item is unkown.'}),\n",
       " Prediction(uid='A2WTOJ5TZISX1S', iid='B00017LSPI', r_ui=5.0, est=4.050870065449826, details={'was_impossible': True, 'reason': 'User and/or item is unkown.'}),\n",
       " Prediction(uid='A1XDWLRXP8MS03', iid='B000F5IE9Y', r_ui=4.0, est=4.050870065449826, details={'was_impossible': True, 'reason': 'User and/or item is unkown.'}),\n",
       " Prediction(uid='A3EFZZY5DUHLVS', iid='B00009EFR2', r_ui=5.0, est=4.050870065449826, details={'was_impossible': True, 'reason': 'User and/or item is unkown.'}),\n",
       " Prediction(uid='A20IMBRGCWEV9R', iid='B00006B7HB', r_ui=5.0, est=4.050870065449826, details={'was_impossible': True, 'reason': 'User and/or item is unkown.'}),\n",
       " Prediction(uid='A3AZQ655UWE31R', iid='B000EHUR3O', r_ui=1.0, est=4.050870065449826, details={'was_impossible': True, 'reason': 'User and/or item is unkown.'}),\n",
       " Prediction(uid='A3VDQ5G5GYT916', iid='B00025LDLS', r_ui=1.0, est=4.230769230769231, details={'actual_k': 0, 'was_impossible': False}),\n",
       " Prediction(uid='A27N884RIHU7T9', iid='B000FPH3SM', r_ui=5.0, est=4.057142857142857, details={'actual_k': 0, 'was_impossible': False}),\n",
       " Prediction(uid='A1CS28219D41YB', iid='B0009RGLSE', r_ui=4.0, est=4.050870065449826, details={'was_impossible': True, 'reason': 'User and/or item is unkown.'}),\n",
       " Prediction(uid='A2W2R210QB5GLX', iid='B000I98ZYG', r_ui=5.0, est=4.050870065449826, details={'was_impossible': True, 'reason': 'User and/or item is unkown.'}),\n",
       " Prediction(uid='A2PYTQU3H73EE1', iid='B000932AKQ', r_ui=2.0, est=4.050870065449826, details={'was_impossible': True, 'reason': 'User and/or item is unkown.'}),\n",
       " Prediction(uid='AAJOV2S9O7OO', iid='B000EF3D64', r_ui=1.0, est=4.328947368421052, details={'actual_k': 0, 'was_impossible': False}),\n",
       " Prediction(uid='A165QGPSOHT0Y0', iid='B0009MFTSW', r_ui=1.0, est=4.050870065449826, details={'was_impossible': True, 'reason': 'User and/or item is unkown.'}),\n",
       " Prediction(uid='A21MBVFQ6ZY0MB', iid='B0007ZFLYI', r_ui=4.0, est=4.050870065449826, details={'was_impossible': True, 'reason': 'User and/or item is unkown.'}),\n",
       " Prediction(uid='A2D38LXFUVQSEI', iid='B000HPV3RW', r_ui=5.0, est=4.050870065449826, details={'was_impossible': True, 'reason': 'User and/or item is unkown.'}),\n",
       " Prediction(uid='A3C6EGF3U7YKA6', iid='B000GRHP4G', r_ui=5.0, est=4.050870065449826, details={'was_impossible': True, 'reason': 'User and/or item is unkown.'}),\n",
       " Prediction(uid='A219WZO6UEVRCC', iid='B00006B7DA', r_ui=5.0, est=4.050870065449826, details={'was_impossible': True, 'reason': 'User and/or item is unkown.'}),\n",
       " Prediction(uid='AMNURU1JOA5IN', iid='B00004TDN2', r_ui=2.0, est=4.050870065449826, details={'was_impossible': True, 'reason': 'User and/or item is unkown.'}),\n",
       " Prediction(uid='A2UCIG3CMHIKEZ', iid='B00022OBO2', r_ui=5.0, est=4.050870065449826, details={'was_impossible': True, 'reason': 'User and/or item is unkown.'}),\n",
       " Prediction(uid='A32C69NY8NOJRY', iid='B000ENUCR4', r_ui=3.0, est=4.050870065449826, details={'was_impossible': True, 'reason': 'User and/or item is unkown.'}),\n",
       " Prediction(uid='AJL0ZGUGRHYC5', iid='B000HKGK8Y', r_ui=1.0, est=4.050870065449826, details={'was_impossible': True, 'reason': 'User and/or item is unkown.'}),\n",
       " Prediction(uid='A2OVQPT9HD8MER', iid='B0001H29OW', r_ui=2.0, est=4.050870065449826, details={'was_impossible': True, 'reason': 'User and/or item is unkown.'}),\n",
       " Prediction(uid='A30RZGKEYO1MHA', iid='B0007N55LO', r_ui=4.0, est=3.1902439024390246, details={'actual_k': 0, 'was_impossible': False}),\n",
       " Prediction(uid='A3GRU4PC4VZS8X', iid='B0002SQ2P2', r_ui=4.0, est=4.050870065449826, details={'was_impossible': True, 'reason': 'User and/or item is unkown.'}),\n",
       " Prediction(uid='A2HL4O1CK76N3T', iid='B000BS4PZW', r_ui=5.0, est=4.050870065449826, details={'was_impossible': True, 'reason': 'User and/or item is unkown.'}),\n",
       " Prediction(uid='A4QG2WKC3FQWB', iid='B0001FTVEK', r_ui=5.0, est=4.050870065449826, details={'was_impossible': True, 'reason': 'User and/or item is unkown.'}),\n",
       " Prediction(uid='A2B03XPQTH2M5L', iid='B00001P4ZH', r_ui=2.0, est=4.050870065449826, details={'was_impossible': True, 'reason': 'User and/or item is unkown.'}),\n",
       " Prediction(uid='A1TFMR7RE985MF', iid='B0001FTVEK', r_ui=5.0, est=4.02113606340819, details={'actual_k': 0, 'was_impossible': False}),\n",
       " Prediction(uid='A16RM9HRFOHM9H', iid='B000165F26', r_ui=1.0, est=4.050870065449826, details={'was_impossible': True, 'reason': 'User and/or item is unkown.'}),\n",
       " Prediction(uid='A3VVYB9EHBRRLM', iid='B00032AVN6', r_ui=4.0, est=4.050870065449826, details={'was_impossible': True, 'reason': 'User and/or item is unkown.'}),\n",
       " Prediction(uid='A2M1BQARI6FNZ5', iid='B000HZ9CCA', r_ui=5.0, est=4.050870065449826, details={'was_impossible': True, 'reason': 'User and/or item is unkown.'}),\n",
       " Prediction(uid='A3GQV2TC8Q2QHV', iid='B000BONJXU', r_ui=4.0, est=4.050870065449826, details={'was_impossible': True, 'reason': 'User and/or item is unkown.'}),\n",
       " Prediction(uid='A1F9Z42CFF9IAY', iid='B00007E7QS', r_ui=4.0, est=4.5675675675675675, details={'actual_k': 0, 'was_impossible': False}),\n",
       " Prediction(uid='A127XYGM306P84', iid='B00004TVSP', r_ui=5.0, est=4.050870065449826, details={'was_impossible': True, 'reason': 'User and/or item is unkown.'}),\n",
       " Prediction(uid='A3RIBQ1ATEFVI0', iid='B000FBK3QK', r_ui=2.0, est=4.050870065449826, details={'was_impossible': True, 'reason': 'User and/or item is unkown.'}),\n",
       " Prediction(uid='A3JBAGW91MOW56', iid='B000GYU9IS', r_ui=5.0, est=3.3903668568547927, details={'actual_k': 1, 'was_impossible': False}),\n",
       " Prediction(uid='A35G1B3GVJQ253', iid='B00005T6GZ', r_ui=5.0, est=4.2407407407407405, details={'actual_k': 0, 'was_impossible': False}),\n",
       " Prediction(uid='A2NG92YJ5B9T0G', iid='B000BOCUUI', r_ui=1.0, est=4.050870065449826, details={'was_impossible': True, 'reason': 'User and/or item is unkown.'}),\n",
       " Prediction(uid='AQIFC6JHGOVM5', iid='B000BVB2FK', r_ui=4.0, est=4.629032258064516, details={'actual_k': 0, 'was_impossible': False}),\n",
       " Prediction(uid='A31CT320VGN2GX', iid='B0001FV30K', r_ui=4.0, est=4.050870065449826, details={'was_impossible': True, 'reason': 'User and/or item is unkown.'}),\n",
       " Prediction(uid='A1NGJZGWGBXDTZ', iid='B000092TT0', r_ui=5.0, est=4.050870065449826, details={'was_impossible': True, 'reason': 'User and/or item is unkown.'}),\n",
       " Prediction(uid='A3QJWMCV9UOLPY', iid='B0003QIXBY', r_ui=5.0, est=4.050870065449826, details={'was_impossible': True, 'reason': 'User and/or item is unkown.'}),\n",
       " Prediction(uid='A1MXOR5ISGGR4A', iid='B00030097G', r_ui=5.0, est=4.050870065449826, details={'was_impossible': True, 'reason': 'User and/or item is unkown.'}),\n",
       " Prediction(uid='A38FNZ2SBY6C8Z', iid='B000227PLS', r_ui=5.0, est=4.050870065449826, details={'was_impossible': True, 'reason': 'User and/or item is unkown.'}),\n",
       " Prediction(uid='AHCQGAU7BGF72', iid='B00065ANYC', r_ui=5.0, est=4.050870065449826, details={'was_impossible': True, 'reason': 'User and/or item is unkown.'}),\n",
       " Prediction(uid='ACMHR8V810O63', iid='B000FJ3I5U', r_ui=1.0, est=4.050870065449826, details={'was_impossible': True, 'reason': 'User and/or item is unkown.'}),\n",
       " Prediction(uid='A3CC9BY8RUBHPA', iid='B0009IRUKG', r_ui=1.0, est=4.050870065449826, details={'was_impossible': True, 'reason': 'User and/or item is unkown.'}),\n",
       " Prediction(uid='AZA96HCU57OVF', iid='B000CMS0XU', r_ui=5.0, est=4.050870065449826, details={'was_impossible': True, 'reason': 'User and/or item is unkown.'}),\n",
       " Prediction(uid='A1XTE5CMEYUH5X', iid='B00005AW1X', r_ui=1.0, est=4.050870065449826, details={'was_impossible': True, 'reason': 'User and/or item is unkown.'}),\n",
       " Prediction(uid='A3LJ3QTO8IMD6K', iid='B000A3XRSO', r_ui=3.0, est=4.050870065449826, details={'was_impossible': True, 'reason': 'User and/or item is unkown.'}),\n",
       " Prediction(uid='A1H2S4W92AUAUO', iid='B000A0CV9S', r_ui=5.0, est=4.517647058823529, details={'actual_k': 0, 'was_impossible': False}),\n",
       " Prediction(uid='AFFPTLEKBQRUW', iid='B0002YE686', r_ui=5.0, est=4.050870065449826, details={'was_impossible': True, 'reason': 'User and/or item is unkown.'}),\n",
       " Prediction(uid='A30EATWIA897U9', iid='B000G5S4JI', r_ui=5.0, est=4.050870065449826, details={'was_impossible': True, 'reason': 'User and/or item is unkown.'}),\n",
       " Prediction(uid='AAUU4O0OGXH1J', iid='B00009J5VX', r_ui=4.0, est=4.050870065449826, details={'was_impossible': True, 'reason': 'User and/or item is unkown.'}),\n",
       " Prediction(uid='A33O4FC1U8KZ8R', iid='B00005N5X2', r_ui=1.0, est=4.050870065449826, details={'was_impossible': True, 'reason': 'User and/or item is unkown.'}),\n",
       " Prediction(uid='ALUEX3LETMYY0', iid='B000I661J0', r_ui=5.0, est=4.050870065449826, details={'was_impossible': True, 'reason': 'User and/or item is unkown.'}),\n",
       " Prediction(uid='A2415EKJ7LU9QS', iid='B000FVDD30', r_ui=5.0, est=4.050870065449826, details={'was_impossible': True, 'reason': 'User and/or item is unkown.'}),\n",
       " Prediction(uid='A3T6S9D96J9JBW', iid='B000652M6Y', r_ui=5.0, est=4.050870065449826, details={'was_impossible': True, 'reason': 'User and/or item is unkown.'}),\n",
       " Prediction(uid='AJ0CVB9WZWPLU', iid='B000B88UF8', r_ui=3.0, est=4.050870065449826, details={'was_impossible': True, 'reason': 'User and/or item is unkown.'}),\n",
       " Prediction(uid='A11931Y3HEEMHX', iid='B00093IIRA', r_ui=4.0, est=4.050870065449826, details={'was_impossible': True, 'reason': 'User and/or item is unkown.'}),\n",
       " Prediction(uid='A1ZCK3761DWNDM', iid='B000HX6SFQ', r_ui=1.0, est=4.050870065449826, details={'was_impossible': True, 'reason': 'User and/or item is unkown.'}),\n",
       " Prediction(uid='A1SZNQV0CO2NW0', iid='B0009GZAGO', r_ui=5.0, est=4.050870065449826, details={'was_impossible': True, 'reason': 'User and/or item is unkown.'}),\n",
       " Prediction(uid='A2QNXIPA6ZD3VO', iid='B00069SORG', r_ui=5.0, est=4.050870065449826, details={'was_impossible': True, 'reason': 'User and/or item is unkown.'}),\n",
       " Prediction(uid='A13GEVYVDMRLHH', iid='B00008Y1BX', r_ui=5.0, est=4.050870065449826, details={'was_impossible': True, 'reason': 'User and/or item is unkown.'}),\n",
       " Prediction(uid='A3W1TSZN0D7F55', iid='B000CRFOMK', r_ui=4.0, est=4.050870065449826, details={'was_impossible': True, 'reason': 'User and/or item is unkown.'}),\n",
       " Prediction(uid='A1VQ6PALPXSKK9', iid='B000089GN2', r_ui=5.0, est=4.050870065449826, details={'was_impossible': True, 'reason': 'User and/or item is unkown.'}),\n",
       " Prediction(uid='ADWJ9RXGPDS65', iid='B0000BVYTV', r_ui=3.0, est=4.050870065449826, details={'was_impossible': True, 'reason': 'User and/or item is unkown.'}),\n",
       " Prediction(uid='A2XSP2F905J9WH', iid='B000BNHM0C', r_ui=5.0, est=4.325, details={'actual_k': 0, 'was_impossible': False}),\n",
       " Prediction(uid='A2OM0A3P3S3TBC', iid='B000E5EF70', r_ui=5.0, est=4.050870065449826, details={'was_impossible': True, 'reason': 'User and/or item is unkown.'}),\n",
       " Prediction(uid='A3IGEDDKGNHMYD', iid='B000E9BYXE', r_ui=2.0, est=3.8461538461538463, details={'actual_k': 0, 'was_impossible': False}),\n",
       " Prediction(uid='A1IP62DE9JFMY1', iid='B00004WCIC', r_ui=5.0, est=4.45014245014245, details={'actual_k': 0, 'was_impossible': False}),\n",
       " Prediction(uid='A7E1I47FU7U69', iid='B00001ZWXA', r_ui=5.0, est=4.050870065449826, details={'was_impossible': True, 'reason': 'User and/or item is unkown.'}),\n",
       " Prediction(uid='A3S431K0XK09WA', iid='B0007N55NM', r_ui=4.0, est=4.050870065449826, details={'was_impossible': True, 'reason': 'User and/or item is unkown.'}),\n",
       " Prediction(uid='AAPQIZFO3TVGD', iid='B000089GN3', r_ui=4.0, est=4.050870065449826, details={'was_impossible': True, 'reason': 'User and/or item is unkown.'}),\n",
       " Prediction(uid='A2JXV5J8MPFHO2', iid='B0002MQGOK', r_ui=5.0, est=4.050870065449826, details={'was_impossible': True, 'reason': 'User and/or item is unkown.'}),\n",
       " Prediction(uid='A2Z44B5ORZFPPA', iid='B000BKJZ9Q', r_ui=5.0, est=4.050870065449826, details={'was_impossible': True, 'reason': 'User and/or item is unkown.'}),\n",
       " Prediction(uid='A3RSTI2EJX0PFC', iid='B000ETVKHE', r_ui=4.0, est=4.050870065449826, details={'was_impossible': True, 'reason': 'User and/or item is unkown.'}),\n",
       " Prediction(uid='A20D3VA1RE63ZN', iid='B0002X7V1Q', r_ui=3.0, est=3.9672131147540983, details={'actual_k': 0, 'was_impossible': False}),\n",
       " Prediction(uid='AC4JE52QCO0R', iid='B00001P4ZH', r_ui=5.0, est=4.050870065449826, details={'was_impossible': True, 'reason': 'User and/or item is unkown.'}),\n",
       " Prediction(uid='A22894VXI3FRZW', iid='B0002BEQAM', r_ui=1.0, est=4.050870065449826, details={'was_impossible': True, 'reason': 'User and/or item is unkown.'}),\n",
       " Prediction(uid='AUJ3M7241R9RV', iid='B000EVWC9C', r_ui=4.0, est=4.050870065449826, details={'was_impossible': True, 'reason': 'User and/or item is unkown.'}),\n",
       " Prediction(uid='A3THXTIV8MLRLC', iid='B000I68BD4', r_ui=2.0, est=4.050870065449826, details={'was_impossible': True, 'reason': 'User and/or item is unkown.'}),\n",
       " Prediction(uid='A2DOMB1VJE7DKK', iid='B0000CG4DI', r_ui=5.0, est=4.050870065449826, details={'was_impossible': True, 'reason': 'User and/or item is unkown.'}),\n",
       " Prediction(uid='A2KLGR4YRH5B25', iid='B00093IIRA', r_ui=5.0, est=4.120593906093906, details={'actual_k': 1, 'was_impossible': False}),\n",
       " Prediction(uid='A2UBV9K3GEPTP6', iid='B00017LSPI', r_ui=4.0, est=4.050870065449826, details={'was_impossible': True, 'reason': 'User and/or item is unkown.'}),\n",
       " Prediction(uid='A2C1BMYQ9LB6X7', iid='B000CSOXTO', r_ui=5.0, est=4.050870065449826, details={'was_impossible': True, 'reason': 'User and/or item is unkown.'}),\n",
       " Prediction(uid='A29LO28IXJ88JR', iid='B0002EOFFK', r_ui=5.0, est=4.050870065449826, details={'was_impossible': True, 'reason': 'User and/or item is unkown.'}),\n",
       " Prediction(uid='A2NR8LJEN83M29', iid='B000HZB1GA', r_ui=4.0, est=4.050870065449826, details={'was_impossible': True, 'reason': 'User and/or item is unkown.'}),\n",
       " Prediction(uid='A2IJ0TZQSR3KGP', iid='B00028ONIA', r_ui=2.0, est=4.050870065449826, details={'was_impossible': True, 'reason': 'User and/or item is unkown.'}),\n",
       " Prediction(uid='A2SATO5BNKWY3Y', iid='B00020S7XK', r_ui=5.0, est=5, details={'actual_k': 1, 'was_impossible': False}),\n",
       " Prediction(uid='AXUKVAK5G1LUY', iid='B0001WW398', r_ui=5.0, est=2.9322033898305087, details={'actual_k': 0, 'was_impossible': False}),\n",
       " Prediction(uid='A3P4PSSMN6RJW8', iid='B00004ZCJE', r_ui=5.0, est=4.12989921612542, details={'actual_k': 0, 'was_impossible': False}),\n",
       " Prediction(uid='A1FV1QSI9S9RP3', iid='B000085BD7', r_ui=1.0, est=4.050870065449826, details={'was_impossible': True, 'reason': 'User and/or item is unkown.'}),\n",
       " Prediction(uid='A2YNETZWVIAV5A', iid='B0002Z82XA', r_ui=5.0, est=4.050870065449826, details={'was_impossible': True, 'reason': 'User and/or item is unkown.'}),\n",
       " Prediction(uid='A2AOVLI7AG81X0', iid='B000CRFOMK', r_ui=1.0, est=4.050870065449826, details={'was_impossible': True, 'reason': 'User and/or item is unkown.'}),\n",
       " Prediction(uid='A2R76AKJHN04SP', iid='B0000E1VRL', r_ui=5.0, est=4.050870065449826, details={'was_impossible': True, 'reason': 'User and/or item is unkown.'}),\n",
       " Prediction(uid='A3LX8CS6G6RQSZ', iid='B00000JI4F', r_ui=4.0, est=4.050870065449826, details={'was_impossible': True, 'reason': 'User and/or item is unkown.'}),\n",
       " Prediction(uid='A2MK5OZ6Y7HQ82', iid='B0002I5RI0', r_ui=5.0, est=4.050870065449826, details={'was_impossible': True, 'reason': 'User and/or item is unkown.'}),\n",
       " Prediction(uid='APSFKFZITMLKF', iid='B000CSWCQA', r_ui=4.0, est=4.050870065449826, details={'was_impossible': True, 'reason': 'User and/or item is unkown.'}),\n",
       " Prediction(uid='A3R69WBN065MY9', iid='B000EW9Y4M', r_ui=5.0, est=4.050870065449826, details={'was_impossible': True, 'reason': 'User and/or item is unkown.'}),\n",
       " Prediction(uid='A2S3ANCBUC93I7', iid='B000F7QRTG', r_ui=5.0, est=4.050870065449826, details={'was_impossible': True, 'reason': 'User and/or item is unkown.'}),\n",
       " Prediction(uid='A2MB7LXAA9VNVP', iid='B0001VWHH2', r_ui=5.0, est=4.050870065449826, details={'was_impossible': True, 'reason': 'User and/or item is unkown.'}),\n",
       " Prediction(uid='A39N89RKKCWUHJ', iid='B00007EDM8', r_ui=5.0, est=3.7413162705667276, details={'actual_k': 0, 'was_impossible': False}),\n",
       " Prediction(uid='A1OBBF7BHCKE1', iid='B0002MQGRM', r_ui=5.0, est=4.173076923076923, details={'actual_k': 0, 'was_impossible': False}),\n",
       " Prediction(uid='A1D6TCCZTABG6G', iid='B000EMU4HS', r_ui=4.0, est=4.050870065449826, details={'was_impossible': True, 'reason': 'User and/or item is unkown.'}),\n",
       " Prediction(uid='APOQ8TEWQRCVF', iid='B00005T39Y', r_ui=5.0, est=3.9901960784313726, details={'actual_k': 0, 'was_impossible': False}),\n",
       " Prediction(uid='AXY1L31IF2IUH', iid='B000092TT0', r_ui=4.0, est=4.050870065449826, details={'was_impossible': True, 'reason': 'User and/or item is unkown.'}),\n",
       " Prediction(uid='A1KB7EDJC1J894', iid='B000AAZQM2', r_ui=5.0, est=4.050870065449826, details={'was_impossible': True, 'reason': 'User and/or item is unkown.'}),\n",
       " Prediction(uid='A21XX594II95Y5', iid='B0002A9RFM', r_ui=5.0, est=4.050870065449826, details={'was_impossible': True, 'reason': 'User and/or item is unkown.'}),\n",
       " Prediction(uid='A3T9HEHCC5HR2M', iid='B000C1Z0HA', r_ui=5.0, est=4.050870065449826, details={'was_impossible': True, 'reason': 'User and/or item is unkown.'}),\n",
       " Prediction(uid='A1IF88PG7YBGPQ', iid='B00009X6PH', r_ui=4.0, est=4.050870065449826, details={'was_impossible': True, 'reason': 'User and/or item is unkown.'}),\n",
       " Prediction(uid='A33PZI97YSQ4L5', iid='B00025742A', r_ui=5.0, est=4.050870065449826, details={'was_impossible': True, 'reason': 'User and/or item is unkown.'}),\n",
       " Prediction(uid='A26I3R8YV1HNK6', iid='B0000A1VS3', r_ui=1.0, est=4.050870065449826, details={'was_impossible': True, 'reason': 'User and/or item is unkown.'}),\n",
       " Prediction(uid='A2E8FKPFV98B8T', iid='B0007U0GZM', r_ui=5.0, est=4.050870065449826, details={'was_impossible': True, 'reason': 'User and/or item is unkown.'}),\n",
       " Prediction(uid='A3M119QBNN6OQQ', iid='B000AAZQM2', r_ui=5.0, est=4.216666666666667, details={'actual_k': 0, 'was_impossible': False}),\n",
       " Prediction(uid='A3LJY69XS33PO4', iid='B000ID37EA', r_ui=3.0, est=4.050870065449826, details={'was_impossible': True, 'reason': 'User and/or item is unkown.'}),\n",
       " Prediction(uid='A2Q7H5UIPR4VAZ', iid='B000CRT07U', r_ui=5.0, est=4.050870065449826, details={'was_impossible': True, 'reason': 'User and/or item is unkown.'}),\n",
       " Prediction(uid='A3OU1ATJR2FXB3', iid='B0002EQU6C', r_ui=5.0, est=4.050870065449826, details={'was_impossible': True, 'reason': 'User and/or item is unkown.'}),\n",
       " Prediction(uid='A3J8UZ5I4RQWWM', iid='B0007WK8MQ', r_ui=3.0, est=4.050870065449826, details={'was_impossible': True, 'reason': 'User and/or item is unkown.'}),\n",
       " Prediction(uid='A10AIPNP827VUJ', iid='B00004WCID', r_ui=5.0, est=4.050870065449826, details={'was_impossible': True, 'reason': 'User and/or item is unkown.'}),\n",
       " Prediction(uid='AI28BVKBSDHDQ', iid='B0009U6YQK', r_ui=5.0, est=4.050870065449826, details={'was_impossible': True, 'reason': 'User and/or item is unkown.'}),\n",
       " Prediction(uid='A39KG456TGUXWZ', iid='B0007WTEVM', r_ui=5.0, est=4.050870065449826, details={'was_impossible': True, 'reason': 'User and/or item is unkown.'}),\n",
       " Prediction(uid='A28MJ51GOXSEDB', iid='B000BKJZ9Q', r_ui=5.0, est=4.050870065449826, details={'was_impossible': True, 'reason': 'User and/or item is unkown.'}),\n",
       " Prediction(uid='A2BVI2RDOB1TVN', iid='B0000AQIFZ', r_ui=1.0, est=4.050870065449826, details={'was_impossible': True, 'reason': 'User and/or item is unkown.'}),\n",
       " Prediction(uid='A2INKDQQSKTISU', iid='B0007SL4IW', r_ui=5.0, est=4.050870065449826, details={'was_impossible': True, 'reason': 'User and/or item is unkown.'}),\n",
       " Prediction(uid='A5H65UF4GD5PU', iid='B00005ATMB', r_ui=5.0, est=4.050870065449826, details={'was_impossible': True, 'reason': 'User and/or item is unkown.'}),\n",
       " Prediction(uid='A12UF699ZEKSS9', iid='B0001FTVDG', r_ui=4.0, est=4.050870065449826, details={'was_impossible': True, 'reason': 'User and/or item is unkown.'}),\n",
       " Prediction(uid='A1TAQ7VI5FEO9U', iid='B000065BPB', r_ui=5.0, est=4.050870065449826, details={'was_impossible': True, 'reason': 'User and/or item is unkown.'}),\n",
       " Prediction(uid='A3TDYJPBZ7DXE7', iid='B000068O6B', r_ui=5.0, est=3.8046383554489998, details={'actual_k': 1, 'was_impossible': False}),\n",
       " Prediction(uid='A294QTFYPS4AEK', iid='B000H14IDC', r_ui=3.0, est=3.316326530612245, details={'actual_k': 0, 'was_impossible': False}),\n",
       " Prediction(uid='A1PWCBF0JSFDX6', iid='B0000BZL1P', r_ui=5.0, est=4.050870065449826, details={'was_impossible': True, 'reason': 'User and/or item is unkown.'}),\n",
       " Prediction(uid='A3A3PBSVKLQSPK', iid='B00006HYPV', r_ui=5.0, est=4.050870065449826, details={'was_impossible': True, 'reason': 'User and/or item is unkown.'}),\n",
       " Prediction(uid='A2F0FEE1NJ8BKQ', iid='B00005N5WU', r_ui=1.0, est=3.8205128205128207, details={'actual_k': 0, 'was_impossible': False}),\n",
       " Prediction(uid='A11HBOXOX7CXR3', iid='B000HRYV38', r_ui=5.0, est=4.050870065449826, details={'was_impossible': True, 'reason': 'User and/or item is unkown.'}),\n",
       " Prediction(uid='A3M38P1BFA6K0A', iid='B000BWACX2', r_ui=5.0, est=4.050870065449826, details={'was_impossible': True, 'reason': 'User and/or item is unkown.'}),\n",
       " Prediction(uid='A84X4F84QVHG8', iid='B00008J639', r_ui=5.0, est=4.050870065449826, details={'was_impossible': True, 'reason': 'User and/or item is unkown.'}),\n",
       " Prediction(uid='A2SEWHRX8M7KOA', iid='B0000DK5LW', r_ui=1.0, est=4.050870065449826, details={'was_impossible': True, 'reason': 'User and/or item is unkown.'}),\n",
       " Prediction(uid='AGRANDZ7AZKB9', iid='B00006TWL6', r_ui=1.0, est=4.050870065449826, details={'was_impossible': True, 'reason': 'User and/or item is unkown.'}),\n",
       " Prediction(uid='A1MORE9FM5YA5C', iid='B000CSSHXM', r_ui=5.0, est=4.050870065449826, details={'was_impossible': True, 'reason': 'User and/or item is unkown.'}),\n",
       " Prediction(uid='A2MOXKNURTGHGT', iid='B000085BDB', r_ui=1.0, est=4.050870065449826, details={'was_impossible': True, 'reason': 'User and/or item is unkown.'}),\n",
       " Prediction(uid='A1NZ1DPKVLGAB7', iid='B000CKVOOY', r_ui=5.0, est=4.050870065449826, details={'was_impossible': True, 'reason': 'User and/or item is unkown.'}),\n",
       " Prediction(uid='A3QNZDOTYCSSU4', iid='B0002ZAILY', r_ui=5.0, est=4.050870065449826, details={'was_impossible': True, 'reason': 'User and/or item is unkown.'}),\n",
       " Prediction(uid='A1WETJEG0SOWBS', iid='B00006HYPD', r_ui=4.0, est=4.217391304347826, details={'actual_k': 0, 'was_impossible': False}),\n",
       " Prediction(uid='A2BRBZKAQYQLME', iid='B0000E6I1N', r_ui=5.0, est=3.4184397163120566, details={'actual_k': 0, 'was_impossible': False}),\n",
       " Prediction(uid='A2GMJ3DJ7CBM1D', iid='B0006OCP0I', r_ui=5.0, est=4.4, details={'actual_k': 0, 'was_impossible': False}),\n",
       " Prediction(uid='A3W4L5UL6WD8BV', iid='B00007EDZG', r_ui=5.0, est=4.050870065449826, details={'was_impossible': True, 'reason': 'User and/or item is unkown.'}),\n",
       " Prediction(uid='A2QBFAU4YHIXLE', iid='B000I4RMOU', r_ui=5.0, est=4.050870065449826, details={'was_impossible': True, 'reason': 'User and/or item is unkown.'}),\n",
       " Prediction(uid='A7CRP9YSUFWPC', iid='B00007056H', r_ui=5.0, est=4.050870065449826, details={'was_impossible': True, 'reason': 'User and/or item is unkown.'}),\n",
       " Prediction(uid='A1L1R7FHA8CJSA', iid='B00020M1U0', r_ui=4.0, est=4.050870065449826, details={'was_impossible': True, 'reason': 'User and/or item is unkown.'}),\n",
       " Prediction(uid='A2VT44MCMAW8RD', iid='B00006HMPK', r_ui=5.0, est=4.050870065449826, details={'was_impossible': True, 'reason': 'User and/or item is unkown.'}),\n",
       " Prediction(uid='A1BO4YG7GHK72', iid='B000053HH5', r_ui=5.0, est=4.050870065449826, details={'was_impossible': True, 'reason': 'User and/or item is unkown.'}),\n",
       " Prediction(uid='AC8C9PT59CDW1', iid='B000FOYMKU', r_ui=5.0, est=3.808488612836439, details={'actual_k': 0, 'was_impossible': False}),\n",
       " Prediction(uid='A19WP8QTF69OKZ', iid='B000A0CV9S', r_ui=5.0, est=4.050870065449826, details={'was_impossible': True, 'reason': 'User and/or item is unkown.'}),\n",
       " Prediction(uid='A25YQPC8YFW59R', iid='B00008SCFL', r_ui=2.0, est=4.050870065449826, details={'was_impossible': True, 'reason': 'User and/or item is unkown.'}),\n",
       " Prediction(uid='A6X9ED268SX1D', iid='B0007LCKJQ', r_ui=5.0, est=4.050870065449826, details={'was_impossible': True, 'reason': 'User and/or item is unkown.'}),\n",
       " Prediction(uid='A2XWADLHBKNDCC', iid='B0000A1G05', r_ui=3.0, est=4.050870065449826, details={'was_impossible': True, 'reason': 'User and/or item is unkown.'}),\n",
       " Prediction(uid='AZPTKXF8HNLKL', iid='B000HGIWN4', r_ui=5.0, est=4.050870065449826, details={'was_impossible': True, 'reason': 'User and/or item is unkown.'}),\n",
       " Prediction(uid='AM949IB9JWV6R', iid='B0001M2FZK', r_ui=3.0, est=4.050870065449826, details={'was_impossible': True, 'reason': 'User and/or item is unkown.'}),\n",
       " Prediction(uid='A2L4BGGX3W1TE9', iid='B000AJIF4E', r_ui=3.0, est=4.050870065449826, details={'was_impossible': True, 'reason': 'User and/or item is unkown.'}),\n",
       " Prediction(uid='AORZ7F7TRCAZE', iid='B000EVSLRO', r_ui=5.0, est=4.050870065449826, details={'was_impossible': True, 'reason': 'User and/or item is unkown.'}),\n",
       " Prediction(uid='A2AM96DXD7GLTA', iid='B0002Z45DQ', r_ui=5.0, est=4.050870065449826, details={'was_impossible': True, 'reason': 'User and/or item is unkown.'}),\n",
       " Prediction(uid='A33URPT0R3HV4N', iid='B000BFNOT8', r_ui=1.0, est=4.050870065449826, details={'was_impossible': True, 'reason': 'User and/or item is unkown.'}),\n",
       " Prediction(uid='APJCQ9O2AAHWO', iid='B00067TTY0', r_ui=5.0, est=4.050870065449826, details={'was_impossible': True, 'reason': 'User and/or item is unkown.'}),\n",
       " Prediction(uid='A9ESBX9AX33SO', iid='B0007N55NW', r_ui=2.0, est=4.050870065449826, details={'was_impossible': True, 'reason': 'User and/or item is unkown.'}),\n",
       " Prediction(uid='A3F886P3E8L99T', iid='B0002V9IKK', r_ui=5.0, est=4.050870065449826, details={'was_impossible': True, 'reason': 'User and/or item is unkown.'}),\n",
       " Prediction(uid='A8IR5JQSWFXPT', iid='B00001OWYM', r_ui=2.0, est=4.050870065449826, details={'was_impossible': True, 'reason': 'User and/or item is unkown.'}),\n",
       " Prediction(uid='A1JF6WGYAGRJ5S', iid='B0009H5VVM', r_ui=5.0, est=4.050870065449826, details={'was_impossible': True, 'reason': 'User and/or item is unkown.'}),\n",
       " Prediction(uid='A36A05AWSUD1IM', iid='B000B63KSM', r_ui=5.0, est=4.050870065449826, details={'was_impossible': True, 'reason': 'User and/or item is unkown.'}),\n",
       " Prediction(uid='A14E0HHQE5AQZV', iid='B00012OJ22', r_ui=5.0, est=4.050870065449826, details={'was_impossible': True, 'reason': 'User and/or item is unkown.'}),\n",
       " Prediction(uid='A2YEWGSILWV3OB', iid='140053271X', r_ui=5.0, est=3.923611111111111, details={'actual_k': 0, 'was_impossible': False}),\n",
       " Prediction(uid='A2GYMQEE1UVSHX', iid='B0002CTZAC', r_ui=5.0, est=4.050870065449826, details={'was_impossible': True, 'reason': 'User and/or item is unkown.'}),\n",
       " Prediction(uid='ANA5ZTDY2S88A', iid='B000CC6I5W', r_ui=4.0, est=4.050870065449826, details={'was_impossible': True, 'reason': 'User and/or item is unkown.'}),\n",
       " Prediction(uid='A6FWF7QG4U2V4', iid='B000BDH2XY', r_ui=5.0, est=4.050870065449826, details={'was_impossible': True, 'reason': 'User and/or item is unkown.'}),\n",
       " Prediction(uid='A4VWIYPNDXKFR', iid='B0002CE0XY', r_ui=3.0, est=3.2261904761904763, details={'actual_k': 0, 'was_impossible': False}),\n",
       " Prediction(uid='A3JIOOJIKQNX4K', iid='B0002L5R78', r_ui=1.0, est=4.050870065449826, details={'was_impossible': True, 'reason': 'User and/or item is unkown.'}),\n",
       " Prediction(uid='A31OLFBLFSFM02', iid='B000HZ9CCA', r_ui=5.0, est=4.050870065449826, details={'was_impossible': True, 'reason': 'User and/or item is unkown.'}),\n",
       " Prediction(uid='AZM5868X217ZG', iid='B000095SB4', r_ui=4.0, est=3.593421052631579, details={'actual_k': 0, 'was_impossible': False}),\n",
       " Prediction(uid='A36M45WGHVKEKM', iid='B000E8SY5G', r_ui=5.0, est=4.050870065449826, details={'was_impossible': True, 'reason': 'User and/or item is unkown.'}),\n",
       " Prediction(uid='A3OHYGGJCWPC7A', iid='B0007N55NW', r_ui=5.0, est=4.050870065449826, details={'was_impossible': True, 'reason': 'User and/or item is unkown.'}),\n",
       " Prediction(uid='ATDFD3JIN1R1W', iid='B00004SABJ', r_ui=1.0, est=3.6666666666666665, details={'actual_k': 0, 'was_impossible': False}),\n",
       " Prediction(uid='A15W64KVAFSBWS', iid='B0007Y79B2', r_ui=4.0, est=4.050870065449826, details={'was_impossible': True, 'reason': 'User and/or item is unkown.'}),\n",
       " Prediction(uid='A3D4Z52FX06OCY', iid='B000EN0K94', r_ui=5.0, est=4.050870065449826, details={'was_impossible': True, 'reason': 'User and/or item is unkown.'}),\n",
       " Prediction(uid='A3R0ZDQWANTOHM', iid='B00070QI1I', r_ui=5.0, est=4.645962732919255, details={'actual_k': 0, 'was_impossible': False}),\n",
       " Prediction(uid='A1KHJ49QEJMURK', iid='B00001P4ZR', r_ui=4.0, est=4.050870065449826, details={'was_impossible': True, 'reason': 'User and/or item is unkown.'}),\n",
       " Prediction(uid='A24BC8WNWMJIXC', iid='B000I23TTE', r_ui=1.0, est=4.050870065449826, details={'was_impossible': True, 'reason': 'User and/or item is unkown.'}),\n",
       " Prediction(uid='A14HCNUE9QV5J7', iid='B0002DODXA', r_ui=5.0, est=4.050870065449826, details={'was_impossible': True, 'reason': 'User and/or item is unkown.'}),\n",
       " Prediction(uid='A9VUCWB7ICYV0', iid='B000EPLP3C', r_ui=4.0, est=3.8480392156862746, details={'actual_k': 0, 'was_impossible': False}),\n",
       " Prediction(uid='A37O35UDF9Y89U', iid='B0002L5R78', r_ui=4.0, est=4.5465653550014995, details={'actual_k': 1, 'was_impossible': False}),\n",
       " Prediction(uid='A3UUHDM041SH8P', iid='B0009STJIW', r_ui=1.0, est=4.050870065449826, details={'was_impossible': True, 'reason': 'User and/or item is unkown.'}),\n",
       " Prediction(uid='A34FYQMUUSEZ63', iid='1400501466', r_ui=4.0, est=4.050870065449826, details={'was_impossible': True, 'reason': 'User and/or item is unkown.'}),\n",
       " Prediction(uid='A1QJ3GRWKLDIPV', iid='B0001FTVEK', r_ui=5.0, est=4.050870065449826, details={'was_impossible': True, 'reason': 'User and/or item is unkown.'}),\n",
       " Prediction(uid='AJ17TPVG17I1K', iid='B00019068G', r_ui=5.0, est=4.050870065449826, details={'was_impossible': True, 'reason': 'User and/or item is unkown.'}),\n",
       " Prediction(uid='A2KAEGRKHSGBAF', iid='B0007RSZX0', r_ui=3.0, est=4.050870065449826, details={'was_impossible': True, 'reason': 'User and/or item is unkown.'}),\n",
       " Prediction(uid='AA2E9ETVB384S', iid='B000B622CW', r_ui=2.0, est=2.423076923076923, details={'actual_k': 0, 'was_impossible': False}),\n",
       " Prediction(uid='A2DCJ6M8JUK3QB', iid='B000EHUE7I', r_ui=5.0, est=4.050870065449826, details={'was_impossible': True, 'reason': 'User and/or item is unkown.'}),\n",
       " Prediction(uid='A1YN3OT05RT7KW', iid='B000B9RI14', r_ui=5.0, est=4.775763358778626, details={'actual_k': 0, 'was_impossible': False}),\n",
       " Prediction(uid='AIR3JTLYU8NW3', iid='B00004LMEC', r_ui=5.0, est=4.050870065449826, details={'was_impossible': True, 'reason': 'User and/or item is unkown.'}),\n",
       " Prediction(uid='A39GXE0PBE7OIX', iid='B000093UDQ', r_ui=4.0, est=4.050870065449826, details={'was_impossible': True, 'reason': 'User and/or item is unkown.'}),\n",
       " Prediction(uid='A1AKKYXG0Y0ULL', iid='B00021XIJW', r_ui=3.0, est=2.8780487804878048, details={'actual_k': 0, 'was_impossible': False}),\n",
       " Prediction(uid='A2FMBGZ0MNM2I0', iid='B0007Z1M50', r_ui=5.0, est=4.050870065449826, details={'was_impossible': True, 'reason': 'User and/or item is unkown.'}),\n",
       " Prediction(uid='A3KDEY2ULL36ZZ', iid='B0006I09LQ', r_ui=5.0, est=4.050870065449826, details={'was_impossible': True, 'reason': 'User and/or item is unkown.'}),\n",
       " Prediction(uid='A2R24WNZRD3A0Z', iid='B0002CPBWI', r_ui=1.0, est=4.050870065449826, details={'was_impossible': True, 'reason': 'User and/or item is unkown.'}),\n",
       " Prediction(uid='A3DC2S7IK22MWB', iid='B000AZ57M6', r_ui=5.0, est=4.050870065449826, details={'was_impossible': True, 'reason': 'User and/or item is unkown.'}),\n",
       " Prediction(uid='A2QCVUQ8V9QG44', iid='B0007XCT18', r_ui=2.0, est=4.050870065449826, details={'was_impossible': True, 'reason': 'User and/or item is unkown.'}),\n",
       " Prediction(uid='A9ZMG8FBA0GAV', iid='B000EFHPKO', r_ui=3.0, est=4.050870065449826, details={'was_impossible': True, 'reason': 'User and/or item is unkown.'}),\n",
       " Prediction(uid='A3PEB60HDX5RKV', iid='B000CS1TLE', r_ui=4.0, est=4.050870065449826, details={'was_impossible': True, 'reason': 'User and/or item is unkown.'}),\n",
       " Prediction(uid='A2O4BF6CE7RARL', iid='B0002UB2P0', r_ui=5.0, est=3.330769230769231, details={'actual_k': 0, 'was_impossible': False}),\n",
       " Prediction(uid='A1EN2ZO0AG6LR6', iid='B000F3DYUU', r_ui=5.0, est=4.050870065449826, details={'was_impossible': True, 'reason': 'User and/or item is unkown.'}),\n",
       " Prediction(uid='AZNDSZR3C7ZZF', iid='B000GU78Z4', r_ui=5.0, est=4.050870065449826, details={'was_impossible': True, 'reason': 'User and/or item is unkown.'}),\n",
       " Prediction(uid='AXJL59IQ8QW9P', iid='B000EWHEM6', r_ui=5.0, est=4.050870065449826, details={'was_impossible': True, 'reason': 'User and/or item is unkown.'}),\n",
       " Prediction(uid='A1ICKZ358QCJM7', iid='B000GHULTM', r_ui=4.0, est=4.050870065449826, details={'was_impossible': True, 'reason': 'User and/or item is unkown.'}),\n",
       " Prediction(uid='A3VTZPXE6BTDBZ', iid='B00026BQJ6', r_ui=5.0, est=4.101010101010101, details={'actual_k': 0, 'was_impossible': False}),\n",
       " Prediction(uid='A24CC4YBQ4MR7Q', iid='B000FCP1NO', r_ui=5.0, est=4.050870065449826, details={'was_impossible': True, 'reason': 'User and/or item is unkown.'}),\n",
       " Prediction(uid='A36K2N527TXXJN', iid='B000BQ7GW8', r_ui=5.0, est=5, details={'actual_k': 1, 'was_impossible': False}),\n",
       " Prediction(uid='A3ARQOB1K12HLA', iid='B00001P4ZH', r_ui=5.0, est=4.050870065449826, details={'was_impossible': True, 'reason': 'User and/or item is unkown.'}),\n",
       " Prediction(uid='A3NRUB5I43LGK1', iid='B000HAOVC6', r_ui=4.0, est=4.050870065449826, details={'was_impossible': True, 'reason': 'User and/or item is unkown.'}),\n",
       " Prediction(uid='ARRAPAAT7RB65', iid='B000FL9E6U', r_ui=5.0, est=4.050870065449826, details={'was_impossible': True, 'reason': 'User and/or item is unkown.'}),\n",
       " Prediction(uid='A1HKRCEBZDY6BM', iid='B000C1Z0HA', r_ui=5.0, est=4.050870065449826, details={'was_impossible': True, 'reason': 'User and/or item is unkown.'}),\n",
       " Prediction(uid='AIUAGRZKY04A6', iid='B0002DQUHC', r_ui=5.0, est=4.050870065449826, details={'was_impossible': True, 'reason': 'User and/or item is unkown.'}),\n",
       " Prediction(uid='AT6OO135A8QKC', iid='B0000510T7', r_ui=5.0, est=4.050870065449826, details={'was_impossible': True, 'reason': 'User and/or item is unkown.'}),\n",
       " Prediction(uid='A2KRQSZ4C5VM5I', iid='B0002MQGK4', r_ui=5.0, est=4.050870065449826, details={'was_impossible': True, 'reason': 'User and/or item is unkown.'}),\n",
       " Prediction(uid='A32TQMI900Q7XY', iid='B000065BP9', r_ui=5.0, est=4.050870065449826, details={'was_impossible': True, 'reason': 'User and/or item is unkown.'}),\n",
       " Prediction(uid='A19P4L7Z88M5EU', iid='B000AV14M2', r_ui=1.0, est=4.050870065449826, details={'was_impossible': True, 'reason': 'User and/or item is unkown.'}),\n",
       " Prediction(uid='A1JZH1GHIHIHOW', iid='B0002MRN4W', r_ui=5.0, est=4.823931237014079, details={'actual_k': 1, 'was_impossible': False}),\n",
       " Prediction(uid='A3P95VHIXENV84', iid='B000I2WF6W', r_ui=5.0, est=4.050870065449826, details={'was_impossible': True, 'reason': 'User and/or item is unkown.'}),\n",
       " Prediction(uid='A29ZELZSB2GXVB', iid='B0000TU7IG', r_ui=5.0, est=4.050870065449826, details={'was_impossible': True, 'reason': 'User and/or item is unkown.'}),\n",
       " Prediction(uid='A2SP0V5A4UNYD4', iid='B000EDKP8U', r_ui=4.0, est=4.050870065449826, details={'was_impossible': True, 'reason': 'User and/or item is unkown.'}),\n",
       " Prediction(uid='A1LI0HSBK0T1SO', iid='B0002F8ZGO', r_ui=5.0, est=4.050870065449826, details={'was_impossible': True, 'reason': 'User and/or item is unkown.'}),\n",
       " Prediction(uid='ASDJT0KRGVT2M', iid='B0009K9FZW', r_ui=5.0, est=4.050870065449826, details={'was_impossible': True, 'reason': 'User and/or item is unkown.'}),\n",
       " Prediction(uid='A18XOHY5TP5G9I', iid='B000067RC4', r_ui=3.0, est=4.050870065449826, details={'was_impossible': True, 'reason': 'User and/or item is unkown.'}),\n",
       " Prediction(uid='A32VNDCTK082JI', iid='B00004VWM3', r_ui=4.0, est=4.050870065449826, details={'was_impossible': True, 'reason': 'User and/or item is unkown.'}),\n",
       " Prediction(uid='AAQX9QE13582U', iid='B0000AQIFZ', r_ui=5.0, est=4.050870065449826, details={'was_impossible': True, 'reason': 'User and/or item is unkown.'}),\n",
       " Prediction(uid='AQAT7HWPDXACL', iid='B000EVEH6I', r_ui=4.0, est=4.391891891891892, details={'actual_k': 0, 'was_impossible': False}),\n",
       " Prediction(uid='A1ZPQ4341MFFLS', iid='B0007Z1M50', r_ui=4.0, est=4.050870065449826, details={'was_impossible': True, 'reason': 'User and/or item is unkown.'}),\n",
       " Prediction(uid='AYODRKQUO459H', iid='B00006B81E', r_ui=5.0, est=4.536, details={'actual_k': 0, 'was_impossible': False}),\n",
       " Prediction(uid='AB2DVKSHT5Q0N', iid='B00006BBAC', r_ui=5.0, est=4.050870065449826, details={'was_impossible': True, 'reason': 'User and/or item is unkown.'}),\n",
       " Prediction(uid='A22PKAJ6K8REC9', iid='B000AP05BO', r_ui=4.0, est=4.050870065449826, details={'was_impossible': True, 'reason': 'User and/or item is unkown.'}),\n",
       " Prediction(uid='A1Y6AX7RNKKWFC', iid='B0006GX0IC', r_ui=4.0, est=4.050870065449826, details={'was_impossible': True, 'reason': 'User and/or item is unkown.'}),\n",
       " Prediction(uid='A3VN5PTTMKEC6W', iid='B000EPLP3C', r_ui=4.0, est=3.8480392156862746, details={'actual_k': 0, 'was_impossible': False}),\n",
       " Prediction(uid='A1KNKFIAGXCOY2', iid='B0001FTVEK', r_ui=5.0, est=4.050870065449826, details={'was_impossible': True, 'reason': 'User and/or item is unkown.'}),\n",
       " Prediction(uid='A2NS3VNE9NDGSF', iid='B000GOUE7O', r_ui=5.0, est=4.050870065449826, details={'was_impossible': True, 'reason': 'User and/or item is unkown.'}),\n",
       " Prediction(uid='A1MIACYOGPX23', iid='B00008AWKZ', r_ui=1.0, est=3.9243027888446216, details={'actual_k': 0, 'was_impossible': False}),\n",
       " Prediction(uid='AYDK2RQ8QCRUY', iid='B000FKP7TY', r_ui=3.0, est=4.050870065449826, details={'was_impossible': True, 'reason': 'User and/or item is unkown.'}),\n",
       " Prediction(uid='A3SCMTAN6KL5AB', iid='B000GP5F04', r_ui=5.0, est=4.050870065449826, details={'was_impossible': True, 'reason': 'User and/or item is unkown.'}),\n",
       " Prediction(uid='A2XNXBJXI8OKWP', iid='B000629GES', r_ui=1.0, est=3.3460620525059666, details={'actual_k': 0, 'was_impossible': False}),\n",
       " Prediction(uid='AAF7H9IBUFECA', iid='B000AA2RCY', r_ui=4.0, est=4.4706867671691795, details={'actual_k': 0, 'was_impossible': False}),\n",
       " Prediction(uid='A3SINWNX0F0MRS', iid='B0002BG6RI', r_ui=5.0, est=4.050870065449826, details={'was_impossible': True, 'reason': 'User and/or item is unkown.'}),\n",
       " Prediction(uid='A3S5J135QIBS36', iid='B000CS1TLE', r_ui=3.0, est=4.050870065449826, details={'was_impossible': True, 'reason': 'User and/or item is unkown.'}),\n",
       " Prediction(uid='ARIDN94LOCQFD', iid='B0002CPBUK', r_ui=5.0, est=4.439655172413793, details={'actual_k': 0, 'was_impossible': False}),\n",
       " Prediction(uid='AV77AN93FVASK', iid='B00007IFED', r_ui=5.0, est=4.050870065449826, details={'was_impossible': True, 'reason': 'User and/or item is unkown.'}),\n",
       " Prediction(uid='A2V8W6BD4VOEML', iid='B000DZS20M', r_ui=1.0, est=4.050870065449826, details={'was_impossible': True, 'reason': 'User and/or item is unkown.'}),\n",
       " Prediction(uid='A23SB6VGGB9E8U', iid='B00004TDL2', r_ui=5.0, est=4.140845070422535, details={'actual_k': 0, 'was_impossible': False}),\n",
       " Prediction(uid='AXJBZ2K6YRHA8', iid='B000ABB4HC', r_ui=5.0, est=4.050870065449826, details={'was_impossible': True, 'reason': 'User and/or item is unkown.'}),\n",
       " Prediction(uid='AX9BTO5QIJYO', iid='B000HVVHEU', r_ui=5.0, est=4.050870065449826, details={'was_impossible': True, 'reason': 'User and/or item is unkown.'}),\n",
       " Prediction(uid='A2E83OFZOSHWWT', iid='B0002L5R78', r_ui=5.0, est=4.050870065449826, details={'was_impossible': True, 'reason': 'User and/or item is unkown.'}),\n",
       " Prediction(uid='AX3QUWWJMY4PM', iid='B0002KVQBA', r_ui=4.0, est=4.050870065449826, details={'was_impossible': True, 'reason': 'User and/or item is unkown.'}),\n",
       " Prediction(uid='A1BHGOE8XY62UI', iid='B000246USU', r_ui=5.0, est=4.050870065449826, details={'was_impossible': True, 'reason': 'User and/or item is unkown.'}),\n",
       " Prediction(uid='A1BAV9WM1KW68N', iid='B0007WTHLY', r_ui=3.0, est=3.658333333333333, details={'actual_k': 0, 'was_impossible': False}),\n",
       " Prediction(uid='A2O0LJQ8CWW04B', iid='B0000TU7I6', r_ui=5.0, est=4.050870065449826, details={'was_impossible': True, 'reason': 'User and/or item is unkown.'}),\n",
       " Prediction(uid='A1BWC93UHW1SAN', iid='B000HDJT4S', r_ui=3.0, est=4.050870065449826, details={'was_impossible': True, 'reason': 'User and/or item is unkown.'}),\n",
       " Prediction(uid='A35I4MIHBFYRXV', iid='B00004SABB', r_ui=4.0, est=4.050870065449826, details={'was_impossible': True, 'reason': 'User and/or item is unkown.'}),\n",
       " Prediction(uid='A2AILN1Z5YIMH2', iid='B00030CHRQ', r_ui=1.0, est=4.050870065449826, details={'was_impossible': True, 'reason': 'User and/or item is unkown.'}),\n",
       " Prediction(uid='A35E49DFLTUMOP', iid='B00005T3C8', r_ui=5.0, est=4.708791208791209, details={'actual_k': 0, 'was_impossible': False}),\n",
       " Prediction(uid='A2IBQ6K9KZ56KG', iid='B0006VX1G8', r_ui=4.0, est=4.050870065449826, details={'was_impossible': True, 'reason': 'User and/or item is unkown.'}),\n",
       " Prediction(uid='A2IOSMHSKY39EL', iid='B00007GWC6', r_ui=5.0, est=3.360655737704918, details={'actual_k': 0, 'was_impossible': False}),\n",
       " Prediction(uid='ALW2GCK0ZH61F', iid='B000FL2EJE', r_ui=2.0, est=4.050870065449826, details={'was_impossible': True, 'reason': 'User and/or item is unkown.'}),\n",
       " Prediction(uid='A22OA5TN2V5RL9', iid='B000F28DP2', r_ui=5.0, est=4.050870065449826, details={'was_impossible': True, 'reason': 'User and/or item is unkown.'}),\n",
       " Prediction(uid='A2DNTJYRT6XRU4', iid='B00029U1DK', r_ui=5.0, est=4.790801868786053, details={'actual_k': 3, 'was_impossible': False}),\n",
       " Prediction(uid='A1RSH0DM6NQ39T', iid='B000F28DP2', r_ui=1.0, est=4.050870065449826, details={'was_impossible': True, 'reason': 'User and/or item is unkown.'}),\n",
       " Prediction(uid='A1DE9X149Z53HB', iid='B0009TQB00', r_ui=1.0, est=4.050870065449826, details={'was_impossible': True, 'reason': 'User and/or item is unkown.'}),\n",
       " Prediction(uid='AO8D6OVY5YG59', iid='B0007QKMQY', r_ui=5.0, est=4.050870065449826, details={'was_impossible': True, 'reason': 'User and/or item is unkown.'}),\n",
       " Prediction(uid='A2G8K3GDE6R2Z5', iid='B000A6PPOK', r_ui=5.0, est=4.050870065449826, details={'was_impossible': True, 'reason': 'User and/or item is unkown.'}),\n",
       " Prediction(uid='A3AXXTRL7J0OZU', iid='B000GEDMNW', r_ui=3.0, est=4.050870065449826, details={'was_impossible': True, 'reason': 'User and/or item is unkown.'}),\n",
       " Prediction(uid='A25GTYR60YJ15V', iid='B00004Y7CF', r_ui=3.0, est=4.050870065449826, details={'was_impossible': True, 'reason': 'User and/or item is unkown.'}),\n",
       " Prediction(uid='A2T8BK2Y0ZXAQ', iid='B000092YPR', r_ui=4.0, est=4.050870065449826, details={'was_impossible': True, 'reason': 'User and/or item is unkown.'}),\n",
       " Prediction(uid='A2LLMF51X7BGSM', iid='B000DLB91A', r_ui=5.0, est=4.045, details={'actual_k': 0, 'was_impossible': False}),\n",
       " Prediction(uid='A2M5R3D3W45DO8', iid='B000CRT07U', r_ui=5.0, est=4.050870065449826, details={'was_impossible': True, 'reason': 'User and/or item is unkown.'}),\n",
       " Prediction(uid='A1LXFBMO2VZGWY', iid='B000FCNA2I', r_ui=4.0, est=4.1395348837209305, details={'actual_k': 0, 'was_impossible': False}),\n",
       " Prediction(uid='AABNOTFYBRO4V', iid='B00020S7XK', r_ui=5.0, est=4.050870065449826, details={'was_impossible': True, 'reason': 'User and/or item is unkown.'}),\n",
       " Prediction(uid='A22QZPMJT59J1U', iid='B000F78582', r_ui=5.0, est=4.050870065449826, details={'was_impossible': True, 'reason': 'User and/or item is unkown.'}),\n",
       " Prediction(uid='A574BMB3W0WVP', iid='B000BKJZ9Q', r_ui=5.0, est=4.4331382260243135, details={'actual_k': 0, 'was_impossible': False}),\n",
       " Prediction(uid='A2H1LI6PBJBOSS', iid='B000BUEMOO', r_ui=4.0, est=4.050870065449826, details={'was_impossible': True, 'reason': 'User and/or item is unkown.'}),\n",
       " Prediction(uid='A1D498ODRPSAT1', iid='B000ENRQ3M', r_ui=5.0, est=4.050870065449826, details={'was_impossible': True, 'reason': 'User and/or item is unkown.'}),\n",
       " Prediction(uid='A5F8REUCNY6IW', iid='B00007AP2O', r_ui=5.0, est=4.050870065449826, details={'was_impossible': True, 'reason': 'User and/or item is unkown.'}),\n",
       " Prediction(uid='A17AAE1WQHE63B', iid='B0002DQUHC', r_ui=4.0, est=4.050870065449826, details={'was_impossible': True, 'reason': 'User and/or item is unkown.'}),\n",
       " Prediction(uid='A2K7U0AE25XDQG', iid='B000CQVX5I', r_ui=5.0, est=3.9473684210526314, details={'actual_k': 0, 'was_impossible': False}),\n",
       " Prediction(uid='A1XZM0NSOORA2I', iid='B00030AXNQ', r_ui=3.0, est=4.050870065449826, details={'was_impossible': True, 'reason': 'User and/or item is unkown.'}),\n",
       " Prediction(uid='A1X3T9VBU5GQX4', iid='B000A1AQOO', r_ui=1.0, est=3.8055555555555554, details={'actual_k': 0, 'was_impossible': False}),\n",
       " Prediction(uid='A37YSQCST33ZG8', iid='B000F28DP2', r_ui=5.0, est=4.349162011173185, details={'actual_k': 0, 'was_impossible': False}),\n",
       " Prediction(uid='A1ZGFHE195T4MP', iid='B00007KDVI', r_ui=2.0, est=1, details={'actual_k': 1, 'was_impossible': False}),\n",
       " Prediction(uid='AES2E5FJVZ4NO', iid='B0002LEMWE', r_ui=5.0, est=4.050870065449826, details={'was_impossible': True, 'reason': 'User and/or item is unkown.'}),\n",
       " Prediction(uid='AF3N2KZNHJ1RJ', iid='B000067SPP', r_ui=5.0, est=4.050870065449826, details={'was_impossible': True, 'reason': 'User and/or item is unkown.'}),\n",
       " Prediction(uid='A2OR54C07UN18B', iid='B00020S7XK', r_ui=2.0, est=4.050870065449826, details={'was_impossible': True, 'reason': 'User and/or item is unkown.'}),\n",
       " Prediction(uid='A3CAIZ5D023DAO', iid='B00006B82N', r_ui=5.0, est=4.050870065449826, details={'was_impossible': True, 'reason': 'User and/or item is unkown.'}),\n",
       " Prediction(uid='A30UYUKGMDH3QD', iid='B000EA8U12', r_ui=4.0, est=4.050870065449826, details={'was_impossible': True, 'reason': 'User and/or item is unkown.'}),\n",
       " Prediction(uid='AYMUOEKNY7Q61', iid='B000089GN3', r_ui=5.0, est=4.050870065449826, details={'was_impossible': True, 'reason': 'User and/or item is unkown.'}),\n",
       " Prediction(uid='A1JL1R4SL4U8BR', iid='B000FVDD30', r_ui=5.0, est=4.050870065449826, details={'was_impossible': True, 'reason': 'User and/or item is unkown.'}),\n",
       " Prediction(uid='A5NPIH3CFDKTD', iid='B000ER5G58', r_ui=5.0, est=4.073469387755102, details={'actual_k': 0, 'was_impossible': False}),\n",
       " Prediction(uid='A2LGDHAX6M06CU', iid='B000ES8EG0', r_ui=1.0, est=4.050870065449826, details={'was_impossible': True, 'reason': 'User and/or item is unkown.'}),\n",
       " Prediction(uid='A2XKFM54D00APB', iid='B00006JU62', r_ui=5.0, est=4.050870065449826, details={'was_impossible': True, 'reason': 'User and/or item is unkown.'}),\n",
       " Prediction(uid='A1AUXDNBHOBJZ3', iid='B0007LJHVK', r_ui=5.0, est=4.050870065449826, details={'was_impossible': True, 'reason': 'User and/or item is unkown.'}),\n",
       " Prediction(uid='A2CLHJ5OJIEWZL', iid='B000DZHA6O', r_ui=4.0, est=4.17910447761194, details={'actual_k': 0, 'was_impossible': False}),\n",
       " Prediction(uid='AOIBOJRBYYVGI', iid='B00001P505', r_ui=4.0, est=4.746080426630487, details={'actual_k': 1, 'was_impossible': False}),\n",
       " Prediction(uid='A3FBV9IJIMF0HW', iid='B000IEO964', r_ui=3.0, est=4.463414634146342, details={'actual_k': 0, 'was_impossible': False}),\n",
       " Prediction(uid='A14Y2X7GFAAPXN', iid='B00007E7JU', r_ui=5.0, est=4.050870065449826, details={'was_impossible': True, 'reason': 'User and/or item is unkown.'}),\n",
       " Prediction(uid='A3LZZQQE0QVG7M', iid='B00005ATMB', r_ui=4.0, est=4.050870065449826, details={'was_impossible': True, 'reason': 'User and/or item is unkown.'}),\n",
       " Prediction(uid='AYIT44RFKCQQN', iid='B000I661J0', r_ui=5.0, est=4.050870065449826, details={'was_impossible': True, 'reason': 'User and/or item is unkown.'}),\n",
       " Prediction(uid='AY3RAGE0LRZ16', iid='B000067RC4', r_ui=4.0, est=4.195652173913044, details={'actual_k': 0, 'was_impossible': False}),\n",
       " Prediction(uid='A31C33KOZ2S6E2', iid='B0002KX5E6', r_ui=5.0, est=4.050870065449826, details={'was_impossible': True, 'reason': 'User and/or item is unkown.'}),\n",
       " Prediction(uid='A3JGKKEF4XEZM9', iid='B000067G0J', r_ui=5.0, est=4.050870065449826, details={'was_impossible': True, 'reason': 'User and/or item is unkown.'}),\n",
       " Prediction(uid='A187V8798MZOCJ', iid='B0000AKVJC', r_ui=5.0, est=4.050870065449826, details={'was_impossible': True, 'reason': 'User and/or item is unkown.'}),\n",
       " Prediction(uid='A17TDRK5WDY8HM', iid='B0002JY712', r_ui=5.0, est=4.050870065449826, details={'was_impossible': True, 'reason': 'User and/or item is unkown.'}),\n",
       " Prediction(uid='A3NBTQG1MCKT63', iid='B0009204RI', r_ui=5.0, est=4.219178082191781, details={'actual_k': 0, 'was_impossible': False}),\n",
       " Prediction(uid='A3G2FOCKZ5J8AL', iid='B000E1FYQA', r_ui=4.0, est=3.9846153846153847, details={'actual_k': 0, 'was_impossible': False}),\n",
       " Prediction(uid='A2F4WB0NFRZA7G', iid='B0000B006W', r_ui=5.0, est=4.050870065449826, details={'was_impossible': True, 'reason': 'User and/or item is unkown.'}),\n",
       " Prediction(uid='A2VFTB9XK83MWZ', iid='B000F7QRTG', r_ui=1.0, est=4.050870065449826, details={'was_impossible': True, 'reason': 'User and/or item is unkown.'}),\n",
       " Prediction(uid='A35TD8QAUMV0DB', iid='B0002JC2QE', r_ui=2.0, est=3.9444444444444446, details={'actual_k': 0, 'was_impossible': False}),\n",
       " Prediction(uid='AK8O8Y78P5ML0', iid='B00068YUPM', r_ui=1.0, est=4.050870065449826, details={'was_impossible': True, 'reason': 'User and/or item is unkown.'}),\n",
       " Prediction(uid='A2EIU3ROXWUGON', iid='B000058BCQ', r_ui=4.0, est=3.853881278538813, details={'actual_k': 0, 'was_impossible': False}),\n",
       " Prediction(uid='A3DEU91VYUA1PW', iid='B000246ST6', r_ui=5.0, est=4.050870065449826, details={'was_impossible': True, 'reason': 'User and/or item is unkown.'}),\n",
       " Prediction(uid='ATB2EZ1EYKXD0', iid='B00006I560', r_ui=3.0, est=4.050870065449826, details={'was_impossible': True, 'reason': 'User and/or item is unkown.'}),\n",
       " Prediction(uid='A3H18V2I69MVFS', iid='B00004THCZ', r_ui=1.0, est=4.050870065449826, details={'was_impossible': True, 'reason': 'User and/or item is unkown.'}),\n",
       " Prediction(uid='A2LFHQFT1SXCYL', iid='B00004Z5D1', r_ui=4.0, est=4.425101214574899, details={'actual_k': 0, 'was_impossible': False}),\n",
       " Prediction(uid='A370DIUVZOQTNX', iid='B0002D6QJO', r_ui=5.0, est=4.050870065449826, details={'was_impossible': True, 'reason': 'User and/or item is unkown.'}),\n",
       " Prediction(uid='A3TO7NAWSUTN3U', iid='B00007056H', r_ui=4.0, est=4.050870065449826, details={'was_impossible': True, 'reason': 'User and/or item is unkown.'}),\n",
       " Prediction(uid='A297X65RJL0MNK', iid='B000AY5Y5W', r_ui=4.0, est=4.050870065449826, details={'was_impossible': True, 'reason': 'User and/or item is unkown.'}),\n",
       " Prediction(uid='A3MQUQU55HER5H', iid='B0001FTVEK', r_ui=5.0, est=4.050870065449826, details={'was_impossible': True, 'reason': 'User and/or item is unkown.'}),\n",
       " Prediction(uid='A1CY6ENB6H8S0A', iid='B0002QYS8W', r_ui=5.0, est=4.273584905660377, details={'actual_k': 0, 'was_impossible': False}),\n",
       " Prediction(uid='A33Q4JLAD6YD4W', iid='B000BHQCP4', r_ui=5.0, est=4.050870065449826, details={'was_impossible': True, 'reason': 'User and/or item is unkown.'}),\n",
       " Prediction(uid='APUA2GLLSFESM', iid='B00006RVPW', r_ui=5.0, est=4.050870065449826, details={'was_impossible': True, 'reason': 'User and/or item is unkown.'}),\n",
       " Prediction(uid='A20IN60EYD64O7', iid='B00020S7XK', r_ui=5.0, est=4.050870065449826, details={'was_impossible': True, 'reason': 'User and/or item is unkown.'}),\n",
       " Prediction(uid='A2UG0N60AJ1OF8', iid='B0007CGXSO', r_ui=1.0, est=4.050870065449826, details={'was_impossible': True, 'reason': 'User and/or item is unkown.'}),\n",
       " Prediction(uid='AM5L7U93CN40V', iid='B00004WCID', r_ui=5.0, est=4.050870065449826, details={'was_impossible': True, 'reason': 'User and/or item is unkown.'}),\n",
       " Prediction(uid='ARUDTZ5BNUHA6', iid='B000056SJT', r_ui=2.0, est=3.6808510638297873, details={'actual_k': 0, 'was_impossible': False}),\n",
       " Prediction(uid='A1EJ7ZJR0RJ3O', iid='B000065BP9', r_ui=5.0, est=4.215573770491804, details={'actual_k': 0, 'was_impossible': False}),\n",
       " Prediction(uid='A3ES4OQLG9IWPX', iid='B0002QPC28', r_ui=5.0, est=4.050870065449826, details={'was_impossible': True, 'reason': 'User and/or item is unkown.'}),\n",
       " Prediction(uid='ABVJJ7UGIZHXW', iid='B00008VWOJ', r_ui=1.0, est=4.050870065449826, details={'was_impossible': True, 'reason': 'User and/or item is unkown.'}),\n",
       " Prediction(uid='A3R68HC7JAIB69', iid='B00004ZCKV', r_ui=5.0, est=4.050870065449826, details={'was_impossible': True, 'reason': 'User and/or item is unkown.'}),\n",
       " Prediction(uid='A13ASNXMR3X34R', iid='B000ECQ59O', r_ui=4.0, est=4.050870065449826, details={'was_impossible': True, 'reason': 'User and/or item is unkown.'}),\n",
       " Prediction(uid='A24VYDMMCH69ZO', iid='B0009H5VVM', r_ui=5.0, est=4.050870065449826, details={'was_impossible': True, 'reason': 'User and/or item is unkown.'}),\n",
       " Prediction(uid='A1PI6ZDICQLXM3', iid='B00067OF80', r_ui=4.0, est=4.050870065449826, details={'was_impossible': True, 'reason': 'User and/or item is unkown.'}),\n",
       " Prediction(uid='A3IOSTIN5W4QUX', iid='B0002XQWCK', r_ui=4.0, est=4.050870065449826, details={'was_impossible': True, 'reason': 'User and/or item is unkown.'}),\n",
       " Prediction(uid='A27NW21CEL40G0', iid='1400532620', r_ui=4.0, est=4.050870065449826, details={'was_impossible': True, 'reason': 'User and/or item is unkown.'}),\n",
       " Prediction(uid='A4T2G48515O3V', iid='B00004ZCJE', r_ui=5.0, est=4.050870065449826, details={'was_impossible': True, 'reason': 'User and/or item is unkown.'}),\n",
       " Prediction(uid='A2GYWJ6AQMMPLZ', iid='B000BSLTIS', r_ui=3.0, est=4.050870065449826, details={'was_impossible': True, 'reason': 'User and/or item is unkown.'}),\n",
       " Prediction(uid='A3CI4KBAY7G41N', iid='B0002JFNQU', r_ui=5.0, est=4.050870065449826, details={'was_impossible': True, 'reason': 'User and/or item is unkown.'}),\n",
       " Prediction(uid='A2MYM80VF2H9O0', iid='B00005TQ1Y', r_ui=3.0, est=4.050870065449826, details={'was_impossible': True, 'reason': 'User and/or item is unkown.'}),\n",
       " Prediction(uid='AYTEVN570WKOH', iid='B0007MWE1E', r_ui=5.0, est=4.050870065449826, details={'was_impossible': True, 'reason': 'User and/or item is unkown.'}),\n",
       " Prediction(uid='A1A9QWC47DQS6W', iid='B0002L5R78', r_ui=1.0, est=4.050870065449826, details={'was_impossible': True, 'reason': 'User and/or item is unkown.'}),\n",
       " Prediction(uid='A1UWZ5XWRTX6DC', iid='B0000BVYTV', r_ui=5.0, est=4.050870065449826, details={'was_impossible': True, 'reason': 'User and/or item is unkown.'}),\n",
       " Prediction(uid='A1MXFJEGNZ107N', iid='B000A3WS84', r_ui=1.0, est=3.9326086956521737, details={'actual_k': 0, 'was_impossible': False}),\n",
       " Prediction(uid='A2LG03RERHTZ6V', iid='B000EUGX70', r_ui=5.0, est=4.050870065449826, details={'was_impossible': True, 'reason': 'User and/or item is unkown.'}),\n",
       " Prediction(uid='A1FVTHU7P2BFBU', iid='B0000AQIFY', r_ui=1.0, est=4.050870065449826, details={'was_impossible': True, 'reason': 'User and/or item is unkown.'}),\n",
       " Prediction(uid='APCPHYNEAQ1CJ', iid='B00024ENES', r_ui=1.0, est=4.050870065449826, details={'was_impossible': True, 'reason': 'User and/or item is unkown.'}),\n",
       " Prediction(uid='A2GA2LYFIFFV87', iid='B000E95SQS', r_ui=5.0, est=4.050870065449826, details={'was_impossible': True, 'reason': 'User and/or item is unkown.'}),\n",
       " Prediction(uid='A1KPUNB0PVZW8J', iid='B0000668YX', r_ui=3.0, est=4.050870065449826, details={'was_impossible': True, 'reason': 'User and/or item is unkown.'}),\n",
       " Prediction(uid='A1AZ7BL3SBDLZ8', iid='B000ANGNN0', r_ui=5.0, est=4.6521739130434785, details={'actual_k': 0, 'was_impossible': False}),\n",
       " Prediction(uid='A1LAYBBB1LLQ87', iid='B00067LYFW', r_ui=5.0, est=3.8861911987860394, details={'actual_k': 0, 'was_impossible': False}),\n",
       " Prediction(uid='A352MZS84VMIYF', iid='B000F2P2XI', r_ui=5.0, est=4.050870065449826, details={'was_impossible': True, 'reason': 'User and/or item is unkown.'}),\n",
       " Prediction(uid='A2M220E54JVXZI', iid='B00004RC2E', r_ui=5.0, est=4.050870065449826, details={'was_impossible': True, 'reason': 'User and/or item is unkown.'}),\n",
       " Prediction(uid='A1W2WCE1XUWCFA', iid='B0007SL4IW', r_ui=5.0, est=3.8016528925619837, details={'actual_k': 0, 'was_impossible': False}),\n",
       " Prediction(uid='A3KEGRYNE5IW6D', iid='B00005NVBT', r_ui=5.0, est=4.050870065449826, details={'was_impossible': True, 'reason': 'User and/or item is unkown.'}),\n",
       " Prediction(uid='AFA8BNKWUAMQN', iid='B000DZS0G8', r_ui=5.0, est=4.050870065449826, details={'was_impossible': True, 'reason': 'User and/or item is unkown.'}),\n",
       " Prediction(uid='A38CDU5YSDA6NG', iid='B0007POE6O', r_ui=5.0, est=4.050870065449826, details={'was_impossible': True, 'reason': 'User and/or item is unkown.'}),\n",
       " Prediction(uid='A2X39BUTMMN5GJ', iid='B00000J08Q', r_ui=1.0, est=4.050870065449826, details={'was_impossible': True, 'reason': 'User and/or item is unkown.'}),\n",
       " Prediction(uid='A1HU8X5BOYTN4V', iid='B0002Z82XA', r_ui=5.0, est=3.731818181818182, details={'actual_k': 0, 'was_impossible': False}),\n",
       " Prediction(uid='A8NGDYQ4C6L8P', iid='B000G35RYK', r_ui=5.0, est=4.050870065449826, details={'was_impossible': True, 'reason': 'User and/or item is unkown.'}),\n",
       " Prediction(uid='A3EZKTK7TVJMDR', iid='B00006B7DB', r_ui=1.0, est=4.050870065449826, details={'was_impossible': True, 'reason': 'User and/or item is unkown.'}),\n",
       " Prediction(uid='A17BTOJINWG4OA', iid='B00030AXNQ', r_ui=4.0, est=4.050870065449826, details={'was_impossible': True, 'reason': 'User and/or item is unkown.'}),\n",
       " Prediction(uid='A2DWKT55XRGNCZ', iid='B000EIWCFE', r_ui=5.0, est=4.050870065449826, details={'was_impossible': True, 'reason': 'User and/or item is unkown.'}),\n",
       " Prediction(uid='A1RXPPGW4XRSLZ', iid='B0002GMDQG', r_ui=1.0, est=2.6724137931034484, details={'actual_k': 0, 'was_impossible': False}),\n",
       " Prediction(uid='A3ABHS1MIRL5F0', iid='B0007U6IFY', r_ui=4.0, est=4.050870065449826, details={'was_impossible': True, 'reason': 'User and/or item is unkown.'}),\n",
       " Prediction(uid='A2OCSKURM4GSSY', iid='B000062VUO', r_ui=4.0, est=4.050870065449826, details={'was_impossible': True, 'reason': 'User and/or item is unkown.'}),\n",
       " Prediction(uid='A35W6E9WEEUA59', iid='B00009MK5M', r_ui=1.0, est=4.050870065449826, details={'was_impossible': True, 'reason': 'User and/or item is unkown.'}),\n",
       " Prediction(uid='A1F8FFYPYZ9XJ', iid='B00000J1V5', r_ui=5.0, est=4.050870065449826, details={'was_impossible': True, 'reason': 'User and/or item is unkown.'}),\n",
       " Prediction(uid='APUI5R2K4YIAL', iid='B00029U1DK', r_ui=5.0, est=4.050870065449826, details={'was_impossible': True, 'reason': 'User and/or item is unkown.'}),\n",
       " Prediction(uid='A2MIQE1ZT591GD', iid='B00080YK9Y', r_ui=5.0, est=4.050870065449826, details={'was_impossible': True, 'reason': 'User and/or item is unkown.'}),\n",
       " Prediction(uid='A1ZWISEIK3H9KZ', iid='B00006I5J7', r_ui=5.0, est=4.050870065449826, details={'was_impossible': True, 'reason': 'User and/or item is unkown.'}),\n",
       " Prediction(uid='AROPYUEN349VH', iid='B000HKGK8Y', r_ui=1.0, est=3.8098086124401913, details={'actual_k': 0, 'was_impossible': False}),\n",
       " Prediction(uid='AK3TEC3DCSBXD', iid='B0006I09LQ', r_ui=4.0, est=4.050870065449826, details={'was_impossible': True, 'reason': 'User and/or item is unkown.'}),\n",
       " Prediction(uid='A3AFEI5J4VZIHX', iid='B0002U1TJY', r_ui=5.0, est=4.139130434782609, details={'actual_k': 0, 'was_impossible': False}),\n",
       " Prediction(uid='AWIW3H0KJG1OR', iid='B000FKALWM', r_ui=4.0, est=4.050870065449826, details={'was_impossible': True, 'reason': 'User and/or item is unkown.'}),\n",
       " Prediction(uid='A3SWXZJYHLNKQU', iid='B0007OWASE', r_ui=5.0, est=4.050870065449826, details={'was_impossible': True, 'reason': 'User and/or item is unkown.'}),\n",
       " Prediction(uid='A3DLQ8WXBGFVWF', iid='B00006412G', r_ui=5.0, est=4.55, details={'actual_k': 0, 'was_impossible': False}),\n",
       " Prediction(uid='AV6MOKQTACXN9', iid='B00005ATMB', r_ui=5.0, est=4.050870065449826, details={'was_impossible': True, 'reason': 'User and/or item is unkown.'}),\n",
       " Prediction(uid='A24KPRUN1JADDQ', iid='B00006JLOS', r_ui=5.0, est=4.050870065449826, details={'was_impossible': True, 'reason': 'User and/or item is unkown.'}),\n",
       " Prediction(uid='AUETD58LT8QIX', iid='B0002VO8GE', r_ui=5.0, est=4.050870065449826, details={'was_impossible': True, 'reason': 'User and/or item is unkown.'}),\n",
       " Prediction(uid='ANG85JV4F5CBV', iid='B000204SWE', r_ui=3.0, est=3.597684515195369, details={'actual_k': 0, 'was_impossible': False}),\n",
       " Prediction(uid='A3PF3RTK53EEFX', iid='B0002EOFFK', r_ui=1.0, est=4.050870065449826, details={'was_impossible': True, 'reason': 'User and/or item is unkown.'}),\n",
       " Prediction(uid='A2TVV4J8PDU1LG', iid='B00028D778', r_ui=5.0, est=4.050870065449826, details={'was_impossible': True, 'reason': 'User and/or item is unkown.'}),\n",
       " Prediction(uid='A20YUUVUWLV8YN', iid='B000001OM4', r_ui=1.0, est=4.050870065449826, details={'was_impossible': True, 'reason': 'User and/or item is unkown.'}),\n",
       " Prediction(uid='A1XKTW28M6X5Y9', iid='B000G1ENQA', r_ui=5.0, est=4.9411764705882355, details={'actual_k': 0, 'was_impossible': False}),\n",
       " Prediction(uid='A3YNT04WLXCLM', iid='B000BKJZ9Q', r_ui=5.0, est=4.4331382260243135, details={'actual_k': 0, 'was_impossible': False}),\n",
       " Prediction(uid='A22QJ9ZAISWS5B', iid='B0002QLDLC', r_ui=5.0, est=4.050870065449826, details={'was_impossible': True, 'reason': 'User and/or item is unkown.'}),\n",
       " Prediction(uid='A3ODM7VK0WIHSD', iid='B000779RZA', r_ui=4.0, est=4.050870065449826, details={'was_impossible': True, 'reason': 'User and/or item is unkown.'}),\n",
       " Prediction(uid='A3QH6X470A12KU', iid='B0006ON0QQ', r_ui=1.0, est=4.050870065449826, details={'was_impossible': True, 'reason': 'User and/or item is unkown.'}),\n",
       " Prediction(uid='A16JKGARGVMORP', iid='B0002QPC28', r_ui=5.0, est=4.050870065449826, details={'was_impossible': True, 'reason': 'User and/or item is unkown.'}),\n",
       " Prediction(uid='A3GG7QSSI58HJV', iid='B00001P4ZR', r_ui=5.0, est=4.137184115523466, details={'actual_k': 0, 'was_impossible': False}),\n",
       " Prediction(uid='A3GPUSWDOW7UCG', iid='B0009PEU3Y', r_ui=5.0, est=4.206896551724138, details={'actual_k': 0, 'was_impossible': False}),\n",
       " Prediction(uid='A3JM8O5Z4SAKJM', iid='B0001YGIB0', r_ui=4.0, est=4.050870065449826, details={'was_impossible': True, 'reason': 'User and/or item is unkown.'}),\n",
       " Prediction(uid='ACD1X6YVKQAZZ', iid='B00024ENES', r_ui=5.0, est=4.050870065449826, details={'was_impossible': True, 'reason': 'User and/or item is unkown.'}),\n",
       " Prediction(uid='A5OBN1XKCRD6O', iid='B00000K135', r_ui=5.0, est=4.050870065449826, details={'was_impossible': True, 'reason': 'User and/or item is unkown.'}),\n",
       " Prediction(uid='AKD00NJOZAOF', iid='B00006RVPW', r_ui=5.0, est=4.050870065449826, details={'was_impossible': True, 'reason': 'User and/or item is unkown.'}),\n",
       " Prediction(uid='A3OQUNO5ZVJUOG', iid='1400599997', r_ui=1.0, est=4.050870065449826, details={'was_impossible': True, 'reason': 'User and/or item is unkown.'}),\n",
       " Prediction(uid='ASA1PD8F927D6', iid='B000HKGK8Y', r_ui=5.0, est=4.050870065449826, details={'was_impossible': True, 'reason': 'User and/or item is unkown.'}),\n",
       " Prediction(uid='A2013JDMPUV6D9', iid='B00005ARK3', r_ui=4.0, est=4.899296675191816, details={'actual_k': 1, 'was_impossible': False}),\n",
       " Prediction(uid='AXHZQEDAWYE9A', iid='B00001W0EQ', r_ui=5.0, est=4.050870065449826, details={'was_impossible': True, 'reason': 'User and/or item is unkown.'}),\n",
       " Prediction(uid='A3EB32Y6WON', iid='B000HCGAFK', r_ui=5.0, est=4.050870065449826, details={'was_impossible': True, 'reason': 'User and/or item is unkown.'}),\n",
       " Prediction(uid='A79WII0X5ZOU5', iid='B00007ISWA', r_ui=5.0, est=4.050870065449826, details={'was_impossible': True, 'reason': 'User and/or item is unkown.'}),\n",
       " Prediction(uid='A2N07ARRRC9KBC', iid='B0002Z45DQ', r_ui=5.0, est=4.050870065449826, details={'was_impossible': True, 'reason': 'User and/or item is unkown.'}),\n",
       " Prediction(uid='A2XM2ETDXZ799M', iid='B0000AOWVP', r_ui=4.0, est=3.727272727272727, details={'actual_k': 0, 'was_impossible': False}),\n",
       " Prediction(uid='A16LQRMYEHGWMX', iid='B00004WCGF', r_ui=4.0, est=4.858432121090349, details={'actual_k': 1, 'was_impossible': False}),\n",
       " Prediction(uid='AITP55D6S00SW', iid='B000FCFYT0', r_ui=5.0, est=4.050870065449826, details={'was_impossible': True, 'reason': 'User and/or item is unkown.'}),\n",
       " Prediction(uid='A36G8FDFAHN1MU', iid='B000BSOBG0', r_ui=5.0, est=4.050870065449826, details={'was_impossible': True, 'reason': 'User and/or item is unkown.'}),\n",
       " Prediction(uid='A8AN2DGNANNVE', iid='B000092YPR', r_ui=5.0, est=3.924092409240924, details={'actual_k': 0, 'was_impossible': False}),\n",
       " Prediction(uid='A3U280OT2EYRQF', iid='B000AMDOEM', r_ui=1.0, est=2.8392857142857144, details={'actual_k': 0, 'was_impossible': False}),\n",
       " Prediction(uid='A38AAGX6FQCT7O', iid='B0007VTUB2', r_ui=3.0, est=4.050870065449826, details={'was_impossible': True, 'reason': 'User and/or item is unkown.'}),\n",
       " Prediction(uid='A171C4ZZ5T80AD', iid='B0001VGFKW', r_ui=5.0, est=4.050870065449826, details={'was_impossible': True, 'reason': 'User and/or item is unkown.'}),\n",
       " Prediction(uid='A1ZIV6R3RLI5JF', iid='B000E8BGCO', r_ui=1.0, est=4.050870065449826, details={'was_impossible': True, 'reason': 'User and/or item is unkown.'}),\n",
       " Prediction(uid='A1XSIKB58L3WMH', iid='B00006FWVG', r_ui=5.0, est=4.050870065449826, details={'was_impossible': True, 'reason': 'User and/or item is unkown.'}),\n",
       " Prediction(uid='A2EEXOJY9PNHZQ', iid='B0007RV3IE', r_ui=4.0, est=4.050870065449826, details={'was_impossible': True, 'reason': 'User and/or item is unkown.'}),\n",
       " Prediction(uid='A22KKKHIKZ6BR7', iid='B0000DB4D1', r_ui=5.0, est=3.2088888888888887, details={'actual_k': 0, 'was_impossible': False}),\n",
       " Prediction(uid='AJSFC7XAT2XJ9', iid='B000CQXI6A', r_ui=5.0, est=4.050870065449826, details={'was_impossible': True, 'reason': 'User and/or item is unkown.'}),\n",
       " Prediction(uid='A3GEZXYMHT6YPJ', iid='B000CRT07U', r_ui=5.0, est=3.572886297376093, details={'actual_k': 0, 'was_impossible': False}),\n",
       " Prediction(uid='A30IVDY024K9OE', iid='B0000A1G05', r_ui=2.0, est=4.050870065449826, details={'was_impossible': True, 'reason': 'User and/or item is unkown.'}),\n",
       " Prediction(uid='A1GM59ZRR35UZR', iid='B0002J2TLC', r_ui=1.0, est=4.050870065449826, details={'was_impossible': True, 'reason': 'User and/or item is unkown.'}),\n",
       " Prediction(uid='A1YVB679PALJR5', iid='B000A2AGYS', r_ui=5.0, est=4.050870065449826, details={'was_impossible': True, 'reason': 'User and/or item is unkown.'}),\n",
       " Prediction(uid='A3II1BHNKL2HAL', iid='B000FL9E6K', r_ui=4.0, est=4.0588235294117645, details={'actual_k': 0, 'was_impossible': False}),\n",
       " Prediction(uid='A2ON1JPOBCRXX7', iid='B00006I5TD', r_ui=5.0, est=4.050870065449826, details={'was_impossible': True, 'reason': 'User and/or item is unkown.'}),\n",
       " Prediction(uid='A3PFTFUFK1986L', iid='B00023NDLS', r_ui=4.0, est=4.050870065449826, details={'was_impossible': True, 'reason': 'User and/or item is unkown.'}),\n",
       " Prediction(uid='A15FZM3JAW5FYN', iid='B0002MKBI2', r_ui=5.0, est=3.891891891891892, details={'actual_k': 0, 'was_impossible': False}),\n",
       " Prediction(uid='A5AV8OBBPQL0K', iid='B00029U1DK', r_ui=5.0, est=4.050870065449826, details={'was_impossible': True, 'reason': 'User and/or item is unkown.'}),\n",
       " Prediction(uid='A3HWOGB130W7MN', iid='B000HAQ8EK', r_ui=5.0, est=4.050870065449826, details={'was_impossible': True, 'reason': 'User and/or item is unkown.'}),\n",
       " Prediction(uid='A8WPV7FANH736', iid='B000066R6M', r_ui=5.0, est=4.017751479289941, details={'actual_k': 0, 'was_impossible': False}),\n",
       " Prediction(uid='A1II4RYVMEEWSD', iid='B0000C8VEK', r_ui=5.0, est=4.5390625, details={'actual_k': 0, 'was_impossible': False}),\n",
       " Prediction(uid='A2TFWX92PA8YK2', iid='B000C1Z0HA', r_ui=1.0, est=4.050870065449826, details={'was_impossible': True, 'reason': 'User and/or item is unkown.'}),\n",
       " Prediction(uid='A1ABK4E4XRI03F', iid='B00007EDM8', r_ui=4.0, est=4.050870065449826, details={'was_impossible': True, 'reason': 'User and/or item is unkown.'}),\n",
       " Prediction(uid='A1JETKKGWTX8M0', iid='B000BRO3PA', r_ui=5.0, est=4.050870065449826, details={'was_impossible': True, 'reason': 'User and/or item is unkown.'}),\n",
       " Prediction(uid='A2PCMBPW98HZWE', iid='B000IBNXX2', r_ui=5.0, est=4.050870065449826, details={'was_impossible': True, 'reason': 'User and/or item is unkown.'}),\n",
       " Prediction(uid='ACAYTXHD2ACU8', iid='B0002Y5WZM', r_ui=5.0, est=4.050870065449826, details={'was_impossible': True, 'reason': 'User and/or item is unkown.'}),\n",
       " Prediction(uid='A3RFS2PZ2FK97N', iid='B000CMS0XU', r_ui=5.0, est=4.050870065449826, details={'was_impossible': True, 'reason': 'User and/or item is unkown.'}),\n",
       " Prediction(uid='A2UWXLLEE0UOI8', iid='B000BV8604', r_ui=1.0, est=3.8172268907563027, details={'actual_k': 0, 'was_impossible': False}),\n",
       " Prediction(uid='A304GUEPCPYM3Z', iid='B0006TI9WG', r_ui=5.0, est=4.485074626865671, details={'actual_k': 0, 'was_impossible': False}),\n",
       " Prediction(uid='AL1HQ0BSXERNN', iid='B0002YE6EU', r_ui=5.0, est=4.050870065449826, details={'was_impossible': True, 'reason': 'User and/or item is unkown.'}),\n",
       " Prediction(uid='A2RKALRO4WNRB3', iid='B000BMQPCE', r_ui=1.0, est=4.050870065449826, details={'was_impossible': True, 'reason': 'User and/or item is unkown.'}),\n",
       " Prediction(uid='A216SM71NPK5G0', iid='B000HPV3RW', r_ui=1.0, est=4.050870065449826, details={'was_impossible': True, 'reason': 'User and/or item is unkown.'}),\n",
       " Prediction(uid='ADMKAP4OJ1Y15', iid='B0000DZET4', r_ui=1.0, est=4.050870065449826, details={'was_impossible': True, 'reason': 'User and/or item is unkown.'}),\n",
       " Prediction(uid='A2SZKZ57UOUMIL', iid='B0001M2FZK', r_ui=1.0, est=4.050870065449826, details={'was_impossible': True, 'reason': 'User and/or item is unkown.'}),\n",
       " Prediction(uid='A1IXWKLF3S9946', iid='B0007N55NW', r_ui=5.0, est=4.071566731141199, details={'actual_k': 0, 'was_impossible': False}),\n",
       " Prediction(uid='A26A5XZ8EOSYV3', iid='B000094Q77', r_ui=5.0, est=4.050870065449826, details={'was_impossible': True, 'reason': 'User and/or item is unkown.'}),\n",
       " Prediction(uid='A2S0M62QUNXJOB', iid='B0002BEX8W', r_ui=1.0, est=4.050870065449826, details={'was_impossible': True, 'reason': 'User and/or item is unkown.'}),\n",
       " Prediction(uid='A15HQ5DL1TNWCW', iid='B00007E7JU', r_ui=5.0, est=4.050870065449826, details={'was_impossible': True, 'reason': 'User and/or item is unkown.'}),\n",
       " Prediction(uid='A22FBVIXAEDR87', iid='B000CQCGSG', r_ui=5.0, est=4.050870065449826, details={'was_impossible': True, 'reason': 'User and/or item is unkown.'}),\n",
       " Prediction(uid='A2ZS3ES8HNDGE6', iid='B0006I09LQ', r_ui=4.0, est=4.270642201834862, details={'actual_k': 0, 'was_impossible': False}),\n",
       " Prediction(uid='A3SWNFJ24EURPL', iid='B0000EW9M8', r_ui=1.0, est=4.050870065449826, details={'was_impossible': True, 'reason': 'User and/or item is unkown.'}),\n",
       " Prediction(uid='A2QMRBPPKMXPC', iid='B000F9YN22', r_ui=5.0, est=4.050870065449826, details={'was_impossible': True, 'reason': 'User and/or item is unkown.'}),\n",
       " Prediction(uid='A3L2ZWZHXPSHS0', iid='B000I68BD4', r_ui=3.0, est=4.050870065449826, details={'was_impossible': True, 'reason': 'User and/or item is unkown.'}),\n",
       " Prediction(uid='A33SG2UA24DJ9P', iid='B000066JQU', r_ui=2.0, est=3.802197802197802, details={'actual_k': 0, 'was_impossible': False}),\n",
       " Prediction(uid='A3408Y7EWFONBA', iid='B0000AHOBP', r_ui=1.0, est=4.050870065449826, details={'was_impossible': True, 'reason': 'User and/or item is unkown.'}),\n",
       " Prediction(uid='AOTXX21V9UN3H', iid='B000CSWCQA', r_ui=5.0, est=4.050870065449826, details={'was_impossible': True, 'reason': 'User and/or item is unkown.'}),\n",
       " Prediction(uid='A2X1RNTEAQNFEB', iid='B00094OX2S', r_ui=5.0, est=4.050870065449826, details={'was_impossible': True, 'reason': 'User and/or item is unkown.'}),\n",
       " Prediction(uid='A12S774LAQ35LP', iid='B000068MP5', r_ui=3.0, est=4.050870065449826, details={'was_impossible': True, 'reason': 'User and/or item is unkown.'}),\n",
       " Prediction(uid='A3IHENPZKK9APM', iid='B00065L5TE', r_ui=5.0, est=4.050870065449826, details={'was_impossible': True, 'reason': 'User and/or item is unkown.'}),\n",
       " Prediction(uid='A21HS8HI06XKZI', iid='B00005OTG6', r_ui=5.0, est=4.050870065449826, details={'was_impossible': True, 'reason': 'User and/or item is unkown.'}),\n",
       " Prediction(uid='A2LLGP2PC44WKF', iid='B0002L5R78', r_ui=5.0, est=4.050870065449826, details={'was_impossible': True, 'reason': 'User and/or item is unkown.'}),\n",
       " Prediction(uid='A14XD74HJ75GIM', iid='B000ENRQ3M', r_ui=1.0, est=4.050870065449826, details={'was_impossible': True, 'reason': 'User and/or item is unkown.'}),\n",
       " Prediction(uid='A35T7DD83U8IJN', iid='B00067OLOS', r_ui=5.0, est=4.050870065449826, details={'was_impossible': True, 'reason': 'User and/or item is unkown.'}),\n",
       " Prediction(uid='A293A5GXPQYS78', iid='B0007MXZB2', r_ui=5.0, est=4.050870065449826, details={'was_impossible': True, 'reason': 'User and/or item is unkown.'}),\n",
       " Prediction(uid='A2UMCGRN8YOU5Q', iid='B0007MWE28', r_ui=5.0, est=4.050870065449826, details={'was_impossible': True, 'reason': 'User and/or item is unkown.'}),\n",
       " Prediction(uid='A1SCA6YV5E8G1D', iid='B00004THCZ', r_ui=5.0, est=4.050870065449826, details={'was_impossible': True, 'reason': 'User and/or item is unkown.'}),\n",
       " Prediction(uid='A3U8GZJUVNZ5MB', iid='B00099I0EK', r_ui=5.0, est=4.050870065449826, details={'was_impossible': True, 'reason': 'User and/or item is unkown.'}),\n",
       " Prediction(uid='A3O7K60MI7M4V5', iid='B0001YH7JW', r_ui=1.0, est=4.050870065449826, details={'was_impossible': True, 'reason': 'User and/or item is unkown.'}),\n",
       " Prediction(uid='A31HGDJ8YBJJ45', iid='B0002U1TJY', r_ui=5.0, est=4.050870065449826, details={'was_impossible': True, 'reason': 'User and/or item is unkown.'}),\n",
       " Prediction(uid='A1MMT81GKL43LV', iid='B0006G10UW', r_ui=1.0, est=4.050870065449826, details={'was_impossible': True, 'reason': 'User and/or item is unkown.'}),\n",
       " Prediction(uid='A32TRID8R3NFA8', iid='B000I68BD4', r_ui=5.0, est=4.050870065449826, details={'was_impossible': True, 'reason': 'User and/or item is unkown.'}),\n",
       " Prediction(uid='A25VWTNVMNS8QL', iid='B00078GLJY', r_ui=5.0, est=4.050870065449826, details={'was_impossible': True, 'reason': 'User and/or item is unkown.'}),\n",
       " Prediction(uid='APY2ABS5YEYQZ', iid='B000001ON6', r_ui=5.0, est=4.050870065449826, details={'was_impossible': True, 'reason': 'User and/or item is unkown.'}),\n",
       " Prediction(uid='A3W0EGHR6M6OOM', iid='B0009W9WHQ', r_ui=5.0, est=4.050870065449826, details={'was_impossible': True, 'reason': 'User and/or item is unkown.'}),\n",
       " Prediction(uid='A1E6631XYM91F4', iid='B0006DPMU4', r_ui=5.0, est=4.050870065449826, details={'was_impossible': True, 'reason': 'User and/or item is unkown.'}),\n",
       " Prediction(uid='A2POP0D2Y1UBNT', iid='B0001FTVEK', r_ui=2.0, est=4.050870065449826, details={'was_impossible': True, 'reason': 'User and/or item is unkown.'}),\n",
       " Prediction(uid='A32PWX2T3ZSOIU', iid='B00005ML7Q', r_ui=5.0, est=4.050870065449826, details={'was_impossible': True, 'reason': 'User and/or item is unkown.'}),\n",
       " Prediction(uid='A10321311NUZK0CGY31P5', iid='B000BC7QMM', r_ui=5.0, est=4.050870065449826, details={'was_impossible': True, 'reason': 'User and/or item is unkown.'}),\n",
       " Prediction(uid='A34XDWW11IKA0W', iid='B0002FHENE', r_ui=5.0, est=4.050870065449826, details={'was_impossible': True, 'reason': 'User and/or item is unkown.'}),\n",
       " Prediction(uid='A2BUF0025FUEZS', iid='B000CRQI4I', r_ui=3.0, est=4.050870065449826, details={'was_impossible': True, 'reason': 'User and/or item is unkown.'}),\n",
       " Prediction(uid='A11PER758WM1LU', iid='B000BDH2Y8', r_ui=5.0, est=4.050870065449826, details={'was_impossible': True, 'reason': 'User and/or item is unkown.'}),\n",
       " Prediction(uid='A2F2N2BDW1C1SF', iid='B0006G36TA', r_ui=3.0, est=4.050870065449826, details={'was_impossible': True, 'reason': 'User and/or item is unkown.'}),\n",
       " Prediction(uid='A2V3NVPVKMP8C0', iid='B000GEAD8O', r_ui=5.0, est=4.050870065449826, details={'was_impossible': True, 'reason': 'User and/or item is unkown.'}),\n",
       " Prediction(uid='A2ABFBBBLY7BUJ', iid='B000BP8AY2', r_ui=5.0, est=3.678185745140389, details={'actual_k': 0, 'was_impossible': False}),\n",
       " Prediction(uid='A3J39RL06JSV57', iid='B0002UB2P0', r_ui=3.0, est=4.050870065449826, details={'was_impossible': True, 'reason': 'User and/or item is unkown.'}),\n",
       " Prediction(uid='AB9L3I6SINEMW', iid='B00076QA6K', r_ui=4.0, est=4.050870065449826, details={'was_impossible': True, 'reason': 'User and/or item is unkown.'}),\n",
       " Prediction(uid='A35B2I08IKMEDP', iid='B00013J86I', r_ui=4.0, est=4.050870065449826, details={'was_impossible': True, 'reason': 'User and/or item is unkown.'}),\n",
       " Prediction(uid='A1NLLMO953XEHW', iid='B000HPV3RW', r_ui=4.0, est=4.050870065449826, details={'was_impossible': True, 'reason': 'User and/or item is unkown.'}),\n",
       " Prediction(uid='A30G1W10GKG38F', iid='B000089GN3', r_ui=5.0, est=4.050870065449826, details={'was_impossible': True, 'reason': 'User and/or item is unkown.'}),\n",
       " Prediction(uid='A1815ONT2NYOBO', iid='B000EXT5AY', r_ui=5.0, est=4.050870065449826, details={'was_impossible': True, 'reason': 'User and/or item is unkown.'}),\n",
       " Prediction(uid='A2VTXAEVW91ZF1', iid='B0007RV3IE', r_ui=1.0, est=4.050870065449826, details={'was_impossible': True, 'reason': 'User and/or item is unkown.'}),\n",
       " Prediction(uid='A7VBWOT8MEMRA', iid='B0007WZLDC', r_ui=5.0, est=4.050870065449826, details={'was_impossible': True, 'reason': 'User and/or item is unkown.'}),\n",
       " Prediction(uid='A6ZCJKWWQD0BJ', iid='B000CQPWMS', r_ui=4.0, est=4.050870065449826, details={'was_impossible': True, 'reason': 'User and/or item is unkown.'}),\n",
       " Prediction(uid='A2LO4EAD6CSVRM', iid='B000136P8W', r_ui=4.0, est=3.926470588235294, details={'actual_k': 0, 'was_impossible': False}),\n",
       " Prediction(uid='A3EAC61FEGZ325', iid='B0002L5R78', r_ui=5.0, est=4.050870065449826, details={'was_impossible': True, 'reason': 'User and/or item is unkown.'}),\n",
       " Prediction(uid='A2JXQKIQM3YE82', iid='B00012EYNG', r_ui=4.0, est=4.532663316582915, details={'actual_k': 0, 'was_impossible': False}),\n",
       " Prediction(uid='A1W0UP24EPBYHS', iid='B0002CPBWI', r_ui=5.0, est=4.050870065449826, details={'was_impossible': True, 'reason': 'User and/or item is unkown.'}),\n",
       " Prediction(uid='A167J24D1XC6MK', iid='B0002L5R78', r_ui=5.0, est=4.050870065449826, details={'was_impossible': True, 'reason': 'User and/or item is unkown.'}),\n",
       " Prediction(uid='A1JQE86L0SVYTM', iid='B000HZ9CCA', r_ui=5.0, est=4.050870065449826, details={'was_impossible': True, 'reason': 'User and/or item is unkown.'}),\n",
       " Prediction(uid='A3CJPB1NKNCQYY', iid='B00005T3EM', r_ui=1.0, est=4.050870065449826, details={'was_impossible': True, 'reason': 'User and/or item is unkown.'}),\n",
       " Prediction(uid='A2W0OFFTX5YE5R', iid='B000CH3IIW', r_ui=4.0, est=4.050870065449826, details={'was_impossible': True, 'reason': 'User and/or item is unkown.'}),\n",
       " Prediction(uid='A30N80BY84DMYV', iid='B0001OTBUK', r_ui=5.0, est=3.5753424657534247, details={'actual_k': 0, 'was_impossible': False}),\n",
       " Prediction(uid='AGF634MVMGYBP', iid='B000B9RI14', r_ui=5.0, est=4.050870065449826, details={'was_impossible': True, 'reason': 'User and/or item is unkown.'}),\n",
       " Prediction(uid='A25Q7DKT8S0CE9', iid='B000E6G9RI', r_ui=1.0, est=4.050870065449826, details={'was_impossible': True, 'reason': 'User and/or item is unkown.'}),\n",
       " Prediction(uid='A2YK2MBP8KH1FD', iid='B0006HTZ76', r_ui=5.0, est=3.4727272727272727, details={'actual_k': 0, 'was_impossible': False}),\n",
       " Prediction(uid='AS5QAKI3FP6FN', iid='B000FQ2JLW', r_ui=5.0, est=4.050870065449826, details={'was_impossible': True, 'reason': 'User and/or item is unkown.'}),\n",
       " Prediction(uid='A23IPMM0ASV1CR', iid='B0007U0GZM', r_ui=5.0, est=4.050870065449826, details={'was_impossible': True, 'reason': 'User and/or item is unkown.'}),\n",
       " Prediction(uid='A3ERC3B5D0X0QW', iid='B000BTL0OA', r_ui=5.0, est=4.050870065449826, details={'was_impossible': True, 'reason': 'User and/or item is unkown.'}),\n",
       " Prediction(uid='A300COXFUDOQ92', iid='B000I6P1I2', r_ui=5.0, est=2.765765765765766, details={'actual_k': 0, 'was_impossible': False}),\n",
       " Prediction(uid='A2YHLJISGJGBON', iid='B000BBYH8O', r_ui=2.0, est=4.050870065449826, details={'was_impossible': True, 'reason': 'User and/or item is unkown.'}),\n",
       " Prediction(uid='A2WIR1MTY1DMFX', iid='B0002R282O', r_ui=5.0, est=4.050870065449826, details={'was_impossible': True, 'reason': 'User and/or item is unkown.'}),\n",
       " Prediction(uid='A15L0EDQMU28DA', iid='B00003CWDK', r_ui=5.0, est=4.050870065449826, details={'was_impossible': True, 'reason': 'User and/or item is unkown.'}),\n",
       " Prediction(uid='A3L7HVGU8YIHYH', iid='B0002ZW5W4', r_ui=5.0, est=3.8974358974358974, details={'actual_k': 0, 'was_impossible': False}),\n",
       " Prediction(uid='A33M4HTWZLX5N2', iid='B000AMLXHW', r_ui=5.0, est=4.050870065449826, details={'was_impossible': True, 'reason': 'User and/or item is unkown.'}),\n",
       " Prediction(uid='AHZ6XWTBYG8A3', iid='B00020M1U0', r_ui=5.0, est=4.050870065449826, details={'was_impossible': True, 'reason': 'User and/or item is unkown.'}),\n",
       " Prediction(uid='A1FPILMZRP2FOH', iid='B0002KVQBA', r_ui=4.0, est=4.050870065449826, details={'was_impossible': True, 'reason': 'User and/or item is unkown.'}),\n",
       " Prediction(uid='AQ139PPBV88SG', iid='B000ID7QNI', r_ui=5.0, est=4.050870065449826, details={'was_impossible': True, 'reason': 'User and/or item is unkown.'}),\n",
       " Prediction(uid='A2AP1L248MHP4A', iid='9985511476', r_ui=3.0, est=4.050870065449826, details={'was_impossible': True, 'reason': 'User and/or item is unkown.'}),\n",
       " Prediction(uid='A1WETSMUD931LP', iid='B0001DQ5YG', r_ui=5.0, est=4.050870065449826, details={'was_impossible': True, 'reason': 'User and/or item is unkown.'}),\n",
       " Prediction(uid='AT3EIEH4LHQ3L', iid='B00005Y1Z7', r_ui=4.0, est=4.050870065449826, details={'was_impossible': True, 'reason': 'User and/or item is unkown.'}),\n",
       " Prediction(uid='A2IAYCGO7BYVJD', iid='B00009YUPS', r_ui=4.0, est=4.050870065449826, details={'was_impossible': True, 'reason': 'User and/or item is unkown.'}),\n",
       " Prediction(uid='A2VBD1Z6F7SA2H', iid='B000EBRLHK', r_ui=1.0, est=4.050870065449826, details={'was_impossible': True, 'reason': 'User and/or item is unkown.'}),\n",
       " Prediction(uid='A2VKR0DAF35RGT', iid='B00080DSEM', r_ui=5.0, est=3.857142857142857, details={'actual_k': 0, 'was_impossible': False}),\n",
       " Prediction(uid='AAK82N7CS1DOB', iid='B00008I8OP', r_ui=2.0, est=4.050870065449826, details={'was_impossible': True, 'reason': 'User and/or item is unkown.'}),\n",
       " Prediction(uid='AZNLUQRPQVAO4', iid='B000BVIBGI', r_ui=5.0, est=4.050870065449826, details={'was_impossible': True, 'reason': 'User and/or item is unkown.'}),\n",
       " Prediction(uid='A17FT1IPORQL6V', iid='B0009H5VVM', r_ui=5.0, est=4.050870065449826, details={'was_impossible': True, 'reason': 'User and/or item is unkown.'}),\n",
       " Prediction(uid='A1KDCAP54QTZKA', iid='B000GG5LUW', r_ui=3.0, est=3.672566371681416, details={'actual_k': 0, 'was_impossible': False}),\n",
       " Prediction(uid='A39A2PMBARJMYD', iid='B000I68BD4', r_ui=3.0, est=4.050870065449826, details={'was_impossible': True, 'reason': 'User and/or item is unkown.'}),\n",
       " Prediction(uid='AHYL5YYPASAEG', iid='B00011KM38', r_ui=5.0, est=4.050870065449826, details={'was_impossible': True, 'reason': 'User and/or item is unkown.'}),\n",
       " Prediction(uid='A3K0LPK728RBYW', iid='B0009H5VVM', r_ui=5.0, est=4.050870065449826, details={'was_impossible': True, 'reason': 'User and/or item is unkown.'}),\n",
       " Prediction(uid='A31P9JQCYMZUKY', iid='B0002F4EO6', r_ui=5.0, est=3.3175675675675675, details={'actual_k': 0, 'was_impossible': False}),\n",
       " Prediction(uid='A5B1WOIT8HI0F', iid='B000C1Z0HA', r_ui=1.0, est=4.050870065449826, details={'was_impossible': True, 'reason': 'User and/or item is unkown.'}),\n",
       " Prediction(uid='A1620QUROP68S4', iid='B000HZDF8W', r_ui=2.0, est=4.050870065449826, details={'was_impossible': True, 'reason': 'User and/or item is unkown.'}),\n",
       " Prediction(uid='A3JH58K54LAWFI', iid='B000CH3IIW', r_ui=5.0, est=4.050870065449826, details={'was_impossible': True, 'reason': 'User and/or item is unkown.'}),\n",
       " Prediction(uid='A8O10J76I6SXF', iid='B0007N33IQ', r_ui=4.0, est=4.050870065449826, details={'was_impossible': True, 'reason': 'User and/or item is unkown.'}),\n",
       " Prediction(uid='A1PYLNW4A72NGD', iid='B000BTL0OA', r_ui=4.0, est=4.199280575539568, details={'actual_k': 0, 'was_impossible': False}),\n",
       " Prediction(uid='A18LDQT4C0M6UF', iid='B0002JFN10', r_ui=5.0, est=4.360655737704918, details={'actual_k': 0, 'was_impossible': False}),\n",
       " Prediction(uid='A3S459EHZONQUI', iid='B0007RPW36', r_ui=5.0, est=3.914285714285714, details={'actual_k': 0, 'was_impossible': False}),\n",
       " Prediction(uid='A34K05HMTN93NF', iid='B00004Z5H3', r_ui=1.0, est=4.050870065449826, details={'was_impossible': True, 'reason': 'User and/or item is unkown.'}),\n",
       " Prediction(uid='A1TRUB28VZAUSN', iid='B00005A1K1', r_ui=4.0, est=4.050870065449826, details={'was_impossible': True, 'reason': 'User and/or item is unkown.'}),\n",
       " Prediction(uid='AA10LMSVXM0XB', iid='B00005N5WW', r_ui=5.0, est=4.162162162162162, details={'actual_k': 0, 'was_impossible': False}),\n",
       " Prediction(uid='A3D6ITN1HM1FQG', iid='B00005NVPW', r_ui=5.0, est=4.129032258064516, details={'actual_k': 0, 'was_impossible': False}),\n",
       " Prediction(uid='A1ETJS1OB066GT', iid='B0000CBJ8J', r_ui=5.0, est=4.050870065449826, details={'was_impossible': True, 'reason': 'User and/or item is unkown.'}),\n",
       " Prediction(uid='A2XUR31NIZFYIK', iid='B000EFIJTA', r_ui=5.0, est=4.050870065449826, details={'was_impossible': True, 'reason': 'User and/or item is unkown.'}),\n",
       " Prediction(uid='AIVQO2H0VYYNZ', iid='B000F78582', r_ui=3.0, est=3.8181818181818183, details={'actual_k': 0, 'was_impossible': False}),\n",
       " Prediction(uid='A1ET06QNOL83WN', iid='B00065ANYW', r_ui=2.0, est=4.050870065449826, details={'was_impossible': True, 'reason': 'User and/or item is unkown.'}),\n",
       " Prediction(uid='A2XJN6NOZ6E69H', iid='B00008KWWF', r_ui=5.0, est=4.050870065449826, details={'was_impossible': True, 'reason': 'User and/or item is unkown.'}),\n",
       " Prediction(uid='A35ARYITMN46MO', iid='B000EHUE7I', r_ui=5.0, est=4.050870065449826, details={'was_impossible': True, 'reason': 'User and/or item is unkown.'}),\n",
       " Prediction(uid='A33FE8NR17Y1AE', iid='B000F7VKL6', r_ui=4.0, est=4.582089552238806, details={'actual_k': 0, 'was_impossible': False}),\n",
       " Prediction(uid='A3P321J05N51PZ', iid='B000E204LY', r_ui=4.0, est=4.050870065449826, details={'was_impossible': True, 'reason': 'User and/or item is unkown.'}),\n",
       " Prediction(uid='A2UW4JFE8HM3SK', iid='B0009K9FZW', r_ui=1.0, est=4.216783216783217, details={'actual_k': 0, 'was_impossible': False}),\n",
       " Prediction(uid='A3KO6G5YUJN122', iid='B000BKJZ9Q', r_ui=4.0, est=4.050870065449826, details={'was_impossible': True, 'reason': 'User and/or item is unkown.'}),\n",
       " Prediction(uid='A2KTNT8TOFFRQO', iid='B00009UT9B', r_ui=5.0, est=4.050870065449826, details={'was_impossible': True, 'reason': 'User and/or item is unkown.'}),\n",
       " Prediction(uid='A2ZVEL73M3OWGC', iid='B000HPV3RW', r_ui=5.0, est=4.050870065449826, details={'was_impossible': True, 'reason': 'User and/or item is unkown.'}),\n",
       " Prediction(uid='A04471092RAHWUDVWUGMA', iid='B0002X7V1Q', r_ui=4.0, est=4.050870065449826, details={'was_impossible': True, 'reason': 'User and/or item is unkown.'}),\n",
       " Prediction(uid='AAJ1IYOUIHWF', iid='B00006HXF4', r_ui=3.0, est=3.2758620689655173, details={'actual_k': 0, 'was_impossible': False}),\n",
       " Prediction(uid='A347CJZHBQJQCV', iid='B00080YK9Y', r_ui=5.0, est=4.050870065449826, details={'was_impossible': True, 'reason': 'User and/or item is unkown.'}),\n",
       " Prediction(uid='A22UGHTB6ELB7W', iid='B000A6NUU6', r_ui=1.0, est=4.050870065449826, details={'was_impossible': True, 'reason': 'User and/or item is unkown.'}),\n",
       " Prediction(uid='A2TN6623ZTDZ9I', iid='B00006TWL6', r_ui=1.0, est=4.050870065449826, details={'was_impossible': True, 'reason': 'User and/or item is unkown.'}),\n",
       " Prediction(uid='A2HZGOUCG6LWE', iid='B00006HYPV', r_ui=2.0, est=4.050870065449826, details={'was_impossible': True, 'reason': 'User and/or item is unkown.'}),\n",
       " Prediction(uid='A3B62CEEBAKM7M', iid='B0002TQQUW', r_ui=5.0, est=4.050870065449826, details={'was_impossible': True, 'reason': 'User and/or item is unkown.'}),\n",
       " Prediction(uid='A3Q8BN1RDHLGSS', iid='B0001FXLW8', r_ui=2.0, est=4.050870065449826, details={'was_impossible': True, 'reason': 'User and/or item is unkown.'}),\n",
       " Prediction(uid='A769QZ55U9VHW', iid='B000A2BLEC', r_ui=5.0, est=4.050870065449826, details={'was_impossible': True, 'reason': 'User and/or item is unkown.'}),\n",
       " Prediction(uid='A3TSQVDK4TZ1VD', iid='B000BQ7GW8', r_ui=2.0, est=2.1187957048202213, details={'actual_k': 1, 'was_impossible': False}),\n",
       " Prediction(uid='AAGF1DN84WUK9', iid='B00008AWKZ', r_ui=4.0, est=4.050870065449826, details={'was_impossible': True, 'reason': 'User and/or item is unkown.'}),\n",
       " Prediction(uid='AE31HKSBI2H0C', iid='B000F8FNSG', r_ui=2.0, est=4.050870065449826, details={'was_impossible': True, 'reason': 'User and/or item is unkown.'}),\n",
       " Prediction(uid='A1IN27NDI9M2II', iid='B00029U1DK', r_ui=5.0, est=4.050870065449826, details={'was_impossible': True, 'reason': 'User and/or item is unkown.'}),\n",
       " Prediction(uid='ANMYSWZCINVDZ', iid='B00001WRSJ', r_ui=5.0, est=4.050870065449826, details={'was_impossible': True, 'reason': 'User and/or item is unkown.'}),\n",
       " Prediction(uid='AW9QMRMP0LDR7', iid='B0007N55NW', r_ui=4.0, est=4.050870065449826, details={'was_impossible': True, 'reason': 'User and/or item is unkown.'}),\n",
       " Prediction(uid='A1KD0VWHR8GCPH', iid='B00009R6Q8', r_ui=5.0, est=4.050870065449826, details={'was_impossible': True, 'reason': 'User and/or item is unkown.'}),\n",
       " Prediction(uid='A38848D5VJF3FG', iid='B00009R86L', r_ui=5.0, est=4.445783132530121, details={'actual_k': 0, 'was_impossible': False}),\n",
       " Prediction(uid='A1IPA29LDPV01V', iid='B0007UQNV8', r_ui=5.0, est=4.402298850574713, details={'actual_k': 0, 'was_impossible': False}),\n",
       " Prediction(uid='A3HL3R4PH9VMO1', iid='B000EXTXSI', r_ui=4.0, est=4.050870065449826, details={'was_impossible': True, 'reason': 'User and/or item is unkown.'}),\n",
       " Prediction(uid='A11XWFMMBWS5FP', iid='B000EMWBT2', r_ui=5.0, est=4.050870065449826, details={'was_impossible': True, 'reason': 'User and/or item is unkown.'}),\n",
       " Prediction(uid='A1HBHYF31QHURL', iid='B00015GYU4', r_ui=4.0, est=4.63, details={'actual_k': 0, 'was_impossible': False}),\n",
       " Prediction(uid='A3KGOECAKEUGDH', iid='B000ETY3LO', r_ui=5.0, est=4.050870065449826, details={'was_impossible': True, 'reason': 'User and/or item is unkown.'}),\n",
       " Prediction(uid='A2Y3A3UG882225', iid='B000FVDD30', r_ui=4.0, est=4.050870065449826, details={'was_impossible': True, 'reason': 'User and/or item is unkown.'}),\n",
       " Prediction(uid='A1463ASM7QMU2I', iid='0972683275', r_ui=3.0, est=4.4872824631860775, details={'actual_k': 0, 'was_impossible': False}),\n",
       " Prediction(uid='A3PGTT3VAP5I26', iid='B0002J28NQ', r_ui=1.0, est=4.050870065449826, details={'was_impossible': True, 'reason': 'User and/or item is unkown.'}),\n",
       " Prediction(uid='A2O5QPR9OHW8I2', iid='B00006HMPK', r_ui=5.0, est=4.050870065449826, details={'was_impossible': True, 'reason': 'User and/or item is unkown.'}),\n",
       " Prediction(uid='A9LLNBBOASWCS', iid='B00025742A', r_ui=4.0, est=4.050870065449826, details={'was_impossible': True, 'reason': 'User and/or item is unkown.'}),\n",
       " Prediction(uid='ABXWU7KWTVHXG', iid='B000ENUCR4', r_ui=2.0, est=4.050870065449826, details={'was_impossible': True, 'reason': 'User and/or item is unkown.'}),\n",
       " Prediction(uid='A3F35V4RZA1TAR', iid='B0002L5R78', r_ui=5.0, est=4.050870065449826, details={'was_impossible': True, 'reason': 'User and/or item is unkown.'}),\n",
       " Prediction(uid='AB9UAYDW3Z74B', iid='B000AA2RCY', r_ui=5.0, est=4.050870065449826, details={'was_impossible': True, 'reason': 'User and/or item is unkown.'}),\n",
       " Prediction(uid='A110OPOO8AT4P8', iid='B0009B0H08', r_ui=1.0, est=4.050870065449826, details={'was_impossible': True, 'reason': 'User and/or item is unkown.'}),\n",
       " Prediction(uid='A2QVO2RL9BCUPX', iid='B0006B486K', r_ui=5.0, est=4.050870065449826, details={'was_impossible': True, 'reason': 'User and/or item is unkown.'}),\n",
       " Prediction(uid='A1UORMAPCNRC1F', iid='B00005ATMB', r_ui=4.0, est=4.3087621696801115, details={'actual_k': 0, 'was_impossible': False}),\n",
       " Prediction(uid='ANKAYF0XG72CP', iid='B000B9RI14', r_ui=3.0, est=4.050870065449826, details={'was_impossible': True, 'reason': 'User and/or item is unkown.'}),\n",
       " Prediction(uid='A13A7X2ADRHIEI', iid='B00068YUPM', r_ui=5.0, est=2.981366459627329, details={'actual_k': 0, 'was_impossible': False}),\n",
       " Prediction(uid='A17H66C9OOF7P7', iid='B00000K2YR', r_ui=4.0, est=4.050870065449826, details={'was_impossible': True, 'reason': 'User and/or item is unkown.'}),\n",
       " Prediction(uid='A36ONY3ADUJGCL', iid='B000G6U8VY', r_ui=5.0, est=4.050870065449826, details={'was_impossible': True, 'reason': 'User and/or item is unkown.'}),\n",
       " Prediction(uid='A1DY4CXSNXNUL9', iid='B000093US3', r_ui=5.0, est=4.050870065449826, details={'was_impossible': True, 'reason': 'User and/or item is unkown.'}),\n",
       " Prediction(uid='A3MOARFDQPGB3Y', iid='B000FBK3QK', r_ui=4.0, est=4.050870065449826, details={'was_impossible': True, 'reason': 'User and/or item is unkown.'}),\n",
       " Prediction(uid='A14MQXNJP0OTKI', iid='B0000CDJPQ', r_ui=5.0, est=4.050870065449826, details={'was_impossible': True, 'reason': 'User and/or item is unkown.'}),\n",
       " Prediction(uid='A2AX0WPCZ6NI68', iid='B000H72MMU', r_ui=4.0, est=4.050870065449826, details={'was_impossible': True, 'reason': 'User and/or item is unkown.'}),\n",
       " Prediction(uid='A21XX594II95Y5', iid='B000I2C80K', r_ui=1.0, est=4.050870065449826, details={'was_impossible': True, 'reason': 'User and/or item is unkown.'}),\n",
       " Prediction(uid='A334HNX2YAMZMC', iid='B0002VM8RU', r_ui=2.0, est=4.050870065449826, details={'was_impossible': True, 'reason': 'User and/or item is unkown.'}),\n",
       " Prediction(uid='A1DF7EZUBS2HK', iid='B000065BP9', r_ui=5.0, est=4.215573770491804, details={'actual_k': 0, 'was_impossible': False}),\n",
       " Prediction(uid='AXL9CIYUXULWT', iid='B000AL7A0C', r_ui=2.0, est=4.050870065449826, details={'was_impossible': True, 'reason': 'User and/or item is unkown.'}),\n",
       " Prediction(uid='A6YR5Y4Q4LTA9', iid='B00006HSML', r_ui=5.0, est=4.050870065449826, details={'was_impossible': True, 'reason': 'User and/or item is unkown.'}),\n",
       " Prediction(uid='A35QFWER0BMJ1M', iid='B000FNKV2Y', r_ui=5.0, est=4.201612903225806, details={'actual_k': 0, 'was_impossible': False}),\n",
       " Prediction(uid='A39JMBQAFHBV72', iid='B00007EDM8', r_ui=5.0, est=4.050870065449826, details={'was_impossible': True, 'reason': 'User and/or item is unkown.'}),\n",
       " Prediction(uid='A3FKQLWKQ3SKDW', iid='B000087BXU', r_ui=5.0, est=3.519230769230769, details={'actual_k': 0, 'was_impossible': False}),\n",
       " Prediction(uid='A3A8BQ0NVIUCRM', iid='B000AY2L3U', r_ui=4.0, est=3.952, details={'actual_k': 0, 'was_impossible': False}),\n",
       " Prediction(uid='A21TF4RHTJK4WH', iid='B0002E52S4', r_ui=5.0, est=4.82, details={'actual_k': 0, 'was_impossible': False}),\n",
       " Prediction(uid='A1IF6TFDXCDZM2', iid='B0009K9FZW', r_ui=5.0, est=4.050870065449826, details={'was_impossible': True, 'reason': 'User and/or item is unkown.'}),\n",
       " Prediction(uid='A2MR696ZU17F12', iid='B000F7JCRA', r_ui=1.0, est=1, details={'actual_k': 1, 'was_impossible': False}),\n",
       " Prediction(uid='A31RLBTOGSXPWC', iid='B000GIT002', r_ui=5.0, est=4.050870065449826, details={'was_impossible': True, 'reason': 'User and/or item is unkown.'}),\n",
       " Prediction(uid='ATLCEY1YIP1DG', iid='B000EIXX4S', r_ui=3.0, est=4.467576791808874, details={'actual_k': 0, 'was_impossible': False}),\n",
       " Prediction(uid='A2Q3S3BJG7MCHX', iid='B00093IIRA', r_ui=1.0, est=4.677381818181818, details={'actual_k': 1, 'was_impossible': False}),\n",
       " Prediction(uid='A2VSGH5NYJZF3O', iid='B000BWRK2S', r_ui=4.0, est=4.050870065449826, details={'was_impossible': True, 'reason': 'User and/or item is unkown.'}),\n",
       " Prediction(uid='A3JVUZ86D5OIH6', iid='B0009YJXMS', r_ui=4.0, est=4.367521367521367, details={'actual_k': 0, 'was_impossible': False}),\n",
       " Prediction(uid='A3R0FL5RQ12WVS', iid='B00007IFED', r_ui=5.0, est=4.050870065449826, details={'was_impossible': True, 'reason': 'User and/or item is unkown.'}),\n",
       " Prediction(uid='A2G563AC1HME2R', iid='B00008VF91', r_ui=5.0, est=4.326923076923077, details={'actual_k': 0, 'was_impossible': False}),\n",
       " Prediction(uid='A3RT9VQL58FMSO', iid='B00007056H', r_ui=4.0, est=4.183246073298429, details={'actual_k': 0, 'was_impossible': False}),\n",
       " Prediction(uid='A3G0NACRL3EP44', iid='B00005Y1Z7', r_ui=5.0, est=4.050870065449826, details={'was_impossible': True, 'reason': 'User and/or item is unkown.'}),\n",
       " Prediction(uid='A2QGUZ98X9Q1UF', iid='B0002L5R78', r_ui=5.0, est=4.050870065449826, details={'was_impossible': True, 'reason': 'User and/or item is unkown.'}),\n",
       " Prediction(uid='AYO1W1Y8BPRZI', iid='B000EVSLRO', r_ui=4.0, est=4.050870065449826, details={'was_impossible': True, 'reason': 'User and/or item is unkown.'}),\n",
       " Prediction(uid='A26HGK634O3W73', iid='B0002L5R78', r_ui=5.0, est=4.964530301447459, details={'actual_k': 1, 'was_impossible': False}),\n",
       " Prediction(uid='A31DIKN8ZXK75Q', iid='B00007IFJY', r_ui=1.0, est=4.050870065449826, details={'was_impossible': True, 'reason': 'User and/or item is unkown.'}),\n",
       " Prediction(uid='A14SDWVTTW6T34', iid='B00067TTY0', r_ui=5.0, est=4.050870065449826, details={'was_impossible': True, 'reason': 'User and/or item is unkown.'}),\n",
       " Prediction(uid='A2QJNZVNISPMTJ', iid='B0002CPBWI', r_ui=5.0, est=4.050870065449826, details={'was_impossible': True, 'reason': 'User and/or item is unkown.'}),\n",
       " Prediction(uid='AVZS0G9R6M7YH', iid='B000BI2162', r_ui=5.0, est=4.5, details={'actual_k': 0, 'was_impossible': False}),\n",
       " Prediction(uid='A3BNQK7V63MJSS', iid='B0009FUFPG', r_ui=4.0, est=3.5789473684210527, details={'actual_k': 0, 'was_impossible': False}),\n",
       " Prediction(uid='A22JRVAY052312', iid='B000067SOH', r_ui=4.0, est=4.324200913242009, details={'actual_k': 0, 'was_impossible': False}),\n",
       " Prediction(uid='A32P8EZZMEAF53', iid='B00009R94Q', r_ui=4.0, est=4.050870065449826, details={'was_impossible': True, 'reason': 'User and/or item is unkown.'}),\n",
       " Prediction(uid='AZIW2SJ8JSATY', iid='B000BM2Q7W', r_ui=5.0, est=4.050870065449826, details={'was_impossible': True, 'reason': 'User and/or item is unkown.'}),\n",
       " Prediction(uid='A3TMAAFIHQ5J7O', iid='B0009ZBRS0', r_ui=5.0, est=4.050870065449826, details={'was_impossible': True, 'reason': 'User and/or item is unkown.'}),\n",
       " Prediction(uid='A2HTZ0LM1AEKU', iid='B000204SWE', r_ui=1.0, est=4.050870065449826, details={'was_impossible': True, 'reason': 'User and/or item is unkown.'}),\n",
       " Prediction(uid='A3EKNB6HM09LN8', iid='B00004YZQ8', r_ui=5.0, est=4.944502526561577, details={'actual_k': 2, 'was_impossible': False}),\n",
       " Prediction(uid='A3IS66LWFOB2AW', iid='B00005T3XH', r_ui=4.0, est=4.050870065449826, details={'was_impossible': True, 'reason': 'User and/or item is unkown.'}),\n",
       " Prediction(uid='A1HF58JNFWHYMR', iid='B0002D03ZW', r_ui=5.0, est=4.050870065449826, details={'was_impossible': True, 'reason': 'User and/or item is unkown.'}),\n",
       " Prediction(uid='AM1WUDYVK9ZH8', iid='B000BM8RFM', r_ui=5.0, est=4.050870065449826, details={'was_impossible': True, 'reason': 'User and/or item is unkown.'}),\n",
       " Prediction(uid='AI8Q6FH9W4OLF', iid='B0002BF09S', r_ui=5.0, est=4.050870065449826, details={'was_impossible': True, 'reason': 'User and/or item is unkown.'}),\n",
       " Prediction(uid='A1GXNROLPBMKMC', iid='B0006FS1Z0', r_ui=1.0, est=4.050870065449826, details={'was_impossible': True, 'reason': 'User and/or item is unkown.'}),\n",
       " Prediction(uid='A15J3G68ESUQCE', iid='B0001N3ZRQ', r_ui=5.0, est=4.050870065449826, details={'was_impossible': True, 'reason': 'User and/or item is unkown.'}),\n",
       " Prediction(uid='A14Q7KCU5CQQYW', iid='B0007VE044', r_ui=5.0, est=3.891891891891892, details={'actual_k': 0, 'was_impossible': False}),\n",
       " Prediction(uid='A2PZHCP96XKCRN', iid='B000CH3IIW', r_ui=3.0, est=4.050870065449826, details={'was_impossible': True, 'reason': 'User and/or item is unkown.'}),\n",
       " Prediction(uid='A33N51SVVTBY0M', iid='B000B9RI14', r_ui=4.0, est=4.050870065449826, details={'was_impossible': True, 'reason': 'User and/or item is unkown.'}),\n",
       " Prediction(uid='APY50TSQFBC1D', iid='B0000BZL1P', r_ui=5.0, est=4.050870065449826, details={'was_impossible': True, 'reason': 'User and/or item is unkown.'}),\n",
       " Prediction(uid='A1QF6ARAAPILI6', iid='B0002XIX0O', r_ui=4.0, est=4.050870065449826, details={'was_impossible': True, 'reason': 'User and/or item is unkown.'}),\n",
       " Prediction(uid='A2Z2FPOVD41OX5', iid='B000E5GGQI', r_ui=5.0, est=4.050870065449826, details={'was_impossible': True, 'reason': 'User and/or item is unkown.'}),\n",
       " Prediction(uid='A2LQJHPAE4X0BA', iid='B0006VJ7TI', r_ui=1.0, est=4.050870065449826, details={'was_impossible': True, 'reason': 'User and/or item is unkown.'}),\n",
       " Prediction(uid='A1XUT917W1I86J', iid='B00061IYJC', r_ui=1.0, est=4.050870065449826, details={'was_impossible': True, 'reason': 'User and/or item is unkown.'}),\n",
       " Prediction(uid='A1X2E399RINUTU', iid='B00019068G', r_ui=5.0, est=4.050870065449826, details={'was_impossible': True, 'reason': 'User and/or item is unkown.'}),\n",
       " Prediction(uid='A3JPTOAFBCNYS4', iid='B000BV7ZPG', r_ui=5.0, est=4.4, details={'actual_k': 0, 'was_impossible': False}),\n",
       " Prediction(uid='A15ARYDR72JHIJ', iid='B00008Y1BX', r_ui=1.0, est=4.050870065449826, details={'was_impossible': True, 'reason': 'User and/or item is unkown.'}),\n",
       " Prediction(uid='A1IB0U51TF7SSL', iid='B00007KDX5', r_ui=4.0, est=4.050870065449826, details={'was_impossible': True, 'reason': 'User and/or item is unkown.'}),\n",
       " Prediction(uid='A155FRY0ONLMMR', iid='B00076FVP6', r_ui=5.0, est=4.050870065449826, details={'was_impossible': True, 'reason': 'User and/or item is unkown.'}),\n",
       " Prediction(uid='A3ODQQDGMRX3UV', iid='B000B9RI14', r_ui=2.0, est=4.050870065449826, details={'was_impossible': True, 'reason': 'User and/or item is unkown.'}),\n",
       " Prediction(uid='A3RHL38Z5KAWUQ', iid='B000I661J0', r_ui=5.0, est=4.050870065449826, details={'was_impossible': True, 'reason': 'User and/or item is unkown.'}),\n",
       " Prediction(uid='ARAKYO6PBAAQI', iid='B000FBF400', r_ui=3.0, est=4.050870065449826, details={'was_impossible': True, 'reason': 'User and/or item is unkown.'}),\n",
       " Prediction(uid='A2A1EYB10TC2U7', iid='B0000AE6G9', r_ui=4.0, est=4.050870065449826, details={'was_impossible': True, 'reason': 'User and/or item is unkown.'}),\n",
       " Prediction(uid='A3F69YNWC48MNM', iid='B0000A2QBP', r_ui=2.0, est=4.050870065449826, details={'was_impossible': True, 'reason': 'User and/or item is unkown.'}),\n",
       " Prediction(uid='AILXDG2AAYM7R', iid='B0002I7288', r_ui=5.0, est=4.050870065449826, details={'was_impossible': True, 'reason': 'User and/or item is unkown.'}),\n",
       " Prediction(uid='A32XANGZU24VUZ', iid='B000EOPQ7E', r_ui=5.0, est=4.402135231316726, details={'actual_k': 0, 'was_impossible': False}),\n",
       " Prediction(uid='A3B58BDUZMK5GN', iid='B00008IHOZ', r_ui=3.0, est=3.6956521739130435, details={'actual_k': 0, 'was_impossible': False}),\n",
       " Prediction(uid='A3LV7IE1Y735WP', iid='B00004T8R2', r_ui=5.0, est=4.301029159519725, details={'actual_k': 0, 'was_impossible': False}),\n",
       " Prediction(uid='A14I1F2H7NOYDC', iid='B000BQ7GW8', r_ui=5.0, est=5, details={'actual_k': 1, 'was_impossible': False}),\n",
       " Prediction(uid='A4LIIDKDFLYEN', iid='B000FBK3QK', r_ui=5.0, est=4.050870065449826, details={'was_impossible': True, 'reason': 'User and/or item is unkown.'}),\n",
       " Prediction(uid='AMNS6TYMWQG0Y', iid='B000F7857S', r_ui=1.0, est=4.050870065449826, details={'was_impossible': True, 'reason': 'User and/or item is unkown.'}),\n",
       " Prediction(uid='A14AARITYIXJEB', iid='B00021XIJW', r_ui=5.0, est=4.050870065449826, details={'was_impossible': True, 'reason': 'User and/or item is unkown.'}),\n",
       " Prediction(uid='A1EZTW3ADLLS70', iid='B0002KVQBA', r_ui=5.0, est=4.575304022450888, details={'actual_k': 0, 'was_impossible': False}),\n",
       " Prediction(uid='A1LPIJMZGQ1612', iid='B000A2AGYS', r_ui=5.0, est=4.050870065449826, details={'was_impossible': True, 'reason': 'User and/or item is unkown.'}),\n",
       " Prediction(uid='A3BFUAEUOYDFNO', iid='B000H91K7Q', r_ui=3.0, est=4.050870065449826, details={'was_impossible': True, 'reason': 'User and/or item is unkown.'}),\n",
       " Prediction(uid='AM7WOIRGDLXQ6', iid='B000069EV0', r_ui=4.0, est=4.050870065449826, details={'was_impossible': True, 'reason': 'User and/or item is unkown.'}),\n",
       " Prediction(uid='A3JNWW07P6VALM', iid='B0001XO674', r_ui=5.0, est=4.050870065449826, details={'was_impossible': True, 'reason': 'User and/or item is unkown.'}),\n",
       " Prediction(uid='A2JSFCLWWRXIJ4', iid='B00001OPJZ', r_ui=5.0, est=4.050870065449826, details={'was_impossible': True, 'reason': 'User and/or item is unkown.'}),\n",
       " Prediction(uid='A3UHA578ELTFRR', iid='B000B9RI14', r_ui=5.0, est=2.5973445553598227, details={'actual_k': 1, 'was_impossible': False}),\n",
       " Prediction(uid='A26V6XF4XFOJUS', iid='B00005T406', r_ui=5.0, est=4.050870065449826, details={'was_impossible': True, 'reason': 'User and/or item is unkown.'}),\n",
       " Prediction(uid='A2S5KIMWWFI6Z3', iid='B0000DJEK7', r_ui=5.0, est=4.050870065449826, details={'was_impossible': True, 'reason': 'User and/or item is unkown.'}),\n",
       " Prediction(uid='A347RFNEV7UUYQ', iid='B000AJIF4E', r_ui=5.0, est=4.050870065449826, details={'was_impossible': True, 'reason': 'User and/or item is unkown.'}),\n",
       " Prediction(uid='A35DV9TE0YZL6D', iid='B000F9LRYO', r_ui=3.0, est=4.050870065449826, details={'was_impossible': True, 'reason': 'User and/or item is unkown.'}),\n",
       " Prediction(uid='A3UIKGBBKXQEWV', iid='B00004THCZ', r_ui=5.0, est=4.2176991150442475, details={'actual_k': 0, 'was_impossible': False}),\n",
       " Prediction(uid='A1DZYNXVVYPV0G', iid='B0009N5MCY', r_ui=5.0, est=4.050870065449826, details={'was_impossible': True, 'reason': 'User and/or item is unkown.'}),\n",
       " Prediction(uid='A1QCE3XJOPWBF7', iid='B00009V2PG', r_ui=5.0, est=4.050870065449826, details={'was_impossible': True, 'reason': 'User and/or item is unkown.'}),\n",
       " Prediction(uid='A36ZSY0KSBSR93', iid='B00006JN3G', r_ui=5.0, est=4.050870065449826, details={'was_impossible': True, 'reason': 'User and/or item is unkown.'}),\n",
       " Prediction(uid='A2O6ZENEKZMS6N', iid='B000F5FKHI', r_ui=1.0, est=4.050870065449826, details={'was_impossible': True, 'reason': 'User and/or item is unkown.'}),\n",
       " Prediction(uid='A174SIK4VS2R86', iid='B0000AE6AE', r_ui=4.0, est=4.050870065449826, details={'was_impossible': True, 'reason': 'User and/or item is unkown.'}),\n",
       " Prediction(uid='A1MZL91Z44RN06', iid='B0006PKY5A', r_ui=5.0, est=4.142857142857143, details={'actual_k': 0, 'was_impossible': False}),\n",
       " Prediction(uid='A3KDNO79V4PY53', iid='B000ERAON2', r_ui=2.0, est=4.050870065449826, details={'was_impossible': True, 'reason': 'User and/or item is unkown.'}),\n",
       " Prediction(uid='A1Q6L4ZZ2L92QO', iid='B0001FTVEA', r_ui=5.0, est=4.050870065449826, details={'was_impossible': True, 'reason': 'User and/or item is unkown.'}),\n",
       " Prediction(uid='A1ZMDKVL8Z24H6', iid='B0000BZL1P', r_ui=5.0, est=5, details={'actual_k': 1, 'was_impossible': False}),\n",
       " Prediction(uid='A1R4OFZ4CAMLVC', iid='B000652M6Y', r_ui=5.0, est=4.091330244870947, details={'actual_k': 0, 'was_impossible': False}),\n",
       " Prediction(uid='A1CUEF92OPM6WO', iid='B0007Y798U', r_ui=5.0, est=4.050870065449826, details={'was_impossible': True, 'reason': 'User and/or item is unkown.'}),\n",
       " Prediction(uid='A3QP6ZJUHMGA01', iid='B000001OM5', r_ui=2.0, est=4.050870065449826, details={'was_impossible': True, 'reason': 'User and/or item is unkown.'}),\n",
       " Prediction(uid='A1YWG97WSKWO6T', iid='B00009X6PH', r_ui=4.0, est=4.050870065449826, details={'was_impossible': True, 'reason': 'User and/or item is unkown.'}),\n",
       " Prediction(uid='A28P2390QZQENL', iid='B0000BVYTV', r_ui=5.0, est=4.050870065449826, details={'was_impossible': True, 'reason': 'User and/or item is unkown.'}),\n",
       " Prediction(uid='A3RS6L4KWAONYP', iid='B000092YPR', r_ui=5.0, est=4.050870065449826, details={'was_impossible': True, 'reason': 'User and/or item is unkown.'}),\n",
       " Prediction(uid='A3ES51FL3H0QCR', iid='B00008SCFL', r_ui=2.0, est=3.3255208333333335, details={'actual_k': 0, 'was_impossible': False}),\n",
       " Prediction(uid='A1YZU31SFONI34', iid='B0001FTVEK', r_ui=4.0, est=4.050870065449826, details={'was_impossible': True, 'reason': 'User and/or item is unkown.'}),\n",
       " Prediction(uid='ANZZPTTK9TNYV', iid='B000BNHM0C', r_ui=5.0, est=4.050870065449826, details={'was_impossible': True, 'reason': 'User and/or item is unkown.'}),\n",
       " Prediction(uid='AWGOJ7HAXEUH', iid='B0009N5MDI', r_ui=1.0, est=2.495798319327731, details={'actual_k': 0, 'was_impossible': False}),\n",
       " Prediction(uid='A1KVTSCP16VOCJ', iid='B0007R8YGI', r_ui=4.0, est=4.050870065449826, details={'was_impossible': True, 'reason': 'User and/or item is unkown.'}),\n",
       " Prediction(uid='A25LA5SGDJT777', iid='B0001DBEM4', r_ui=5.0, est=4.050870065449826, details={'was_impossible': True, 'reason': 'User and/or item is unkown.'}),\n",
       " Prediction(uid='A1OP7O7OLH0AKM', iid='B00007E8D2', r_ui=5.0, est=4.050870065449826, details={'was_impossible': True, 'reason': 'User and/or item is unkown.'}),\n",
       " Prediction(uid='A12F9NSL0D3HW6', iid='B000E43GOO', r_ui=4.0, est=4.050870065449826, details={'was_impossible': True, 'reason': 'User and/or item is unkown.'}),\n",
       " Prediction(uid='A1PNPR9BY2CFJH', iid='B00005T406', r_ui=4.0, est=4.050870065449826, details={'was_impossible': True, 'reason': 'User and/or item is unkown.'}),\n",
       " Prediction(uid='A2N31FXOWIT4J1', iid='B0007LJHVK', r_ui=5.0, est=4.050870065449826, details={'was_impossible': True, 'reason': 'User and/or item is unkown.'}),\n",
       " Prediction(uid='A1EHWKEC79CTKY', iid='B0007XJSQC', r_ui=4.0, est=4.050870065449826, details={'was_impossible': True, 'reason': 'User and/or item is unkown.'}),\n",
       " Prediction(uid='A2608NDMXMQ1Q1', iid='B0001DBEM4', r_ui=5.0, est=4.050870065449826, details={'was_impossible': True, 'reason': 'User and/or item is unkown.'}),\n",
       " Prediction(uid='A39TVU9T3MD1CN', iid='B0009M069Y', r_ui=5.0, est=4.050870065449826, details={'was_impossible': True, 'reason': 'User and/or item is unkown.'}),\n",
       " Prediction(uid='A1TW6J9MJG4TBS', iid='B00007E7JU', r_ui=5.0, est=4.050870065449826, details={'was_impossible': True, 'reason': 'User and/or item is unkown.'}),\n",
       " Prediction(uid='A3AEJXU3O905LV', iid='B0002WTK4S', r_ui=5.0, est=4.050870065449826, details={'was_impossible': True, 'reason': 'User and/or item is unkown.'}),\n",
       " Prediction(uid='A1NTCPVWXC01LH', iid='B00094OX2S', r_ui=5.0, est=4.050870065449826, details={'was_impossible': True, 'reason': 'User and/or item is unkown.'}),\n",
       " Prediction(uid='A1SD1WGQBI3OOO', iid='B00007E7JU', r_ui=5.0, est=4.050870065449826, details={'was_impossible': True, 'reason': 'User and/or item is unkown.'}),\n",
       " Prediction(uid='A3DE8GVLDQ45SI', iid='B000AM8SK2', r_ui=5.0, est=4.050870065449826, details={'was_impossible': True, 'reason': 'User and/or item is unkown.'}),\n",
       " Prediction(uid='AUYAZMEO659OX', iid='B000BQ7GW8', r_ui=4.0, est=4.556147950683106, details={'actual_k': 0, 'was_impossible': False}),\n",
       " Prediction(uid='A3O8MVUV3E4PNN', iid='B000059MSI', r_ui=5.0, est=4.050870065449826, details={'was_impossible': True, 'reason': 'User and/or item is unkown.'}),\n",
       " Prediction(uid='AB8KMQKGBO6P3', iid='B000EUGX70', r_ui=4.0, est=4.127340823970037, details={'actual_k': 0, 'was_impossible': False}),\n",
       " Prediction(uid='A3UIG8C2EX24X0', iid='B000CSQJ8C', r_ui=4.0, est=4.432876712328767, details={'actual_k': 0, 'was_impossible': False}),\n",
       " Prediction(uid='A3HFLZNDA3UAXI', iid='B00004WLJ2', r_ui=5.0, est=4.050870065449826, details={'was_impossible': True, 'reason': 'User and/or item is unkown.'}),\n",
       " Prediction(uid='A2Q8N9BFQS1OG0', iid='B00020S7XK', r_ui=5.0, est=4.050870065449826, details={'was_impossible': True, 'reason': 'User and/or item is unkown.'}),\n",
       " Prediction(uid='A27XEPOS18S5LD', iid='B00020S7XK', r_ui=3.0, est=4.050870065449826, details={'was_impossible': True, 'reason': 'User and/or item is unkown.'}),\n",
       " Prediction(uid='A32H96FTYI793O', iid='B000062VUO', r_ui=2.0, est=4.050870065449826, details={'was_impossible': True, 'reason': 'User and/or item is unkown.'}),\n",
       " Prediction(uid='A2KFLND9FN4JZ1', iid='B000EGI7V4', r_ui=5.0, est=4.050870065449826, details={'was_impossible': True, 'reason': 'User and/or item is unkown.'}),\n",
       " Prediction(uid='A1KC6QJ790MH9', iid='B000E1FYQA', r_ui=5.0, est=4.050870065449826, details={'was_impossible': True, 'reason': 'User and/or item is unkown.'}),\n",
       " Prediction(uid='A2J591OLWPBEMQ', iid='B0002L5R78', r_ui=1.0, est=4.44529953221669, details={'actual_k': 0, 'was_impossible': False}),\n",
       " Prediction(uid='A20Y47IT8LR1UY', iid='B000BG0UF8', r_ui=5.0, est=4.050870065449826, details={'was_impossible': True, 'reason': 'User and/or item is unkown.'}),\n",
       " Prediction(uid='AI5GLYP6AGHAA', iid='B0002CE0XO', r_ui=5.0, est=4.050870065449826, details={'was_impossible': True, 'reason': 'User and/or item is unkown.'}),\n",
       " Prediction(uid='A310VZY2FMC58I', iid='B000CS7U1C', r_ui=4.0, est=4.050870065449826, details={'was_impossible': True, 'reason': 'User and/or item is unkown.'}),\n",
       " Prediction(uid='AXDM1069BD601', iid='B0009GZSSO', r_ui=5.0, est=4.296610169491525, details={'actual_k': 0, 'was_impossible': False}),\n",
       " Prediction(uid='A3LNHS3SDP4AFO', iid='B000CKVOOY', r_ui=5.0, est=4.710244648318043, details={'actual_k': 0, 'was_impossible': False}),\n",
       " Prediction(uid='A9852CQHAWSEL', iid='B000FZXHGO', r_ui=4.0, est=4.050870065449826, details={'was_impossible': True, 'reason': 'User and/or item is unkown.'}),\n",
       " Prediction(uid='A28JQ1DYRP1MCB', iid='B00007E7JU', r_ui=5.0, est=4.57113654946852, details={'actual_k': 0, 'was_impossible': False}),\n",
       " Prediction(uid='A9UEVK9QBA0B3', iid='B0000A2QBP', r_ui=5.0, est=4.050870065449826, details={'was_impossible': True, 'reason': 'User and/or item is unkown.'}),\n",
       " Prediction(uid='AUSQXLRT093FM', iid='B000IE8Z4Q', r_ui=5.0, est=4.050870065449826, details={'was_impossible': True, 'reason': 'User and/or item is unkown.'}),\n",
       " Prediction(uid='A19VMEI156YRW3', iid='B00013MSUQ', r_ui=4.0, est=4.050870065449826, details={'was_impossible': True, 'reason': 'User and/or item is unkown.'}),\n",
       " Prediction(uid='A36GB0BMOGXTM0', iid='B000050LUE', r_ui=4.0, est=4.6923076923076925, details={'actual_k': 0, 'was_impossible': False}),\n",
       " Prediction(uid='A2BO0H8NX2CIA5', iid='B000ANCPNM', r_ui=5.0, est=4.050870065449826, details={'was_impossible': True, 'reason': 'User and/or item is unkown.'}),\n",
       " Prediction(uid='A2UEA6QO9OSYNR', iid='B000HZ8942', r_ui=5.0, est=4.5396825396825395, details={'actual_k': 0, 'was_impossible': False}),\n",
       " Prediction(uid='A3GHFTLKRB0FR7', iid='B0002WPSB2', r_ui=4.0, est=4.050870065449826, details={'was_impossible': True, 'reason': 'User and/or item is unkown.'}),\n",
       " Prediction(uid='AVWXZQOVCULRU', iid='B00006HYPV', r_ui=3.0, est=3.2311015118790496, details={'actual_k': 0, 'was_impossible': False}),\n",
       " Prediction(uid='AWADQFPIAP2HS', iid='B0007NWL70', r_ui=1.0, est=4.050870065449826, details={'was_impossible': True, 'reason': 'User and/or item is unkown.'}),\n",
       " Prediction(uid='A14P81IATSVPR4', iid='B000CRT07U', r_ui=1.0, est=4.050870065449826, details={'was_impossible': True, 'reason': 'User and/or item is unkown.'}),\n",
       " Prediction(uid='A83J682316KEA', iid='B000CS1TLE', r_ui=1.0, est=3.5726872246696035, details={'actual_k': 0, 'was_impossible': False}),\n",
       " Prediction(uid='A2VV79N7XARTYM', iid='B0007Y79E4', r_ui=5.0, est=4.050870065449826, details={'was_impossible': True, 'reason': 'User and/or item is unkown.'}),\n",
       " Prediction(uid='ANZT4R4NTQYQ', iid='B00066EK3G', r_ui=5.0, est=4.050870065449826, details={'was_impossible': True, 'reason': 'User and/or item is unkown.'}),\n",
       " Prediction(uid='A21G8XF090VXN4', iid='B0001Y7UAI', r_ui=4.0, est=4.547826086956522, details={'actual_k': 0, 'was_impossible': False}),\n",
       " Prediction(uid='A2ANN4TDNZ9ZWV', iid='B0009HGVZW', r_ui=5.0, est=4.050870065449826, details={'was_impossible': True, 'reason': 'User and/or item is unkown.'}),\n",
       " Prediction(uid='A1B29I661YGZEU', iid='B0009PAVI2', r_ui=5.0, est=4.131578947368421, details={'actual_k': 0, 'was_impossible': False}),\n",
       " Prediction(uid='AYOLOL81XL4JW', iid='B000E1CB1Q', r_ui=5.0, est=3.675, details={'actual_k': 0, 'was_impossible': False}),\n",
       " Prediction(uid='A13L7OKH19U9JK', iid='B0001DBEM4', r_ui=5.0, est=4.9148217766638815, details={'actual_k': 1, 'was_impossible': False}),\n",
       " Prediction(uid='A10AUB41XTGRER', iid='B0007RXDDM', r_ui=5.0, est=4.509803921568627, details={'actual_k': 0, 'was_impossible': False}),\n",
       " Prediction(uid='A2WXCIQ1NKCBM9', iid='B000A2AGYS', r_ui=4.0, est=4.050870065449826, details={'was_impossible': True, 'reason': 'User and/or item is unkown.'}),\n",
       " Prediction(uid='A1FLCBASRABDFS', iid='B0000DB4D1', r_ui=5.0, est=3.2088888888888887, details={'actual_k': 0, 'was_impossible': False}),\n",
       " Prediction(uid='ABMDWWMB836FD', iid='B00008W7LS', r_ui=4.0, est=4.223776223776224, details={'actual_k': 0, 'was_impossible': False}),\n",
       " Prediction(uid='A3FXW7Z86N8YVM', iid='B00099I0EK', r_ui=4.0, est=4.050870065449826, details={'was_impossible': True, 'reason': 'User and/or item is unkown.'}),\n",
       " Prediction(uid='A1DXLLLHQDEDI2', iid='B000FFIJRQ', r_ui=5.0, est=4.050870065449826, details={'was_impossible': True, 'reason': 'User and/or item is unkown.'}),\n",
       " Prediction(uid='A24HMTMIEWI2RR', iid='B00004Z476', r_ui=1.0, est=4.050870065449826, details={'was_impossible': True, 'reason': 'User and/or item is unkown.'}),\n",
       " Prediction(uid='AAD9SD5SLV6IE', iid='B0002L5R78', r_ui=4.0, est=4.050870065449826, details={'was_impossible': True, 'reason': 'User and/or item is unkown.'}),\n",
       " Prediction(uid='A3HFI9Z49QH57', iid='B000204SWE', r_ui=1.0, est=4.050870065449826, details={'was_impossible': True, 'reason': 'User and/or item is unkown.'}),\n",
       " Prediction(uid='A1FBWW96CO1UP8', iid='B0009IRUKG', r_ui=5.0, est=4.050870065449826, details={'was_impossible': True, 'reason': 'User and/or item is unkown.'}),\n",
       " Prediction(uid='A436VFD47MHWR', iid='B000BKJZ9Q', r_ui=4.0, est=4.050870065449826, details={'was_impossible': True, 'reason': 'User and/or item is unkown.'}),\n",
       " Prediction(uid='A3UQ75TBNFLAXS', iid='B0000AKA90', r_ui=5.0, est=4.050870065449826, details={'was_impossible': True, 'reason': 'User and/or item is unkown.'}),\n",
       " Prediction(uid='A1TVWAQ1YUBGZX', iid='B0009RNYQG', r_ui=4.0, est=4.050870065449826, details={'was_impossible': True, 'reason': 'User and/or item is unkown.'}),\n",
       " Prediction(uid='A2SNKEVLLKIWDV', iid='B0007SXHP0', r_ui=2.0, est=4.050870065449826, details={'was_impossible': True, 'reason': 'User and/or item is unkown.'}),\n",
       " Prediction(uid='AE93PI9RAK438', iid='B00005115S', r_ui=5.0, est=4.050870065449826, details={'was_impossible': True, 'reason': 'User and/or item is unkown.'}),\n",
       " Prediction(uid='A33VF9NWCYT8V4', iid='B000E8SY5Q', r_ui=4.0, est=4.050870065449826, details={'was_impossible': True, 'reason': 'User and/or item is unkown.'}),\n",
       " Prediction(uid='ACGM0MRI3WRWG', iid='B00001OPJZ', r_ui=5.0, est=4.050870065449826, details={'was_impossible': True, 'reason': 'User and/or item is unkown.'}),\n",
       " Prediction(uid='A2WIUUXFDQU1X9', iid='B000HCT12O', r_ui=5.0, est=3.9325396825396823, details={'actual_k': 0, 'was_impossible': False}),\n",
       " Prediction(uid='A1ZYLPDAN7ATYX', iid='B00007EDZG', r_ui=3.0, est=4.050870065449826, details={'was_impossible': True, 'reason': 'User and/or item is unkown.'}),\n",
       " Prediction(uid='A28BRIZ0NF1ZCP', iid='B00000JCTO', r_ui=5.0, est=4.050870065449826, details={'was_impossible': True, 'reason': 'User and/or item is unkown.'}),\n",
       " Prediction(uid='A2OH4C3YLLGR3K', iid='B0001FTVEA', r_ui=4.0, est=4.050870065449826, details={'was_impossible': True, 'reason': 'User and/or item is unkown.'}),\n",
       " Prediction(uid='AB491F7SSJHRC', iid='B000EHCUIY', r_ui=1.0, est=4.050870065449826, details={'was_impossible': True, 'reason': 'User and/or item is unkown.'}),\n",
       " Prediction(uid='A3STHX4D9RA42S', iid='B00009UTQK', r_ui=5.0, est=4.050870065449826, details={'was_impossible': True, 'reason': 'User and/or item is unkown.'}),\n",
       " Prediction(uid='A2ZQEVDD1U3CT2', iid='B000ACHVVE', r_ui=5.0, est=4.13, details={'actual_k': 0, 'was_impossible': False}),\n",
       " Prediction(uid='ADA9HSMV4GB88', iid='B000DLB91A', r_ui=4.0, est=4.050870065449826, details={'was_impossible': True, 'reason': 'User and/or item is unkown.'}),\n",
       " Prediction(uid='AN8ZZ7VZYG1TV', iid='B0000BZOGJ', r_ui=5.0, est=4.050870065449826, details={'was_impossible': True, 'reason': 'User and/or item is unkown.'}),\n",
       " Prediction(uid='A2ACUF3JRM4FW3', iid='B00009R9A1', r_ui=5.0, est=4.466666666666667, details={'actual_k': 0, 'was_impossible': False}),\n",
       " Prediction(uid='A1SA0RU0R45U6V', iid='B0000CE1UO', r_ui=5.0, est=3.7608318890814556, details={'actual_k': 0, 'was_impossible': False}),\n",
       " Prediction(uid='A3RXCL5PBYMSU1', iid='B000I6P1I2', r_ui=2.0, est=4.050870065449826, details={'was_impossible': True, 'reason': 'User and/or item is unkown.'}),\n",
       " Prediction(uid='A10XLGZJUHB6JC', iid='B00004ZCJE', r_ui=5.0, est=4.050870065449826, details={'was_impossible': True, 'reason': 'User and/or item is unkown.'}),\n",
       " Prediction(uid='A3IPZQ53ABO860', iid='B000E1DSAE', r_ui=5.0, est=4.050870065449826, details={'was_impossible': True, 'reason': 'User and/or item is unkown.'}),\n",
       " Prediction(uid='A2WJ7G5GSAG13R', iid='B00005T39Y', r_ui=5.0, est=4.050870065449826, details={'was_impossible': True, 'reason': 'User and/or item is unkown.'}),\n",
       " Prediction(uid='A1EY0IFACBNHU6', iid='B00009R6TA', r_ui=4.0, est=4.050870065449826, details={'was_impossible': True, 'reason': 'User and/or item is unkown.'}),\n",
       " Prediction(uid='A38GY5HAU8NDOH', iid='B000089GN4', r_ui=2.0, est=4.046391752577319, details={'actual_k': 0, 'was_impossible': False}),\n",
       " Prediction(uid='A7IKOAH6M8WAC', iid='B000023VUL', r_ui=5.0, est=3.608695652173913, details={'actual_k': 0, 'was_impossible': False}),\n",
       " Prediction(uid='AR3CCTST2OBXX', iid='B0009RWK7K', r_ui=4.0, est=4.050870065449826, details={'was_impossible': True, 'reason': 'User and/or item is unkown.'}),\n",
       " Prediction(uid='A9TCE8W276HFJ', iid='B0002L5R78', r_ui=5.0, est=4.050870065449826, details={'was_impossible': True, 'reason': 'User and/or item is unkown.'}),\n",
       " Prediction(uid='A38DQSVRIXBP00', iid='B0002L5R78', r_ui=5.0, est=4.44529953221669, details={'actual_k': 0, 'was_impossible': False}),\n",
       " Prediction(uid='A2WR1LSIJUZ23F', iid='B0007TC390', r_ui=2.0, est=4.050870065449826, details={'was_impossible': True, 'reason': 'User and/or item is unkown.'}),\n",
       " Prediction(uid='A1RYJSLJ4OM63M', iid='B0007LJHVK', r_ui=5.0, est=4.050870065449826, details={'was_impossible': True, 'reason': 'User and/or item is unkown.'}),\n",
       " Prediction(uid='A1E2OU5RIAUNK5', iid='B000261N6M', r_ui=5.0, est=4.050870065449826, details={'was_impossible': True, 'reason': 'User and/or item is unkown.'}),\n",
       " Prediction(uid='A1A9TT8LD6BSDZ', iid='B000062VUO', r_ui=5.0, est=4.050870065449826, details={'was_impossible': True, 'reason': 'User and/or item is unkown.'}),\n",
       " Prediction(uid='ABVS64CA4PTXA', iid='B00009EHJV', r_ui=5.0, est=4.050870065449826, details={'was_impossible': True, 'reason': 'User and/or item is unkown.'}),\n",
       " Prediction(uid='AIAH9RL6OOQPY', iid='9983891212', r_ui=1.0, est=4.050870065449826, details={'was_impossible': True, 'reason': 'User and/or item is unkown.'}),\n",
       " Prediction(uid='A3SI4ZRFZ5AEN1', iid='B000HJ5N2Y', r_ui=4.0, est=4.050870065449826, details={'was_impossible': True, 'reason': 'User and/or item is unkown.'}),\n",
       " Prediction(uid='A15M1BZGQUVP8U', iid='B000204SWE', r_ui=5.0, est=4.050870065449826, details={'was_impossible': True, 'reason': 'User and/or item is unkown.'}),\n",
       " Prediction(uid='A3PN43A5BQI9NH', iid='B0007LJHVA', r_ui=5.0, est=4.050870065449826, details={'was_impossible': True, 'reason': 'User and/or item is unkown.'}),\n",
       " Prediction(uid='A6H1XVBNV0HCY', iid='B0007LJHVK', r_ui=5.0, est=4.050870065449826, details={'was_impossible': True, 'reason': 'User and/or item is unkown.'}),\n",
       " Prediction(uid='A7J7Q6Z79ZXOI', iid='B0002L5R78', r_ui=3.0, est=4.050870065449826, details={'was_impossible': True, 'reason': 'User and/or item is unkown.'}),\n",
       " Prediction(uid='A2WTSKQ1GNNLFI', iid='B00004Z0BO', r_ui=1.0, est=4.050870065449826, details={'was_impossible': True, 'reason': 'User and/or item is unkown.'}),\n",
       " Prediction(uid='A26C2PU4N7JX8H', iid='B000EGLXTW', r_ui=5.0, est=4.050870065449826, details={'was_impossible': True, 'reason': 'User and/or item is unkown.'}),\n",
       " Prediction(uid='A3KF2MOFIDXF4W', iid='B0002L5R78', r_ui=1.0, est=4.050870065449826, details={'was_impossible': True, 'reason': 'User and/or item is unkown.'}),\n",
       " Prediction(uid='A2AOP2TYTRKVXW', iid='B00020S7XK', r_ui=4.0, est=4.050870065449826, details={'was_impossible': True, 'reason': 'User and/or item is unkown.'}),\n",
       " Prediction(uid='A3BDEJ1FU4YHC', iid='B00005Y3OM', r_ui=1.0, est=4.050870065449826, details={'was_impossible': True, 'reason': 'User and/or item is unkown.'}),\n",
       " Prediction(uid='A2CJLPB4L2ZAY3', iid='B000051ZOA', r_ui=5.0, est=4.050870065449826, details={'was_impossible': True, 'reason': 'User and/or item is unkown.'}),\n",
       " Prediction(uid='A2ZCG424VQZFSP', iid='B00022OBOM', r_ui=4.0, est=4.098765432098766, details={'actual_k': 0, 'was_impossible': False}),\n",
       " Prediction(uid='A32UKJ89I78SH5', iid='B00001W0DH', r_ui=4.0, est=4.050870065449826, details={'was_impossible': True, 'reason': 'User and/or item is unkown.'}),\n",
       " Prediction(uid='AHAVJ6FB1726P', iid='B000067G0J', r_ui=1.0, est=4.050870065449826, details={'was_impossible': True, 'reason': 'User and/or item is unkown.'}),\n",
       " Prediction(uid='AWSFZWBLACMW6', iid='B000779RZA', r_ui=5.0, est=4.050870065449826, details={'was_impossible': True, 'reason': 'User and/or item is unkown.'}),\n",
       " Prediction(uid='A35NFAG75GU79B', iid='B00008EM7U', r_ui=5.0, est=4.050870065449826, details={'was_impossible': True, 'reason': 'User and/or item is unkown.'}),\n",
       " Prediction(uid='A3CVZTUE6GB8YZ', iid='B0003NN83U', r_ui=5.0, est=4.050870065449826, details={'was_impossible': True, 'reason': 'User and/or item is unkown.'}),\n",
       " Prediction(uid='A2O4DLN4MZV0CJ', iid='B000067SMH', r_ui=1.0, est=4.050870065449826, details={'was_impossible': True, 'reason': 'User and/or item is unkown.'}),\n",
       " Prediction(uid='A2WJT8U3GJACAO', iid='B00011KM38', r_ui=5.0, est=4.050870065449826, details={'was_impossible': True, 'reason': 'User and/or item is unkown.'}),\n",
       " Prediction(uid='A2WBGNY3PLRFNT', iid='B0000TO0BQ', r_ui=5.0, est=4.1, details={'actual_k': 0, 'was_impossible': False}),\n",
       " Prediction(uid='A3PMI40HUFRGLY', iid='B00008EM7U', r_ui=1.0, est=4.050870065449826, details={'was_impossible': True, 'reason': 'User and/or item is unkown.'}),\n",
       " Prediction(uid='A8W4PN03L2DPG', iid='B00006KIYS', r_ui=4.0, est=4.050870065449826, details={'was_impossible': True, 'reason': 'User and/or item is unkown.'}),\n",
       " Prediction(uid='A1DJ084ZNJMCAA', iid='B000BI2180', r_ui=4.0, est=3.8329979879275653, details={'actual_k': 0, 'was_impossible': False}),\n",
       " Prediction(uid='A14VUXR4P87PYM', iid='B00005AWCL', r_ui=5.0, est=3.5225225225225225, details={'actual_k': 0, 'was_impossible': False}),\n",
       " Prediction(uid='A91IEXRWTJAT6', iid='B000FPIVLU', r_ui=4.0, est=2.989130434782609, details={'actual_k': 0, 'was_impossible': False}),\n",
       " Prediction(uid='A11K668GRTLWOA', iid='B00004T8R2', r_ui=5.0, est=4.301029159519725, details={'actual_k': 0, 'was_impossible': False}),\n",
       " Prediction(uid='A34C3P6UO58YP5', iid='B000HKGK8Y', r_ui=1.0, est=4.050870065449826, details={'was_impossible': True, 'reason': 'User and/or item is unkown.'}),\n",
       " Prediction(uid='A20LVV9Z1F6CV7', iid='B00007E7C8', r_ui=5.0, est=4.050870065449826, details={'was_impossible': True, 'reason': 'User and/or item is unkown.'}),\n",
       " Prediction(uid='A2A0934L2IF6GK', iid='B000I8CP0M', r_ui=5.0, est=4.050870065449826, details={'was_impossible': True, 'reason': 'User and/or item is unkown.'}),\n",
       " Prediction(uid='ATDNB9OP3PW6R', iid='B00008VFCW', r_ui=5.0, est=4.4324324324324325, details={'actual_k': 0, 'was_impossible': False}),\n",
       " Prediction(uid='A16U57SHCD2V8Q', iid='B00007EDZG', r_ui=4.0, est=4.050870065449826, details={'was_impossible': True, 'reason': 'User and/or item is unkown.'}),\n",
       " Prediction(uid='A3103ZMTSY0WVS', iid='B0000668YX', r_ui=3.0, est=4.050870065449826, details={'was_impossible': True, 'reason': 'User and/or item is unkown.'}),\n",
       " Prediction(uid='A1GUE8ORKA0JKD', iid='B00006RVPW', r_ui=3.0, est=4.493932038834951, details={'actual_k': 0, 'was_impossible': False}),\n",
       " Prediction(uid='A1J1UYZF194T5L', iid='B00005114Z', r_ui=5.0, est=4.050870065449826, details={'was_impossible': True, 'reason': 'User and/or item is unkown.'}),\n",
       " Prediction(uid='A10FKAD5YXWDYW', iid='B000093UDQ', r_ui=5.0, est=4.050870065449826, details={'was_impossible': True, 'reason': 'User and/or item is unkown.'}),\n",
       " Prediction(uid='A2ZB2FRYZ5RM8O', iid='B000BTGVUS', r_ui=1.0, est=4.050870065449826, details={'was_impossible': True, 'reason': 'User and/or item is unkown.'}),\n",
       " Prediction(uid='A1W5CI9L3JPTF', iid='B00003CWDG', r_ui=5.0, est=4.050870065449826, details={'was_impossible': True, 'reason': 'User and/or item is unkown.'}),\n",
       " Prediction(uid='A3SXM4W15LEIED', iid='B000EXT5AY', r_ui=2.0, est=4.050870065449826, details={'was_impossible': True, 'reason': 'User and/or item is unkown.'}),\n",
       " Prediction(uid='A1ID55B6ZR5OS9', iid='B0001F22PA', r_ui=2.0, est=4.050870065449826, details={'was_impossible': True, 'reason': 'User and/or item is unkown.'}),\n",
       " Prediction(uid='A1BGIAZFVG1XQR', iid='B00009R6WY', r_ui=5.0, est=4.7164179104477615, details={'actual_k': 0, 'was_impossible': False}),\n",
       " Prediction(uid='APLH11DZ0HL69', iid='B000092YPR', r_ui=5.0, est=3.924092409240924, details={'actual_k': 0, 'was_impossible': False}),\n",
       " Prediction(uid='A1MPY4NZX3I0P6', iid='B0007SPMUS', r_ui=5.0, est=4.050870065449826, details={'was_impossible': True, 'reason': 'User and/or item is unkown.'}),\n",
       " Prediction(uid='ABA21FXYCLRKR', iid='B00004WCGF', r_ui=4.0, est=4.050870065449826, details={'was_impossible': True, 'reason': 'User and/or item is unkown.'}),\n",
       " Prediction(uid='A3H2UQJRV9L1HJ', iid='B00004ZC8Y', r_ui=4.0, est=4.050870065449826, details={'was_impossible': True, 'reason': 'User and/or item is unkown.'}),\n",
       " Prediction(uid='A344BMJP6A5KL1', iid='B000BQ7GW8', r_ui=5.0, est=4.556147950683106, details={'actual_k': 0, 'was_impossible': False}),\n",
       " Prediction(uid='A243M4W78QK4B2', iid='B0009JFF7A', r_ui=1.0, est=4.050870065449826, details={'was_impossible': True, 'reason': 'User and/or item is unkown.'}),\n",
       " Prediction(uid='A2VYSW6T63JF2W', iid='B000EPNES6', r_ui=5.0, est=4.050870065449826, details={'was_impossible': True, 'reason': 'User and/or item is unkown.'}),\n",
       " Prediction(uid='A3FCQ7KQBN9LB2', iid='B000FJUMWC', r_ui=3.0, est=4.0220994475138125, details={'actual_k': 0, 'was_impossible': False}),\n",
       " Prediction(uid='AKK2EG57KW4JE', iid='B0002J2MV4', r_ui=5.0, est=4.505952380952381, details={'actual_k': 0, 'was_impossible': False}),\n",
       " Prediction(uid='A3DXL3CQG43D7S', iid='B0002BRMNA', r_ui=5.0, est=4.050870065449826, details={'was_impossible': True, 'reason': 'User and/or item is unkown.'}),\n",
       " Prediction(uid='A2XG1TP2L2MFDD', iid='B0002OD3JY', r_ui=4.0, est=4.050870065449826, details={'was_impossible': True, 'reason': 'User and/or item is unkown.'}),\n",
       " Prediction(uid='A1KW8FGX6ARPQI', iid='B0009YJXMS', r_ui=5.0, est=4.050870065449826, details={'was_impossible': True, 'reason': 'User and/or item is unkown.'}),\n",
       " Prediction(uid='A1EXH0TX3R2MTE', iid='B00006HOKR', r_ui=5.0, est=4.050870065449826, details={'was_impossible': True, 'reason': 'User and/or item is unkown.'}),\n",
       " Prediction(uid='A293A3R0B2L8DQ', iid='B0002MQGOK', r_ui=4.0, est=4.294536817102138, details={'actual_k': 0, 'was_impossible': False}),\n",
       " Prediction(uid='A3EJ2DZ3S567M2', iid='B000BR0MFK', r_ui=5.0, est=4.050870065449826, details={'was_impossible': True, 'reason': 'User and/or item is unkown.'}),\n",
       " Prediction(uid='AUK81KPYXEN47', iid='B000H02B6O', r_ui=5.0, est=4.050870065449826, details={'was_impossible': True, 'reason': 'User and/or item is unkown.'}),\n",
       " Prediction(uid='AAOFLJ2LQTI6C', iid='B0007NWL70', r_ui=5.0, est=4.545, details={'actual_k': 0, 'was_impossible': False}),\n",
       " Prediction(uid='A3S42CB8765T9Q', iid='B00004SB99', r_ui=4.0, est=4.2444444444444445, details={'actual_k': 0, 'was_impossible': False}),\n",
       " Prediction(uid='A2YN565R92KMH1', iid='B000I3XIE4', r_ui=5.0, est=4.050870065449826, details={'was_impossible': True, 'reason': 'User and/or item is unkown.'}),\n",
       " Prediction(uid='A1GF6MSKPZC4D9', iid='B00012FVYC', r_ui=5.0, est=4.050870065449826, details={'was_impossible': True, 'reason': 'User and/or item is unkown.'}),\n",
       " Prediction(uid='A2O5JGZDIX2DYV', iid='B0001FTVEK', r_ui=3.0, est=4.050870065449826, details={'was_impossible': True, 'reason': 'User and/or item is unkown.'}),\n",
       " Prediction(uid='AW1ICU4WQ9I3G', iid='B000BTGVUS', r_ui=4.0, est=4.257575757575758, details={'actual_k': 0, 'was_impossible': False}),\n",
       " Prediction(uid='A2VDBYN0Z8RQCN', iid='B00008O35T', r_ui=4.0, est=4.413043478260869, details={'actual_k': 0, 'was_impossible': False}),\n",
       " Prediction(uid='A1JXAPNGNMUZEI', iid='B00028DAKW', r_ui=5.0, est=4.627450980392157, details={'actual_k': 0, 'was_impossible': False}),\n",
       " Prediction(uid='AILV3OT6NJV4D', iid='B00008OE46', r_ui=5.0, est=4.050870065449826, details={'was_impossible': True, 'reason': 'User and/or item is unkown.'}),\n",
       " Prediction(uid='A11MNKGD2VLZOB', iid='B0006ON0QQ', r_ui=5.0, est=3.7344632768361583, details={'actual_k': 0, 'was_impossible': False}),\n",
       " Prediction(uid='A2YNTLKJY2BLBQ', iid='B00004Z5M1', r_ui=2.0, est=4.050870065449826, details={'was_impossible': True, 'reason': 'User and/or item is unkown.'}),\n",
       " Prediction(uid='A2DGPY6NKRRJY5', iid='B000065BPB', r_ui=5.0, est=4.050870065449826, details={'was_impossible': True, 'reason': 'User and/or item is unkown.'}),\n",
       " Prediction(uid='AXO2I2EINB39S', iid='B00000JI4F', r_ui=5.0, est=3.8051470588235294, details={'actual_k': 0, 'was_impossible': False}),\n",
       " Prediction(uid='A3TDKWT3U69APM', iid='B0009MFV0I', r_ui=2.0, est=4.050870065449826, details={'was_impossible': True, 'reason': 'User and/or item is unkown.'}),\n",
       " Prediction(uid='AC56CI0951NTG', iid='B0002ZLYYY', r_ui=1.0, est=4.050870065449826, details={'was_impossible': True, 'reason': 'User and/or item is unkown.'}),\n",
       " Prediction(uid='A351EMN5BAVH37', iid='B0001D3K8A', r_ui=5.0, est=4.050870065449826, details={'was_impossible': True, 'reason': 'User and/or item is unkown.'}),\n",
       " Prediction(uid='A1QK4BP87XDW4M', iid='B0007ZFM38', r_ui=5.0, est=4.050870065449826, details={'was_impossible': True, 'reason': 'User and/or item is unkown.'}),\n",
       " Prediction(uid='A1NZ269JGQXL71', iid='B0007MXZB2', r_ui=2.0, est=4.050870065449826, details={'was_impossible': True, 'reason': 'User and/or item is unkown.'}),\n",
       " Prediction(uid='AVTH2O36JFVKV', iid='B000DZDSME', r_ui=5.0, est=3.0232558139534884, details={'actual_k': 0, 'was_impossible': False}),\n",
       " Prediction(uid='A35I37O2I4B4ZO', iid='B00009XVCU', r_ui=5.0, est=4.546700942587832, details={'actual_k': 1, 'was_impossible': False}),\n",
       " Prediction(uid='A1HZ31834BDTK7', iid='B000085BD8', r_ui=2.0, est=4.050870065449826, details={'was_impossible': True, 'reason': 'User and/or item is unkown.'}),\n",
       " Prediction(uid='A1NIFUKZLPH0O1', iid='B0002KVQBA', r_ui=5.0, est=4.575304022450888, details={'actual_k': 0, 'was_impossible': False}),\n",
       " Prediction(uid='A32WJ62MN3J0HC', iid='B00008KWWF', r_ui=4.0, est=4.050870065449826, details={'was_impossible': True, 'reason': 'User and/or item is unkown.'}),\n",
       " Prediction(uid='A1XMAR5V7YWMY4', iid='B00009EHJV', r_ui=2.0, est=4.050870065449826, details={'was_impossible': True, 'reason': 'User and/or item is unkown.'}),\n",
       " Prediction(uid='A11NNJSM6OVXV5', iid='B000E0DU7G', r_ui=1.0, est=4.050870065449826, details={'was_impossible': True, 'reason': 'User and/or item is unkown.'}),\n",
       " Prediction(uid='A2TUB7T3RS28JM', iid='B000BRO3PA', r_ui=2.0, est=4.050870065449826, details={'was_impossible': True, 'reason': 'User and/or item is unkown.'}),\n",
       " Prediction(uid='A3IBUF3JFW2KG5', iid='B0002VO7HO', r_ui=4.0, est=4.050870065449826, details={'was_impossible': True, 'reason': 'User and/or item is unkown.'}),\n",
       " Prediction(uid='A3GW639VY3QR2M', iid='B00000JDHV', r_ui=5.0, est=3.914285714285714, details={'actual_k': 0, 'was_impossible': False}),\n",
       " Prediction(uid='A160NEMUNL9RYV', iid='B000FOYMKU', r_ui=3.0, est=4.050870065449826, details={'was_impossible': True, 'reason': 'User and/or item is unkown.'}),\n",
       " Prediction(uid='ALCAUHCUP0OH7', iid='B000BAX50G', r_ui=4.0, est=4.050870065449826, details={'was_impossible': True, 'reason': 'User and/or item is unkown.'}),\n",
       " Prediction(uid='A2TWNR1G92O51V', iid='B00029U1DK', r_ui=5.0, est=4.050870065449826, details={'was_impossible': True, 'reason': 'User and/or item is unkown.'}),\n",
       " Prediction(uid='A2CX79FL19TP46', iid='B00012OJ22', r_ui=5.0, est=4.044444444444444, details={'actual_k': 0, 'was_impossible': False}),\n",
       " Prediction(uid='A2Z78I2972Y9IX', iid='B0007QN18U', r_ui=5.0, est=4.050870065449826, details={'was_impossible': True, 'reason': 'User and/or item is unkown.'}),\n",
       " Prediction(uid='AFH8E68EY1XRK', iid='B00067PWFU', r_ui=4.0, est=4.050870065449826, details={'was_impossible': True, 'reason': 'User and/or item is unkown.'}),\n",
       " Prediction(uid='A1USO1P7JLSUHE', iid='B00004WCID', r_ui=5.0, est=4.050870065449826, details={'was_impossible': True, 'reason': 'User and/or item is unkown.'}),\n",
       " Prediction(uid='A3M43RY36HNZW8', iid='B0002K6Y1C', r_ui=2.0, est=4.5, details={'actual_k': 0, 'was_impossible': False}),\n",
       " Prediction(uid='ALNOAS6HQ5573', iid='B000HZDF8W', r_ui=3.0, est=4.050870065449826, details={'was_impossible': True, 'reason': 'User and/or item is unkown.'}),\n",
       " Prediction(uid='A2L0YVT50ZTVZM', iid='B00028ONIA', r_ui=1.0, est=4.050870065449826, details={'was_impossible': True, 'reason': 'User and/or item is unkown.'}),\n",
       " Prediction(uid='A28KVV4QM8C17E', iid='B0002L5R78', r_ui=5.0, est=4.050870065449826, details={'was_impossible': True, 'reason': 'User and/or item is unkown.'}),\n",
       " Prediction(uid='A3B825H43ZJBCY', iid='B000BI2180', r_ui=4.0, est=3.8329979879275653, details={'actual_k': 0, 'was_impossible': False}),\n",
       " Prediction(uid='A2TJNYT5O6BLGH', iid='B00008EM7U', r_ui=5.0, est=3.4649122807017543, details={'actual_k': 0, 'was_impossible': False}),\n",
       " Prediction(uid='A2O4D9K0DT0DPA', iid='B00005T380', r_ui=4.0, est=4.6513409961685825, details={'actual_k': 0, 'was_impossible': False}),\n",
       " Prediction(uid='A27UW0BS75YSBW', iid='B000CKVOOY', r_ui=4.0, est=4.050870065449826, details={'was_impossible': True, 'reason': 'User and/or item is unkown.'}),\n",
       " Prediction(uid='A2FPV4MDWR2UVV', iid='B000096B01', r_ui=5.0, est=4.050870065449826, details={'was_impossible': True, 'reason': 'User and/or item is unkown.'}),\n",
       " Prediction(uid='AB5HWD6RXNHVV', iid='B000ARAPQW', r_ui=5.0, est=3.7248322147651005, details={'actual_k': 0, 'was_impossible': False}),\n",
       " Prediction(uid='A1VTIPWVHERCEE', iid='B0009OAFJ8', r_ui=4.0, est=4.050870065449826, details={'was_impossible': True, 'reason': 'User and/or item is unkown.'}),\n",
       " Prediction(uid='A3QK7K1CHPCTQT', iid='B0009JZSKO', r_ui=5.0, est=4.050870065449826, details={'was_impossible': True, 'reason': 'User and/or item is unkown.'}),\n",
       " Prediction(uid='A13D742MWRLM4X', iid='B000I4RMOU', r_ui=2.0, est=4.050870065449826, details={'was_impossible': True, 'reason': 'User and/or item is unkown.'}),\n",
       " Prediction(uid='A3SD3KC3C9MXGL', iid='B00025742A', r_ui=5.0, est=4.050870065449826, details={'was_impossible': True, 'reason': 'User and/or item is unkown.'}),\n",
       " Prediction(uid='A2BDHYJD60N1AO', iid='B0001A3N6C', r_ui=5.0, est=4.050870065449826, details={'was_impossible': True, 'reason': 'User and/or item is unkown.'}),\n",
       " Prediction(uid='A2UMYQ6BAIV9DS', iid='B0002F3G7M', r_ui=5.0, est=4.050870065449826, details={'was_impossible': True, 'reason': 'User and/or item is unkown.'}),\n",
       " Prediction(uid='A1YECTLG5TG01K', iid='B000928KII', r_ui=5.0, est=4.050870065449826, details={'was_impossible': True, 'reason': 'User and/or item is unkown.'}),\n",
       " Prediction(uid='A1IYKN7YNTKGFI', iid='B000BQ7GW8', r_ui=4.0, est=4.050870065449826, details={'was_impossible': True, 'reason': 'User and/or item is unkown.'}),\n",
       " Prediction(uid='A3G8R3CAHTF9SV', iid='B0003NN83U', r_ui=5.0, est=4.050870065449826, details={'was_impossible': True, 'reason': 'User and/or item is unkown.'}),\n",
       " Prediction(uid='ANTR66FRJH7CE', iid='B00006B9HC', r_ui=4.0, est=4.050870065449826, details={'was_impossible': True, 'reason': 'User and/or item is unkown.'}),\n",
       " Prediction(uid='AXIPWBZ0B1B60', iid='B0002D03ZW', r_ui=5.0, est=4.050870065449826, details={'was_impossible': True, 'reason': 'User and/or item is unkown.'}),\n",
       " Prediction(uid='ANBEYL4U22V25', iid='B00009EHJV', r_ui=4.0, est=4.050870065449826, details={'was_impossible': True, 'reason': 'User and/or item is unkown.'}),\n",
       " Prediction(uid='A2AM2NUXWIYRDM', iid='B000CS1TLE', r_ui=4.0, est=4.050870065449826, details={'was_impossible': True, 'reason': 'User and/or item is unkown.'}),\n",
       " Prediction(uid='A3135K3EQ60AA3', iid='B00009X6PT', r_ui=1.0, est=4.050870065449826, details={'was_impossible': True, 'reason': 'User and/or item is unkown.'}),\n",
       " Prediction(uid='A2KGIDFMFX03HM', iid='B000A1FFOK', r_ui=5.0, est=4.050870065449826, details={'was_impossible': True, 'reason': 'User and/or item is unkown.'}),\n",
       " Prediction(uid='A3EZJ2PDAMEAFI', iid='B000GU88CQ', r_ui=5.0, est=4.050870065449826, details={'was_impossible': True, 'reason': 'User and/or item is unkown.'}),\n",
       " Prediction(uid='A3N3EKLMQMNFHN', iid='B00011KLOI', r_ui=5.0, est=4.050870065449826, details={'was_impossible': True, 'reason': 'User and/or item is unkown.'}),\n",
       " Prediction(uid='A2FT47QVQ47F0U', iid='B000CRT07U', r_ui=5.0, est=4.050870065449826, details={'was_impossible': True, 'reason': 'User and/or item is unkown.'}),\n",
       " Prediction(uid='A1RYZRYXB6X60C', iid='B00006I53W', r_ui=5.0, est=4.875968992248062, details={'actual_k': 0, 'was_impossible': False}),\n",
       " Prediction(uid='A3EDMRG9TK6L66', iid='B0002DG0OA', r_ui=4.0, est=4.050870065449826, details={'was_impossible': True, 'reason': 'User and/or item is unkown.'}),\n",
       " Prediction(uid='A1AO1HGGQ7F3BL', iid='B000A6NV0U', r_ui=5.0, est=4.050870065449826, details={'was_impossible': True, 'reason': 'User and/or item is unkown.'}),\n",
       " Prediction(uid='AMZTVXGJ0OMXO', iid='B0002U1TJY', r_ui=5.0, est=4.050870065449826, details={'was_impossible': True, 'reason': 'User and/or item is unkown.'}),\n",
       " Prediction(uid='A1D5URI0CZY6WX', iid='B000C1Z0HA', r_ui=5.0, est=4.050870065449826, details={'was_impossible': True, 'reason': 'User and/or item is unkown.'}),\n",
       " Prediction(uid='AWKGVBDPO4YXS', iid='B0002BEUZ8', r_ui=5.0, est=4.050870065449826, details={'was_impossible': True, 'reason': 'User and/or item is unkown.'}),\n",
       " Prediction(uid='A1NEL661KNJR4A', iid='B000CKVOOY', r_ui=5.0, est=4.710244648318043, details={'actual_k': 0, 'was_impossible': False}),\n",
       " Prediction(uid='A2F6S6RODPDJJL', iid='B0007XJSQC', r_ui=3.0, est=4.050870065449826, details={'was_impossible': True, 'reason': 'User and/or item is unkown.'}),\n",
       " Prediction(uid='A2WM1KL9DQSQ18', iid='B000085ZKV', r_ui=4.0, est=2.356164383561644, details={'actual_k': 0, 'was_impossible': False}),\n",
       " Prediction(uid='AS6HY92W5YQH', iid='B000F7JCRA', r_ui=1.0, est=4.25, details={'actual_k': 0, 'was_impossible': False}),\n",
       " Prediction(uid='A2A57RXJ3MMT9J', iid='B00007EDZG', r_ui=4.0, est=4.430693069306931, details={'actual_k': 0, 'was_impossible': False}),\n",
       " Prediction(uid='A354G6DF1931AQ', iid='B00066IJPQ', r_ui=4.0, est=4.050870065449826, details={'was_impossible': True, 'reason': 'User and/or item is unkown.'}),\n",
       " Prediction(uid='A1PQ3FIGSFTMN7', iid='B00006B82N', r_ui=5.0, est=4.050870065449826, details={'was_impossible': True, 'reason': 'User and/or item is unkown.'}),\n",
       " Prediction(uid='A2W5Y9BTIA9ASA', iid='B000BP50AY', r_ui=5.0, est=4.050870065449826, details={'was_impossible': True, 'reason': 'User and/or item is unkown.'}),\n",
       " Prediction(uid='A3777T16LVJEUS', iid='B0007WK8LC', r_ui=3.0, est=4.050870065449826, details={'was_impossible': True, 'reason': 'User and/or item is unkown.'}),\n",
       " Prediction(uid='A3B0TX0QRN7WQ9', iid='B000EVM5DU', r_ui=5.0, est=4.050870065449826, details={'was_impossible': True, 'reason': 'User and/or item is unkown.'}),\n",
       " Prediction(uid='A207LJRAH17N7I', iid='B00069BVIK', r_ui=5.0, est=4.050870065449826, details={'was_impossible': True, 'reason': 'User and/or item is unkown.'}),\n",
       " Prediction(uid='ANTUN5NU3UP80', iid='B000HZEX1K', r_ui=1.0, est=4.050870065449826, details={'was_impossible': True, 'reason': 'User and/or item is unkown.'}),\n",
       " Prediction(uid='A252F712DXWRSB', iid='B000CSWHCY', r_ui=4.0, est=4.050870065449826, details={'was_impossible': True, 'reason': 'User and/or item is unkown.'}),\n",
       " Prediction(uid='A37WS5LGXSHKVT', iid='B000BQ7GW8', r_ui=5.0, est=4.050870065449826, details={'was_impossible': True, 'reason': 'User and/or item is unkown.'}),\n",
       " Prediction(uid='A29WKHA2KHB4NE', iid='B000IBLMHQ', r_ui=5.0, est=4.375, details={'actual_k': 0, 'was_impossible': False}),\n",
       " Prediction(uid='A28P96T5G5EL8W', iid='B0007VMROE', r_ui=5.0, est=4.050870065449826, details={'was_impossible': True, 'reason': 'User and/or item is unkown.'}),\n",
       " Prediction(uid='A1AXJJTN6GPQ0I', iid='B00009R98A', r_ui=4.0, est=4.43859649122807, details={'actual_k': 0, 'was_impossible': False}),\n",
       " Prediction(uid='A3BB0VCA1RV7VF', iid='B000EPLP3C', r_ui=1.0, est=4.050870065449826, details={'was_impossible': True, 'reason': 'User and/or item is unkown.'}),\n",
       " Prediction(uid='A2FDV397XG6O0Q', iid='B000067RC4', r_ui=5.0, est=4.050870065449826, details={'was_impossible': True, 'reason': 'User and/or item is unkown.'}),\n",
       " Prediction(uid='A1W08VMZJMBB13', iid='B000EPLP3C', r_ui=5.0, est=4.050870065449826, details={'was_impossible': True, 'reason': 'User and/or item is unkown.'}),\n",
       " Prediction(uid='A3RIYAAACTYD3S', iid='B00005N6KG', r_ui=5.0, est=4.050870065449826, details={'was_impossible': True, 'reason': 'User and/or item is unkown.'}),\n",
       " Prediction(uid='A162BMXVYNP58A', iid='B00008ZPJU', r_ui=5.0, est=4.050870065449826, details={'was_impossible': True, 'reason': 'User and/or item is unkown.'}),\n",
       " Prediction(uid='AQR3OG0KHIQ6R', iid='B00064O1P0', r_ui=5.0, est=4.131868131868132, details={'actual_k': 0, 'was_impossible': False}),\n",
       " Prediction(uid='A1DBFOH9EC2U5E', iid='B0007WZLDC', r_ui=4.0, est=4.050870065449826, details={'was_impossible': True, 'reason': 'User and/or item is unkown.'}),\n",
       " Prediction(uid='A3T3OSRNXHRA0D', iid='B000EJVWGS', r_ui=4.0, est=4.5131578947368425, details={'actual_k': 0, 'was_impossible': False}),\n",
       " Prediction(uid='A19PUPLQ30WRHX', iid='B000117DF8', r_ui=5.0, est=4.050870065449826, details={'was_impossible': True, 'reason': 'User and/or item is unkown.'}),\n",
       " Prediction(uid='A34KMXMZTKPF45', iid='B000B9O83A', r_ui=5.0, est=4.414893617021277, details={'actual_k': 0, 'was_impossible': False}),\n",
       " Prediction(uid='A1M6KQM4W2G7JK', iid='B000ANGNN0', r_ui=5.0, est=4.050870065449826, details={'was_impossible': True, 'reason': 'User and/or item is unkown.'}),\n",
       " Prediction(uid='A2VW4OJZ72UYMV', iid='B000IBNXX2', r_ui=5.0, est=4.050870065449826, details={'was_impossible': True, 'reason': 'User and/or item is unkown.'}),\n",
       " Prediction(uid='A1KIOMFS41P2FI', iid='B000BSLTIS', r_ui=1.0, est=4.050870065449826, details={'was_impossible': True, 'reason': 'User and/or item is unkown.'}),\n",
       " Prediction(uid='A3SSDQFBBVDGRS', iid='B000DZDP9K', r_ui=5.0, est=3.6444444444444444, details={'actual_k': 0, 'was_impossible': False}),\n",
       " Prediction(uid='A1SJ4E4I684N6M', iid='0972683275', r_ui=5.0, est=4.050870065449826, details={'was_impossible': True, 'reason': 'User and/or item is unkown.'}),\n",
       " Prediction(uid='A1X4PMDX0HSIIU', iid='B00080B0KQ', r_ui=5.0, est=4.050870065449826, details={'was_impossible': True, 'reason': 'User and/or item is unkown.'}),\n",
       " Prediction(uid='A1GJ35HP82C0P', iid='B000BYCKUI', r_ui=5.0, est=4.095238095238095, details={'actual_k': 0, 'was_impossible': False}),\n",
       " Prediction(uid='A2WSOU3H2ESOLY', iid='B00005ARK3', r_ui=5.0, est=4.050870065449826, details={'was_impossible': True, 'reason': 'User and/or item is unkown.'}),\n",
       " Prediction(uid='A2XY732R0AEV2A', iid='B0007U0IQE', r_ui=3.0, est=4.050870065449826, details={'was_impossible': True, 'reason': 'User and/or item is unkown.'}),\n",
       " Prediction(uid='A27SG07M1HW2XN', iid='B0000A98AC', r_ui=2.0, est=3.757575757575758, details={'actual_k': 0, 'was_impossible': False}),\n",
       " Prediction(uid='AIBYKX9DVNYRK', iid='B000BTH36E', r_ui=5.0, est=4.050870065449826, details={'was_impossible': True, 'reason': 'User and/or item is unkown.'}),\n",
       " Prediction(uid='A32X30YGYWDTCZ', iid='B000H7GFWS', r_ui=2.0, est=4.050870065449826, details={'was_impossible': True, 'reason': 'User and/or item is unkown.'}),\n",
       " Prediction(uid='A1S80XSY3I47OQ', iid='B00004SABB', r_ui=5.0, est=4.050870065449826, details={'was_impossible': True, 'reason': 'User and/or item is unkown.'}),\n",
       " Prediction(uid='ACP6WVC7URYG4', iid='B000BWACX2', r_ui=4.0, est=4.050870065449826, details={'was_impossible': True, 'reason': 'User and/or item is unkown.'}),\n",
       " Prediction(uid='AZXLIYCZHA742', iid='B0009Y7APU', r_ui=5.0, est=4.050870065449826, details={'was_impossible': True, 'reason': 'User and/or item is unkown.'}),\n",
       " Prediction(uid='A1MX4N5OTYH0GF', iid='B0007QU6WY', r_ui=3.0, est=4.563380281690141, details={'actual_k': 0, 'was_impossible': False}),\n",
       " Prediction(uid='A25L5PKR14GXAI', iid='B0000642RX', r_ui=4.0, est=4.050870065449826, details={'was_impossible': True, 'reason': 'User and/or item is unkown.'}),\n",
       " Prediction(uid='A2R9DK7JEEQD2D', iid='B000067RVL', r_ui=5.0, est=4.753353666436509, details={'actual_k': 1, 'was_impossible': False}),\n",
       " Prediction(uid='A1T5PHQ5R6G8LG', iid='B000HZDF8W', r_ui=1.0, est=4.050870065449826, details={'was_impossible': True, 'reason': 'User and/or item is unkown.'}),\n",
       " Prediction(uid='A1YT4DXJ4CMFKG', iid='B0006TI9WG', r_ui=5.0, est=4.050870065449826, details={'was_impossible': True, 'reason': 'User and/or item is unkown.'}),\n",
       " Prediction(uid='A1FMZHUO378RO8', iid='B00004Z5M1', r_ui=4.0, est=4.050870065449826, details={'was_impossible': True, 'reason': 'User and/or item is unkown.'}),\n",
       " Prediction(uid='A3OMCYZ9JARADX', iid='B00005AXHW', r_ui=5.0, est=4.5141242937853105, details={'actual_k': 0, 'was_impossible': False}),\n",
       " Prediction(uid='A2CMUPW76Z8C3M', iid='B000FOYMKU', r_ui=5.0, est=4.050870065449826, details={'was_impossible': True, 'reason': 'User and/or item is unkown.'}),\n",
       " Prediction(uid='A25WGPSWTK9EP1', iid='B000CSOXTO', r_ui=4.0, est=4.050870065449826, details={'was_impossible': True, 'reason': 'User and/or item is unkown.'}),\n",
       " ...]"
      ]
     },
     "execution_count": 36,
     "metadata": {},
     "output_type": "execute_result"
    }
   ],
   "source": [
    "test_pred"
   ]
  },
  {
   "cell_type": "code",
   "execution_count": 37,
   "metadata": {},
   "outputs": [
    {
     "name": "stdout",
     "output_type": "stream",
     "text": [
      "Item-based Model : Test Set\n",
      "RMSE: 1.3436\n"
     ]
    },
    {
     "data": {
      "text/plain": [
       "1.343641161111319"
      ]
     },
     "execution_count": 37,
     "metadata": {},
     "output_type": "execute_result"
    }
   ],
   "source": [
    "# get RMSE\n",
    "print(\"Item-based Model : Test Set\")\n",
    "accuracy.rmse(test_pred, verbose=True)"
   ]
  },
  {
   "cell_type": "code",
   "execution_count": 38,
   "metadata": {},
   "outputs": [
    {
     "data": {
      "text/html": [
       "<div>\n",
       "<style scoped>\n",
       "    .dataframe tbody tr th:only-of-type {\n",
       "        vertical-align: middle;\n",
       "    }\n",
       "\n",
       "    .dataframe tbody tr th {\n",
       "        vertical-align: top;\n",
       "    }\n",
       "\n",
       "    .dataframe thead th {\n",
       "        text-align: right;\n",
       "    }\n",
       "</style>\n",
       "<table border=\"1\" class=\"dataframe\">\n",
       "  <thead>\n",
       "    <tr style=\"text-align: right;\">\n",
       "      <th>productId</th>\n",
       "      <th>0972683275</th>\n",
       "      <th>1400501466</th>\n",
       "      <th>1400501520</th>\n",
       "      <th>1400501776</th>\n",
       "      <th>1400532620</th>\n",
       "      <th>1400532655</th>\n",
       "      <th>140053271X</th>\n",
       "      <th>1400532736</th>\n",
       "      <th>1400599997</th>\n",
       "      <th>1400698987</th>\n",
       "      <th>...</th>\n",
       "      <th>B00000JFMK</th>\n",
       "      <th>B00000JHWX</th>\n",
       "      <th>B00000JI4F</th>\n",
       "      <th>B00000JII6</th>\n",
       "      <th>B00000JMUG</th>\n",
       "      <th>B00000JPPI</th>\n",
       "      <th>B00000JSGF</th>\n",
       "      <th>B00000JYLO</th>\n",
       "      <th>B00000JYWQ</th>\n",
       "      <th>B00000K135</th>\n",
       "    </tr>\n",
       "    <tr>\n",
       "      <th>userId</th>\n",
       "      <th></th>\n",
       "      <th></th>\n",
       "      <th></th>\n",
       "      <th></th>\n",
       "      <th></th>\n",
       "      <th></th>\n",
       "      <th></th>\n",
       "      <th></th>\n",
       "      <th></th>\n",
       "      <th></th>\n",
       "      <th></th>\n",
       "      <th></th>\n",
       "      <th></th>\n",
       "      <th></th>\n",
       "      <th></th>\n",
       "      <th></th>\n",
       "      <th></th>\n",
       "      <th></th>\n",
       "      <th></th>\n",
       "      <th></th>\n",
       "      <th></th>\n",
       "    </tr>\n",
       "  </thead>\n",
       "  <tbody>\n",
       "    <tr>\n",
       "      <td>A01852072Z7B68UHLI5UG</td>\n",
       "      <td>0</td>\n",
       "      <td>0</td>\n",
       "      <td>0</td>\n",
       "      <td>0</td>\n",
       "      <td>0</td>\n",
       "      <td>0</td>\n",
       "      <td>0</td>\n",
       "      <td>0</td>\n",
       "      <td>0</td>\n",
       "      <td>0</td>\n",
       "      <td>...</td>\n",
       "      <td>0</td>\n",
       "      <td>0</td>\n",
       "      <td>0</td>\n",
       "      <td>0</td>\n",
       "      <td>0</td>\n",
       "      <td>0</td>\n",
       "      <td>0</td>\n",
       "      <td>0</td>\n",
       "      <td>0</td>\n",
       "      <td>0</td>\n",
       "    </tr>\n",
       "    <tr>\n",
       "      <td>A0266076X6KPZ6CCHGVS</td>\n",
       "      <td>0</td>\n",
       "      <td>0</td>\n",
       "      <td>0</td>\n",
       "      <td>0</td>\n",
       "      <td>0</td>\n",
       "      <td>0</td>\n",
       "      <td>0</td>\n",
       "      <td>0</td>\n",
       "      <td>0</td>\n",
       "      <td>0</td>\n",
       "      <td>...</td>\n",
       "      <td>0</td>\n",
       "      <td>0</td>\n",
       "      <td>0</td>\n",
       "      <td>0</td>\n",
       "      <td>0</td>\n",
       "      <td>0</td>\n",
       "      <td>0</td>\n",
       "      <td>0</td>\n",
       "      <td>0</td>\n",
       "      <td>0</td>\n",
       "    </tr>\n",
       "    <tr>\n",
       "      <td>A0293130VTX2ZXA70JQS</td>\n",
       "      <td>5</td>\n",
       "      <td>0</td>\n",
       "      <td>0</td>\n",
       "      <td>0</td>\n",
       "      <td>0</td>\n",
       "      <td>0</td>\n",
       "      <td>0</td>\n",
       "      <td>0</td>\n",
       "      <td>0</td>\n",
       "      <td>0</td>\n",
       "      <td>...</td>\n",
       "      <td>0</td>\n",
       "      <td>0</td>\n",
       "      <td>0</td>\n",
       "      <td>0</td>\n",
       "      <td>0</td>\n",
       "      <td>0</td>\n",
       "      <td>0</td>\n",
       "      <td>0</td>\n",
       "      <td>0</td>\n",
       "      <td>0</td>\n",
       "    </tr>\n",
       "    <tr>\n",
       "      <td>A030530627MK66BD8V4LN</td>\n",
       "      <td>4</td>\n",
       "      <td>0</td>\n",
       "      <td>0</td>\n",
       "      <td>0</td>\n",
       "      <td>0</td>\n",
       "      <td>0</td>\n",
       "      <td>0</td>\n",
       "      <td>0</td>\n",
       "      <td>0</td>\n",
       "      <td>0</td>\n",
       "      <td>...</td>\n",
       "      <td>0</td>\n",
       "      <td>0</td>\n",
       "      <td>0</td>\n",
       "      <td>0</td>\n",
       "      <td>0</td>\n",
       "      <td>0</td>\n",
       "      <td>0</td>\n",
       "      <td>0</td>\n",
       "      <td>0</td>\n",
       "      <td>0</td>\n",
       "    </tr>\n",
       "    <tr>\n",
       "      <td>A0571176384K8RBNKGF8O</td>\n",
       "      <td>0</td>\n",
       "      <td>0</td>\n",
       "      <td>0</td>\n",
       "      <td>0</td>\n",
       "      <td>0</td>\n",
       "      <td>0</td>\n",
       "      <td>0</td>\n",
       "      <td>0</td>\n",
       "      <td>0</td>\n",
       "      <td>0</td>\n",
       "      <td>...</td>\n",
       "      <td>0</td>\n",
       "      <td>0</td>\n",
       "      <td>0</td>\n",
       "      <td>0</td>\n",
       "      <td>0</td>\n",
       "      <td>0</td>\n",
       "      <td>0</td>\n",
       "      <td>0</td>\n",
       "      <td>0</td>\n",
       "      <td>0</td>\n",
       "    </tr>\n",
       "  </tbody>\n",
       "</table>\n",
       "<p>5 rows × 76 columns</p>\n",
       "</div>"
      ],
      "text/plain": [
       "productId              0972683275  1400501466  1400501520  1400501776  \\\n",
       "userId                                                                  \n",
       "A01852072Z7B68UHLI5UG           0           0           0           0   \n",
       "A0266076X6KPZ6CCHGVS            0           0           0           0   \n",
       "A0293130VTX2ZXA70JQS            5           0           0           0   \n",
       "A030530627MK66BD8V4LN           4           0           0           0   \n",
       "A0571176384K8RBNKGF8O           0           0           0           0   \n",
       "\n",
       "productId              1400532620  1400532655  140053271X  1400532736  \\\n",
       "userId                                                                  \n",
       "A01852072Z7B68UHLI5UG           0           0           0           0   \n",
       "A0266076X6KPZ6CCHGVS            0           0           0           0   \n",
       "A0293130VTX2ZXA70JQS            0           0           0           0   \n",
       "A030530627MK66BD8V4LN           0           0           0           0   \n",
       "A0571176384K8RBNKGF8O           0           0           0           0   \n",
       "\n",
       "productId              1400599997  1400698987  ...  B00000JFMK  B00000JHWX  \\\n",
       "userId                                         ...                           \n",
       "A01852072Z7B68UHLI5UG           0           0  ...           0           0   \n",
       "A0266076X6KPZ6CCHGVS            0           0  ...           0           0   \n",
       "A0293130VTX2ZXA70JQS            0           0  ...           0           0   \n",
       "A030530627MK66BD8V4LN           0           0  ...           0           0   \n",
       "A0571176384K8RBNKGF8O           0           0  ...           0           0   \n",
       "\n",
       "productId              B00000JI4F  B00000JII6  B00000JMUG  B00000JPPI  \\\n",
       "userId                                                                  \n",
       "A01852072Z7B68UHLI5UG           0           0           0           0   \n",
       "A0266076X6KPZ6CCHGVS            0           0           0           0   \n",
       "A0293130VTX2ZXA70JQS            0           0           0           0   \n",
       "A030530627MK66BD8V4LN           0           0           0           0   \n",
       "A0571176384K8RBNKGF8O           0           0           0           0   \n",
       "\n",
       "productId              B00000JSGF  B00000JYLO  B00000JYWQ  B00000K135  \n",
       "userId                                                                 \n",
       "A01852072Z7B68UHLI5UG           0           0           0           0  \n",
       "A0266076X6KPZ6CCHGVS            0           0           0           0  \n",
       "A0293130VTX2ZXA70JQS            0           0           0           0  \n",
       "A030530627MK66BD8V4LN           0           0           0           0  \n",
       "A0571176384K8RBNKGF8O           0           0           0           0  \n",
       "\n",
       "[5 rows x 76 columns]"
      ]
     },
     "execution_count": 38,
     "metadata": {},
     "output_type": "execute_result"
    }
   ],
   "source": [
    "# Model-based collaborative filtering system\n",
    "users_50ormore_ratings_top10000=users_50ormore_ratings.head(10000)\n",
    "ratings_utility_matrix = users_50ormore_ratings_top10000.pivot_table(values='rating', index='userId', columns='productId', fill_value=0)\n",
    "ratings_utility_matrix.head()"
   ]
  },
  {
   "cell_type": "markdown",
   "metadata": {},
   "source": [
    "#### Observation :\n",
    "<ul>\n",
    "    <li>As expected, the utility matrix obtained above is sparce, the unknown values are filled up with 0.</li>\n",
    "</ul>"
   ]
  },
  {
   "cell_type": "code",
   "execution_count": 39,
   "metadata": {},
   "outputs": [
    {
     "data": {
      "text/plain": [
       "(9832, 76)"
      ]
     },
     "execution_count": 39,
     "metadata": {},
     "output_type": "execute_result"
    }
   ],
   "source": [
    "ratings_utility_matrix.shape"
   ]
  },
  {
   "cell_type": "code",
   "execution_count": 40,
   "metadata": {},
   "outputs": [
    {
     "data": {
      "text/html": [
       "<div>\n",
       "<style scoped>\n",
       "    .dataframe tbody tr th:only-of-type {\n",
       "        vertical-align: middle;\n",
       "    }\n",
       "\n",
       "    .dataframe tbody tr th {\n",
       "        vertical-align: top;\n",
       "    }\n",
       "\n",
       "    .dataframe thead th {\n",
       "        text-align: right;\n",
       "    }\n",
       "</style>\n",
       "<table border=\"1\" class=\"dataframe\">\n",
       "  <thead>\n",
       "    <tr style=\"text-align: right;\">\n",
       "      <th>userId</th>\n",
       "      <th>A01852072Z7B68UHLI5UG</th>\n",
       "      <th>A0266076X6KPZ6CCHGVS</th>\n",
       "      <th>A0293130VTX2ZXA70JQS</th>\n",
       "      <th>A030530627MK66BD8V4LN</th>\n",
       "      <th>A0571176384K8RBNKGF8O</th>\n",
       "      <th>A0590501PZ7HOWJKBGQ4</th>\n",
       "      <th>A0641581307AKT5MAOU0Q</th>\n",
       "      <th>A076219533YHEV2LJO988</th>\n",
       "      <th>A0821988FXKFYX53V4QG</th>\n",
       "      <th>A099626739FNCRNHIKBCG</th>\n",
       "      <th>...</th>\n",
       "      <th>AZWOPBY75SGAM</th>\n",
       "      <th>AZX0ZDVAFMN78</th>\n",
       "      <th>AZX5LAN9JEAFF</th>\n",
       "      <th>AZX7I110AF0W2</th>\n",
       "      <th>AZXKUK895VGSM</th>\n",
       "      <th>AZXP46IB63PU8</th>\n",
       "      <th>AZYTSU42BZ7TP</th>\n",
       "      <th>AZZGJ2KMWB7R</th>\n",
       "      <th>AZZMV5VT9W7Y8</th>\n",
       "      <th>AZZST8OYL5P4Q</th>\n",
       "    </tr>\n",
       "    <tr>\n",
       "      <th>productId</th>\n",
       "      <th></th>\n",
       "      <th></th>\n",
       "      <th></th>\n",
       "      <th></th>\n",
       "      <th></th>\n",
       "      <th></th>\n",
       "      <th></th>\n",
       "      <th></th>\n",
       "      <th></th>\n",
       "      <th></th>\n",
       "      <th></th>\n",
       "      <th></th>\n",
       "      <th></th>\n",
       "      <th></th>\n",
       "      <th></th>\n",
       "      <th></th>\n",
       "      <th></th>\n",
       "      <th></th>\n",
       "      <th></th>\n",
       "      <th></th>\n",
       "      <th></th>\n",
       "    </tr>\n",
       "  </thead>\n",
       "  <tbody>\n",
       "    <tr>\n",
       "      <td>0972683275</td>\n",
       "      <td>0</td>\n",
       "      <td>0</td>\n",
       "      <td>5</td>\n",
       "      <td>4</td>\n",
       "      <td>0</td>\n",
       "      <td>0</td>\n",
       "      <td>0</td>\n",
       "      <td>0</td>\n",
       "      <td>0</td>\n",
       "      <td>0</td>\n",
       "      <td>...</td>\n",
       "      <td>0</td>\n",
       "      <td>0</td>\n",
       "      <td>0</td>\n",
       "      <td>0</td>\n",
       "      <td>0</td>\n",
       "      <td>0</td>\n",
       "      <td>0</td>\n",
       "      <td>0</td>\n",
       "      <td>0</td>\n",
       "      <td>0</td>\n",
       "    </tr>\n",
       "    <tr>\n",
       "      <td>1400501466</td>\n",
       "      <td>0</td>\n",
       "      <td>0</td>\n",
       "      <td>0</td>\n",
       "      <td>0</td>\n",
       "      <td>0</td>\n",
       "      <td>0</td>\n",
       "      <td>0</td>\n",
       "      <td>0</td>\n",
       "      <td>0</td>\n",
       "      <td>0</td>\n",
       "      <td>...</td>\n",
       "      <td>0</td>\n",
       "      <td>0</td>\n",
       "      <td>0</td>\n",
       "      <td>0</td>\n",
       "      <td>0</td>\n",
       "      <td>0</td>\n",
       "      <td>0</td>\n",
       "      <td>0</td>\n",
       "      <td>0</td>\n",
       "      <td>0</td>\n",
       "    </tr>\n",
       "    <tr>\n",
       "      <td>1400501520</td>\n",
       "      <td>0</td>\n",
       "      <td>0</td>\n",
       "      <td>0</td>\n",
       "      <td>0</td>\n",
       "      <td>0</td>\n",
       "      <td>0</td>\n",
       "      <td>0</td>\n",
       "      <td>0</td>\n",
       "      <td>0</td>\n",
       "      <td>3</td>\n",
       "      <td>...</td>\n",
       "      <td>0</td>\n",
       "      <td>0</td>\n",
       "      <td>0</td>\n",
       "      <td>0</td>\n",
       "      <td>0</td>\n",
       "      <td>0</td>\n",
       "      <td>0</td>\n",
       "      <td>0</td>\n",
       "      <td>0</td>\n",
       "      <td>0</td>\n",
       "    </tr>\n",
       "    <tr>\n",
       "      <td>1400501776</td>\n",
       "      <td>0</td>\n",
       "      <td>0</td>\n",
       "      <td>0</td>\n",
       "      <td>0</td>\n",
       "      <td>0</td>\n",
       "      <td>0</td>\n",
       "      <td>0</td>\n",
       "      <td>0</td>\n",
       "      <td>0</td>\n",
       "      <td>0</td>\n",
       "      <td>...</td>\n",
       "      <td>0</td>\n",
       "      <td>0</td>\n",
       "      <td>0</td>\n",
       "      <td>0</td>\n",
       "      <td>0</td>\n",
       "      <td>0</td>\n",
       "      <td>0</td>\n",
       "      <td>0</td>\n",
       "      <td>1</td>\n",
       "      <td>0</td>\n",
       "    </tr>\n",
       "    <tr>\n",
       "      <td>1400532620</td>\n",
       "      <td>0</td>\n",
       "      <td>0</td>\n",
       "      <td>0</td>\n",
       "      <td>0</td>\n",
       "      <td>0</td>\n",
       "      <td>0</td>\n",
       "      <td>0</td>\n",
       "      <td>0</td>\n",
       "      <td>0</td>\n",
       "      <td>0</td>\n",
       "      <td>...</td>\n",
       "      <td>0</td>\n",
       "      <td>0</td>\n",
       "      <td>0</td>\n",
       "      <td>0</td>\n",
       "      <td>0</td>\n",
       "      <td>0</td>\n",
       "      <td>0</td>\n",
       "      <td>0</td>\n",
       "      <td>0</td>\n",
       "      <td>0</td>\n",
       "    </tr>\n",
       "  </tbody>\n",
       "</table>\n",
       "<p>5 rows × 9832 columns</p>\n",
       "</div>"
      ],
      "text/plain": [
       "userId      A01852072Z7B68UHLI5UG  A0266076X6KPZ6CCHGVS  A0293130VTX2ZXA70JQS  \\\n",
       "productId                                                                       \n",
       "0972683275                      0                     0                     5   \n",
       "1400501466                      0                     0                     0   \n",
       "1400501520                      0                     0                     0   \n",
       "1400501776                      0                     0                     0   \n",
       "1400532620                      0                     0                     0   \n",
       "\n",
       "userId      A030530627MK66BD8V4LN  A0571176384K8RBNKGF8O  \\\n",
       "productId                                                  \n",
       "0972683275                      4                      0   \n",
       "1400501466                      0                      0   \n",
       "1400501520                      0                      0   \n",
       "1400501776                      0                      0   \n",
       "1400532620                      0                      0   \n",
       "\n",
       "userId      A0590501PZ7HOWJKBGQ4  A0641581307AKT5MAOU0Q  \\\n",
       "productId                                                 \n",
       "0972683275                     0                      0   \n",
       "1400501466                     0                      0   \n",
       "1400501520                     0                      0   \n",
       "1400501776                     0                      0   \n",
       "1400532620                     0                      0   \n",
       "\n",
       "userId      A076219533YHEV2LJO988  A0821988FXKFYX53V4QG  \\\n",
       "productId                                                 \n",
       "0972683275                      0                     0   \n",
       "1400501466                      0                     0   \n",
       "1400501520                      0                     0   \n",
       "1400501776                      0                     0   \n",
       "1400532620                      0                     0   \n",
       "\n",
       "userId      A099626739FNCRNHIKBCG  ...  AZWOPBY75SGAM  AZX0ZDVAFMN78  \\\n",
       "productId                          ...                                 \n",
       "0972683275                      0  ...              0              0   \n",
       "1400501466                      0  ...              0              0   \n",
       "1400501520                      3  ...              0              0   \n",
       "1400501776                      0  ...              0              0   \n",
       "1400532620                      0  ...              0              0   \n",
       "\n",
       "userId      AZX5LAN9JEAFF  AZX7I110AF0W2  AZXKUK895VGSM  AZXP46IB63PU8  \\\n",
       "productId                                                                \n",
       "0972683275              0              0              0              0   \n",
       "1400501466              0              0              0              0   \n",
       "1400501520              0              0              0              0   \n",
       "1400501776              0              0              0              0   \n",
       "1400532620              0              0              0              0   \n",
       "\n",
       "userId      AZYTSU42BZ7TP  AZZGJ2KMWB7R  AZZMV5VT9W7Y8  AZZST8OYL5P4Q  \n",
       "productId                                                              \n",
       "0972683275              0             0              0              0  \n",
       "1400501466              0             0              0              0  \n",
       "1400501520              0             0              0              0  \n",
       "1400501776              0             0              1              0  \n",
       "1400532620              0             0              0              0  \n",
       "\n",
       "[5 rows x 9832 columns]"
      ]
     },
     "execution_count": 40,
     "metadata": {},
     "output_type": "execute_result"
    }
   ],
   "source": [
    "# Transposing the matrix\n",
    "X = ratings_utility_matrix.T\n",
    "X.head()"
   ]
  },
  {
   "cell_type": "code",
   "execution_count": 41,
   "metadata": {},
   "outputs": [
    {
     "data": {
      "text/plain": [
       "(76, 9832)"
      ]
     },
     "execution_count": 41,
     "metadata": {},
     "output_type": "execute_result"
    }
   ],
   "source": [
    "X.shape"
   ]
  },
  {
   "cell_type": "code",
   "execution_count": 42,
   "metadata": {},
   "outputs": [],
   "source": [
    "X1 = X"
   ]
  },
  {
   "cell_type": "code",
   "execution_count": 43,
   "metadata": {},
   "outputs": [
    {
     "data": {
      "text/plain": [
       "(76, 10)"
      ]
     },
     "execution_count": 43,
     "metadata": {},
     "output_type": "execute_result"
    }
   ],
   "source": [
    "#Decomposing the Matrix\n",
    "from sklearn.decomposition import TruncatedSVD\n",
    "SVD = TruncatedSVD(n_components=10)\n",
    "decomposed_matrix = SVD.fit_transform(X)\n",
    "decomposed_matrix.shape"
   ]
  },
  {
   "cell_type": "code",
   "execution_count": 44,
   "metadata": {},
   "outputs": [
    {
     "data": {
      "text/plain": [
       "(76, 76)"
      ]
     },
     "execution_count": 44,
     "metadata": {},
     "output_type": "execute_result"
    }
   ],
   "source": [
    "#Correlation Matrix\n",
    "correlation_matrix = np.corrcoef(decomposed_matrix)\n",
    "correlation_matrix.shape"
   ]
  },
  {
   "cell_type": "code",
   "execution_count": 46,
   "metadata": {},
   "outputs": [
    {
     "data": {
      "text/plain": [
       "'B00000K135'"
      ]
     },
     "execution_count": 46,
     "metadata": {},
     "output_type": "execute_result"
    }
   ],
   "source": [
    "# Isolating Product ID # B00000K135 from the Correlation Matrix assuming the customer buys Product ID # B00000K135 (randomly chosen).\n",
    "X.index[75]"
   ]
  },
  {
   "cell_type": "code",
   "execution_count": 47,
   "metadata": {},
   "outputs": [
    {
     "data": {
      "text/plain": [
       "75"
      ]
     },
     "execution_count": 47,
     "metadata": {},
     "output_type": "execute_result"
    }
   ],
   "source": [
    "# Index # of product ID purchased by customer\n",
    "i = \"B00000K135\"\n",
    "product_names = list(X.index)\n",
    "product_ID = product_names.index(i)\n",
    "product_ID"
   ]
  },
  {
   "cell_type": "code",
   "execution_count": 48,
   "metadata": {},
   "outputs": [
    {
     "data": {
      "text/plain": [
       "(76,)"
      ]
     },
     "execution_count": 48,
     "metadata": {},
     "output_type": "execute_result"
    }
   ],
   "source": [
    "# Correlation for all items with the item purchased by this customer based on items rated by other customers people who bought the same product\n",
    "correlation_product_ID = correlation_matrix[product_ID]\n",
    "correlation_product_ID.shape"
   ]
  },
  {
   "cell_type": "code",
   "execution_count": 50,
   "metadata": {},
   "outputs": [
    {
     "data": {
      "text/plain": [
       "['B00000J05A', 'B00000J1U8', 'B00000J1UQ', 'B00000JBHP', 'B00000JDHV']"
      ]
     },
     "execution_count": 50,
     "metadata": {},
     "output_type": "execute_result"
    }
   ],
   "source": [
    "# Recommending top 5 highly correlated products in sequence\n",
    "Recommend = list(X.index[correlation_product_ID > 0.85])\n",
    "# Removes the item already bought by the customer\n",
    "Recommend.remove(i) \n",
    "Recommend[0:5]"
   ]
  },
  {
   "cell_type": "markdown",
   "metadata": {},
   "source": [
    "## Conclusion :\n",
    "<ul>\n",
    "    <li>Here are the top 5 products to be displayed by the recommendation system to the above customer based on the purchase history of other customers in the website.</li>\n",
    "</ul>"
   ]
  }
 ],
 "metadata": {
  "kernelspec": {
   "display_name": "Python 3",
   "language": "python",
   "name": "python3"
  },
  "language_info": {
   "codemirror_mode": {
    "name": "ipython",
    "version": 3
   },
   "file_extension": ".py",
   "mimetype": "text/x-python",
   "name": "python",
   "nbconvert_exporter": "python",
   "pygments_lexer": "ipython3",
   "version": "3.7.4"
  }
 },
 "nbformat": 4,
 "nbformat_minor": 2
}
